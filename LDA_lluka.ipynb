{
 "cells": [
  {
   "cell_type": "markdown",
   "metadata": {},
   "source": [
    "The following code is commented due to that it cannot be run from a cloned version of the repository directly as the IMDb datasets are past the GitHub 100 MB limit. To be able to reproduce this section of code refer to the README, to obtain the data and folder structure needed to do so.\n",
    "\n",
    "``` python\n",
    "# Set movie name as index\n",
    "movie_data = movie_data.set_index('movie_name')\n",
    "\n",
    "# Load IMDb datasets\n",
    "akas = pd.read_csv('./data/imdb/title_akas.tsv', sep = \"\\t\").dropna()\n",
    "ratings = pd.read_csv('./data/imdb/title_ratings.tsv', sep = \"\\t\")\n",
    "\n",
    "# Set akas titles to lowercase and strip any stray whitespace\n",
    "akas.title = akas.title.apply(lambda x: x.lower().strip())\n",
    "\n",
    "akas.drop_duplicates(subset = 'title', inplace = True)\n",
    "\n",
    "# Take only features used for future merge\n",
    "akas = akas[[\"titleId\", \"title\"]].set_index('title')\n",
    "\n",
    "# Merge and drop dup\n",
    "movie_data = pd.merge(movie_data, akas, left_index= True, right_index = True)\n",
    "\n",
    "# Merge scores based on merged IMDb indexes\n",
    "movie_data = pd.merge(movie_data, ratings, left_on = 'titleId', right_on = 'tconst')\n",
    "\n",
    "# Drop unused indexes\n",
    "movie_data.drop(['titleId', 'tconst'], axis = 1, inplace = True)\n",
    "```"
   ]
  },
  {
   "cell_type": "markdown",
   "metadata": {},
   "source": [
    "The result is saved in the following imported dataset."
   ]
  },
  {
   "cell_type": "code",
   "execution_count": 3,
   "metadata": {},
   "outputs": [
    {
     "data": {
      "text/html": [
       "<div>\n",
       "<style scoped>\n",
       "    .dataframe tbody tr th:only-of-type {\n",
       "        vertical-align: middle;\n",
       "    }\n",
       "\n",
       "    .dataframe tbody tr th {\n",
       "        vertical-align: top;\n",
       "    }\n",
       "\n",
       "    .dataframe thead th {\n",
       "        text-align: right;\n",
       "    }\n",
       "</style>\n",
       "<table border=\"1\" class=\"dataframe\">\n",
       "  <thead>\n",
       "    <tr style=\"text-align: right;\">\n",
       "      <th></th>\n",
       "      <th>movie_id</th>\n",
       "      <th>freebase_movie_id</th>\n",
       "      <th>release_date</th>\n",
       "      <th>box_office_revenue</th>\n",
       "      <th>runtime</th>\n",
       "      <th>languages</th>\n",
       "      <th>countries</th>\n",
       "      <th>genres</th>\n",
       "      <th>english language</th>\n",
       "      <th>german language</th>\n",
       "      <th>...</th>\n",
       "      <th>Romance Film</th>\n",
       "      <th>Romantic drama</th>\n",
       "      <th>Comedy film</th>\n",
       "      <th>Documentary</th>\n",
       "      <th>plot_summary</th>\n",
       "      <th>F_gender_porportion</th>\n",
       "      <th>M_gender_porportion</th>\n",
       "      <th>actor_age_at_movie_release</th>\n",
       "      <th>averageRating</th>\n",
       "      <th>numVotes</th>\n",
       "    </tr>\n",
       "  </thead>\n",
       "  <tbody>\n",
       "    <tr>\n",
       "      <th>0</th>\n",
       "      <td>30332673</td>\n",
       "      <td>/m/0crs0hx</td>\n",
       "      <td>2010-01-01</td>\n",
       "      <td>NaN</td>\n",
       "      <td>90.0</td>\n",
       "      <td>['']</td>\n",
       "      <td>['united states of america']</td>\n",
       "      <td>['Comedy', 'Comedy film', 'Sex comedy', 'Sport...</td>\n",
       "      <td>False</td>\n",
       "      <td>False</td>\n",
       "      <td>...</td>\n",
       "      <td>False</td>\n",
       "      <td>False</td>\n",
       "      <td>True</td>\n",
       "      <td>False</td>\n",
       "      <td>Two horny college guys get summer jobs at a ch...</td>\n",
       "      <td>0.666667</td>\n",
       "      <td>0.333333</td>\n",
       "      <td>38.333333</td>\n",
       "      <td>3.7</td>\n",
       "      <td>3222</td>\n",
       "    </tr>\n",
       "    <tr>\n",
       "      <th>1</th>\n",
       "      <td>4213160</td>\n",
       "      <td>/m/0bq8q8</td>\n",
       "      <td>1971-12-17</td>\n",
       "      <td>NaN</td>\n",
       "      <td>119.0</td>\n",
       "      <td>['english language']</td>\n",
       "      <td>['united states of america']</td>\n",
       "      <td>['Action', 'Action/Adventure', 'Comedy', 'Crim...</td>\n",
       "      <td>True</td>\n",
       "      <td>False</td>\n",
       "      <td>...</td>\n",
       "      <td>False</td>\n",
       "      <td>False</td>\n",
       "      <td>False</td>\n",
       "      <td>False</td>\n",
       "      <td>Set in Hamburg, West Germany, several criminal...</td>\n",
       "      <td>0.250000</td>\n",
       "      <td>0.750000</td>\n",
       "      <td>41.625000</td>\n",
       "      <td>6.3</td>\n",
       "      <td>2631</td>\n",
       "    </tr>\n",
       "    <tr>\n",
       "      <th>2</th>\n",
       "      <td>20624798</td>\n",
       "      <td>/m/05222ld</td>\n",
       "      <td>2008-01-01</td>\n",
       "      <td>NaN</td>\n",
       "      <td>78.0</td>\n",
       "      <td>['english language']</td>\n",
       "      <td>['australia', 'israel']</td>\n",
       "      <td>['Animation', 'Drama', 'Indie', 'Stop motion',...</td>\n",
       "      <td>True</td>\n",
       "      <td>False</td>\n",
       "      <td>...</td>\n",
       "      <td>False</td>\n",
       "      <td>False</td>\n",
       "      <td>False</td>\n",
       "      <td>False</td>\n",
       "      <td>The film mainly focuses on 28-year-old Dave Pe...</td>\n",
       "      <td>0.111111</td>\n",
       "      <td>0.888889</td>\n",
       "      <td>41.250000</td>\n",
       "      <td>7.2</td>\n",
       "      <td>22</td>\n",
       "    </tr>\n",
       "    <tr>\n",
       "      <th>3</th>\n",
       "      <td>2250713</td>\n",
       "      <td>/m/06z7m4</td>\n",
       "      <td>1988-01-01</td>\n",
       "      <td>NaN</td>\n",
       "      <td>98.0</td>\n",
       "      <td>['english language']</td>\n",
       "      <td>['hungary', 'united states of america']</td>\n",
       "      <td>['Coming of age', 'Drama', 'Family Drama', 'Pe...</td>\n",
       "      <td>True</td>\n",
       "      <td>False</td>\n",
       "      <td>...</td>\n",
       "      <td>False</td>\n",
       "      <td>False</td>\n",
       "      <td>False</td>\n",
       "      <td>False</td>\n",
       "      <td>The father escaped the Soviet invasion of Buda...</td>\n",
       "      <td>0.000000</td>\n",
       "      <td>1.000000</td>\n",
       "      <td>42.000000</td>\n",
       "      <td>5.9</td>\n",
       "      <td>82</td>\n",
       "    </tr>\n",
       "    <tr>\n",
       "      <th>4</th>\n",
       "      <td>25969588</td>\n",
       "      <td>/m/02pmmn1</td>\n",
       "      <td>2007-01-01</td>\n",
       "      <td>NaN</td>\n",
       "      <td>NaN</td>\n",
       "      <td>['english language']</td>\n",
       "      <td>['united states of america']</td>\n",
       "      <td>['Comedy', 'Drama', 'Indie']</td>\n",
       "      <td>True</td>\n",
       "      <td>False</td>\n",
       "      <td>...</td>\n",
       "      <td>False</td>\n",
       "      <td>False</td>\n",
       "      <td>False</td>\n",
       "      <td>False</td>\n",
       "      <td>NaN</td>\n",
       "      <td>0.200000</td>\n",
       "      <td>0.800000</td>\n",
       "      <td>42.000000</td>\n",
       "      <td>6.4</td>\n",
       "      <td>346</td>\n",
       "    </tr>\n",
       "  </tbody>\n",
       "</table>\n",
       "<p>5 rows × 44 columns</p>\n",
       "</div>"
      ],
      "text/plain": [
       "   movie_id freebase_movie_id release_date  box_office_revenue  runtime  \\\n",
       "0  30332673        /m/0crs0hx   2010-01-01                 NaN     90.0   \n",
       "1   4213160         /m/0bq8q8   1971-12-17                 NaN    119.0   \n",
       "2  20624798        /m/05222ld   2008-01-01                 NaN     78.0   \n",
       "3   2250713         /m/06z7m4   1988-01-01                 NaN     98.0   \n",
       "4  25969588        /m/02pmmn1   2007-01-01                 NaN      NaN   \n",
       "\n",
       "              languages                                countries  \\\n",
       "0                  ['']             ['united states of america']   \n",
       "1  ['english language']             ['united states of america']   \n",
       "2  ['english language']                  ['australia', 'israel']   \n",
       "3  ['english language']  ['hungary', 'united states of america']   \n",
       "4  ['english language']             ['united states of america']   \n",
       "\n",
       "                                              genres  english language  \\\n",
       "0  ['Comedy', 'Comedy film', 'Sex comedy', 'Sport...             False   \n",
       "1  ['Action', 'Action/Adventure', 'Comedy', 'Crim...              True   \n",
       "2  ['Animation', 'Drama', 'Indie', 'Stop motion',...              True   \n",
       "3  ['Coming of age', 'Drama', 'Family Drama', 'Pe...              True   \n",
       "4                       ['Comedy', 'Drama', 'Indie']              True   \n",
       "\n",
       "   german language  ...  Romance Film  Romantic drama  Comedy film  \\\n",
       "0            False  ...         False           False         True   \n",
       "1            False  ...         False           False        False   \n",
       "2            False  ...         False           False        False   \n",
       "3            False  ...         False           False        False   \n",
       "4            False  ...         False           False        False   \n",
       "\n",
       "   Documentary                                       plot_summary  \\\n",
       "0        False  Two horny college guys get summer jobs at a ch...   \n",
       "1        False  Set in Hamburg, West Germany, several criminal...   \n",
       "2        False  The film mainly focuses on 28-year-old Dave Pe...   \n",
       "3        False  The father escaped the Soviet invasion of Buda...   \n",
       "4        False                                                NaN   \n",
       "\n",
       "   F_gender_porportion  M_gender_porportion  actor_age_at_movie_release  \\\n",
       "0             0.666667             0.333333                   38.333333   \n",
       "1             0.250000             0.750000                   41.625000   \n",
       "2             0.111111             0.888889                   41.250000   \n",
       "3             0.000000             1.000000                   42.000000   \n",
       "4             0.200000             0.800000                   42.000000   \n",
       "\n",
       "   averageRating  numVotes  \n",
       "0            3.7      3222  \n",
       "1            6.3      2631  \n",
       "2            7.2        22  \n",
       "3            5.9        82  \n",
       "4            6.4       346  \n",
       "\n",
       "[5 rows x 44 columns]"
      ]
     },
     "execution_count": 3,
     "metadata": {},
     "output_type": "execute_result"
    }
   ],
   "source": [
    "import pandas as pd\n",
    "movie_data = pd.read_csv('./data/movie_data_imdbscores.csv')\n",
    "movie_data.head()"
   ]
  },
  {
   "cell_type": "markdown",
   "metadata": {},
   "source": [
    "The final dataset features is as follows:"
   ]
  },
  {
   "cell_type": "code",
   "execution_count": 4,
   "metadata": {},
   "outputs": [
    {
     "data": {
      "text/plain": [
       "Index(['movie_id', 'freebase_movie_id', 'release_date', 'box_office_revenue',\n",
       "       'runtime', 'languages', 'countries', 'genres', 'english language',\n",
       "       'german language', 'silent film language', 'spanish language',\n",
       "       'japanese language', 'italian language', 'tamil language',\n",
       "       'hindi language', 'malayalam language', 'mandarin language',\n",
       "       'french language', 'Action', 'Adventure', 'Horror', 'Thriller', 'Drama',\n",
       "       'Crime Fiction', 'Black-and-white', 'Comedy', 'Indie', 'Short Film',\n",
       "       'Silent film', 'Family Film', 'World cinema', 'Musical',\n",
       "       'Action/Adventure', 'Romance Film', 'Romantic drama', 'Comedy film',\n",
       "       'Documentary', 'plot_summary', 'F_gender_porportion',\n",
       "       'M_gender_porportion', 'actor_age_at_movie_release', 'averageRating',\n",
       "       'numVotes'],\n",
       "      dtype='object')"
      ]
     },
     "execution_count": 4,
     "metadata": {},
     "output_type": "execute_result"
    }
   ],
   "source": [
    "movie_data.columns"
   ]
  },
  {
   "cell_type": "markdown",
   "metadata": {},
   "source": [
    "We proceed to drop unused variables for the further analyzes, such as features already processed for feature extraction, features with high missing values density (such as box office revenue) and repetitive features such as gender proportion (we only keep one)."
   ]
  },
  {
   "cell_type": "code",
   "execution_count": 5,
   "metadata": {},
   "outputs": [],
   "source": [
    "movie_data = movie_data.drop([\"freebase_movie_id\", \"languages\", \"genres\", \"box_office_revenue\"], axis = 1)"
   ]
  },
  {
   "cell_type": "code",
   "execution_count": 6,
   "metadata": {},
   "outputs": [
    {
     "data": {
      "text/html": [
       "<div>\n",
       "<style scoped>\n",
       "    .dataframe tbody tr th:only-of-type {\n",
       "        vertical-align: middle;\n",
       "    }\n",
       "\n",
       "    .dataframe tbody tr th {\n",
       "        vertical-align: top;\n",
       "    }\n",
       "\n",
       "    .dataframe thead th {\n",
       "        text-align: right;\n",
       "    }\n",
       "</style>\n",
       "<table border=\"1\" class=\"dataframe\">\n",
       "  <thead>\n",
       "    <tr style=\"text-align: right;\">\n",
       "      <th></th>\n",
       "      <th>movie_id</th>\n",
       "      <th>release_date</th>\n",
       "      <th>runtime</th>\n",
       "      <th>countries</th>\n",
       "      <th>english language</th>\n",
       "      <th>german language</th>\n",
       "      <th>silent film language</th>\n",
       "      <th>spanish language</th>\n",
       "      <th>japanese language</th>\n",
       "      <th>italian language</th>\n",
       "      <th>...</th>\n",
       "      <th>Romance Film</th>\n",
       "      <th>Romantic drama</th>\n",
       "      <th>Comedy film</th>\n",
       "      <th>Documentary</th>\n",
       "      <th>plot_summary</th>\n",
       "      <th>F_gender_porportion</th>\n",
       "      <th>M_gender_porportion</th>\n",
       "      <th>actor_age_at_movie_release</th>\n",
       "      <th>averageRating</th>\n",
       "      <th>numVotes</th>\n",
       "    </tr>\n",
       "  </thead>\n",
       "  <tbody>\n",
       "    <tr>\n",
       "      <th>0</th>\n",
       "      <td>30332673</td>\n",
       "      <td>2010-01-01</td>\n",
       "      <td>90.0</td>\n",
       "      <td>['united states of america']</td>\n",
       "      <td>False</td>\n",
       "      <td>False</td>\n",
       "      <td>False</td>\n",
       "      <td>False</td>\n",
       "      <td>False</td>\n",
       "      <td>False</td>\n",
       "      <td>...</td>\n",
       "      <td>False</td>\n",
       "      <td>False</td>\n",
       "      <td>True</td>\n",
       "      <td>False</td>\n",
       "      <td>Two horny college guys get summer jobs at a ch...</td>\n",
       "      <td>0.666667</td>\n",
       "      <td>0.333333</td>\n",
       "      <td>38.333333</td>\n",
       "      <td>3.7</td>\n",
       "      <td>3222</td>\n",
       "    </tr>\n",
       "    <tr>\n",
       "      <th>1</th>\n",
       "      <td>4213160</td>\n",
       "      <td>1971-12-17</td>\n",
       "      <td>119.0</td>\n",
       "      <td>['united states of america']</td>\n",
       "      <td>True</td>\n",
       "      <td>False</td>\n",
       "      <td>False</td>\n",
       "      <td>False</td>\n",
       "      <td>False</td>\n",
       "      <td>False</td>\n",
       "      <td>...</td>\n",
       "      <td>False</td>\n",
       "      <td>False</td>\n",
       "      <td>False</td>\n",
       "      <td>False</td>\n",
       "      <td>Set in Hamburg, West Germany, several criminal...</td>\n",
       "      <td>0.250000</td>\n",
       "      <td>0.750000</td>\n",
       "      <td>41.625000</td>\n",
       "      <td>6.3</td>\n",
       "      <td>2631</td>\n",
       "    </tr>\n",
       "    <tr>\n",
       "      <th>2</th>\n",
       "      <td>20624798</td>\n",
       "      <td>2008-01-01</td>\n",
       "      <td>78.0</td>\n",
       "      <td>['australia', 'israel']</td>\n",
       "      <td>True</td>\n",
       "      <td>False</td>\n",
       "      <td>False</td>\n",
       "      <td>False</td>\n",
       "      <td>False</td>\n",
       "      <td>False</td>\n",
       "      <td>...</td>\n",
       "      <td>False</td>\n",
       "      <td>False</td>\n",
       "      <td>False</td>\n",
       "      <td>False</td>\n",
       "      <td>The film mainly focuses on 28-year-old Dave Pe...</td>\n",
       "      <td>0.111111</td>\n",
       "      <td>0.888889</td>\n",
       "      <td>41.250000</td>\n",
       "      <td>7.2</td>\n",
       "      <td>22</td>\n",
       "    </tr>\n",
       "    <tr>\n",
       "      <th>3</th>\n",
       "      <td>2250713</td>\n",
       "      <td>1988-01-01</td>\n",
       "      <td>98.0</td>\n",
       "      <td>['hungary', 'united states of america']</td>\n",
       "      <td>True</td>\n",
       "      <td>False</td>\n",
       "      <td>False</td>\n",
       "      <td>False</td>\n",
       "      <td>False</td>\n",
       "      <td>False</td>\n",
       "      <td>...</td>\n",
       "      <td>False</td>\n",
       "      <td>False</td>\n",
       "      <td>False</td>\n",
       "      <td>False</td>\n",
       "      <td>The father escaped the Soviet invasion of Buda...</td>\n",
       "      <td>0.000000</td>\n",
       "      <td>1.000000</td>\n",
       "      <td>42.000000</td>\n",
       "      <td>5.9</td>\n",
       "      <td>82</td>\n",
       "    </tr>\n",
       "    <tr>\n",
       "      <th>4</th>\n",
       "      <td>25969588</td>\n",
       "      <td>2007-01-01</td>\n",
       "      <td>NaN</td>\n",
       "      <td>['united states of america']</td>\n",
       "      <td>True</td>\n",
       "      <td>False</td>\n",
       "      <td>False</td>\n",
       "      <td>False</td>\n",
       "      <td>False</td>\n",
       "      <td>False</td>\n",
       "      <td>...</td>\n",
       "      <td>False</td>\n",
       "      <td>False</td>\n",
       "      <td>False</td>\n",
       "      <td>False</td>\n",
       "      <td>NaN</td>\n",
       "      <td>0.200000</td>\n",
       "      <td>0.800000</td>\n",
       "      <td>42.000000</td>\n",
       "      <td>6.4</td>\n",
       "      <td>346</td>\n",
       "    </tr>\n",
       "  </tbody>\n",
       "</table>\n",
       "<p>5 rows × 40 columns</p>\n",
       "</div>"
      ],
      "text/plain": [
       "   movie_id release_date  runtime                                countries  \\\n",
       "0  30332673   2010-01-01     90.0             ['united states of america']   \n",
       "1   4213160   1971-12-17    119.0             ['united states of america']   \n",
       "2  20624798   2008-01-01     78.0                  ['australia', 'israel']   \n",
       "3   2250713   1988-01-01     98.0  ['hungary', 'united states of america']   \n",
       "4  25969588   2007-01-01      NaN             ['united states of america']   \n",
       "\n",
       "   english language  german language  silent film language  spanish language  \\\n",
       "0             False            False                 False             False   \n",
       "1              True            False                 False             False   \n",
       "2              True            False                 False             False   \n",
       "3              True            False                 False             False   \n",
       "4              True            False                 False             False   \n",
       "\n",
       "   japanese language  italian language  ...  Romance Film  Romantic drama  \\\n",
       "0              False             False  ...         False           False   \n",
       "1              False             False  ...         False           False   \n",
       "2              False             False  ...         False           False   \n",
       "3              False             False  ...         False           False   \n",
       "4              False             False  ...         False           False   \n",
       "\n",
       "   Comedy film  Documentary  \\\n",
       "0         True        False   \n",
       "1        False        False   \n",
       "2        False        False   \n",
       "3        False        False   \n",
       "4        False        False   \n",
       "\n",
       "                                        plot_summary  F_gender_porportion  \\\n",
       "0  Two horny college guys get summer jobs at a ch...             0.666667   \n",
       "1  Set in Hamburg, West Germany, several criminal...             0.250000   \n",
       "2  The film mainly focuses on 28-year-old Dave Pe...             0.111111   \n",
       "3  The father escaped the Soviet invasion of Buda...             0.000000   \n",
       "4                                                NaN             0.200000   \n",
       "\n",
       "   M_gender_porportion  actor_age_at_movie_release  averageRating  numVotes  \n",
       "0             0.333333                   38.333333            3.7      3222  \n",
       "1             0.750000                   41.625000            6.3      2631  \n",
       "2             0.888889                   41.250000            7.2        22  \n",
       "3             1.000000                   42.000000            5.9        82  \n",
       "4             0.800000                   42.000000            6.4       346  \n",
       "\n",
       "[5 rows x 40 columns]"
      ]
     },
     "execution_count": 6,
     "metadata": {},
     "output_type": "execute_result"
    }
   ],
   "source": [
    "movie_data.head()"
   ]
  },
  {
   "cell_type": "code",
   "execution_count": 7,
   "metadata": {},
   "outputs": [
    {
     "data": {
      "text/plain": [
       "Index(['movie_id', 'release_date', 'runtime', 'countries', 'english language',\n",
       "       'german language', 'silent film language', 'spanish language',\n",
       "       'japanese language', 'italian language', 'tamil language',\n",
       "       'hindi language', 'malayalam language', 'mandarin language',\n",
       "       'french language', 'Action', 'Adventure', 'Horror', 'Thriller', 'Drama',\n",
       "       'Crime Fiction', 'Black-and-white', 'Comedy', 'Indie', 'Short Film',\n",
       "       'Silent film', 'Family Film', 'World cinema', 'Musical',\n",
       "       'Action/Adventure', 'Romance Film', 'Romantic drama', 'Comedy film',\n",
       "       'Documentary', 'plot_summary', 'F_gender_porportion',\n",
       "       'M_gender_porportion', 'actor_age_at_movie_release', 'averageRating',\n",
       "       'numVotes'],\n",
       "      dtype='object')"
      ]
     },
     "execution_count": 7,
     "metadata": {},
     "output_type": "execute_result"
    }
   ],
   "source": [
    "movie_data.columns"
   ]
  },
  {
   "cell_type": "code",
   "execution_count": 8,
   "metadata": {},
   "outputs": [
    {
     "data": {
      "text/plain": [
       "\"Two horny college guys get summer jobs at a cheerleader camp for the summer. Friendly and naive Michael is mistaken as a homosexual even though he isn't. World class jerk Andy has an addiction to masturbation and also tries to hook up with a different girl every night. Michael and Andy help out head cheerleader Sophie form her own cheerleading team. A group of strippers end up becoming cheerleaders after Michael and Andy have a run-in with them at a local gentlemen's club. A college scholarship is offered to the group of cheerleaders that wins the climatic team competition.\""
      ]
     },
     "execution_count": 8,
     "metadata": {},
     "output_type": "execute_result"
    }
   ],
   "source": [
    "movie_data.plot_summary[0]"
   ]
  },
  {
   "cell_type": "code",
   "execution_count": null,
   "metadata": {},
   "outputs": [],
   "source": []
  },
  {
   "cell_type": "code",
   "execution_count": 9,
   "metadata": {},
   "outputs": [],
   "source": [
    "import nltk\n",
    "from nltk.corpus import stopwords\n",
    "from nltk.stem import WordNetLemmatizer\n",
    "from collections import Counter\n",
    "import spacy\n",
    "import string \n",
    "import re\n",
    "from sklearn.feature_extraction.text import CountVectorizer\n",
    "from sklearn.feature_extraction.text import TfidfTransformer\n",
    "from sklearn.decomposition import LatentDirichletAllocation as LDA\n",
    "\n",
    "# Gensim\n",
    "import gensim\n",
    "import gensim.corpora as corpora\n",
    "from gensim.utils import simple_preprocess\n",
    "from gensim.models import CoherenceModel\n",
    "\n",
    "\n",
    "import matplotlib.pyplot as plt\n",
    "%matplotlib inline\n",
    "\n",
    "import pyLDAvis\n",
    "import pyLDAvis.gensim_models as gensimvis"
   ]
  },
  {
   "cell_type": "code",
   "execution_count": 10,
   "metadata": {},
   "outputs": [],
   "source": [
    "sp = spacy.load('en_core_web_sm')\n",
    "spacy_stopwords = sp.Defaults.stop_words\n",
    "stopwords_dict = Counter(spacy_stopwords)"
   ]
  },
  {
   "cell_type": "code",
   "execution_count": 11,
   "metadata": {},
   "outputs": [
    {
     "name": "stderr",
     "output_type": "stream",
     "text": [
      "<>:13: DeprecationWarning: invalid escape sequence \\.\n",
      "<>:13: DeprecationWarning: invalid escape sequence \\.\n",
      "C:\\Users\\User\\AppData\\Local\\Temp\\ipykernel_14192\\708893003.py:13: DeprecationWarning: invalid escape sequence \\.\n",
      "  text = re.sub('\\.|,*','', text)\n"
     ]
    }
   ],
   "source": [
    "\n",
    "lemmatizer =WordNetLemmatizer()\n",
    "#cleaning \"pipeline\"  \n",
    "def clean_summary(text, stopwords, lemmatization):\n",
    "\n",
    "      \n",
    "      #perform casefolding\n",
    "      text =text.casefold()\n",
    "\n",
    "      #remove punctuations for each twitter\n",
    "      text = ' '.join(text_ for text_ in text.split() if text_ not in string.punctuation)\n",
    "\n",
    "      #remove multiply commas and dots everywhere in tweets      \n",
    "      text = re.sub('\\.|,*','', text)\n",
    "      \n",
    "      if stopwords:\n",
    "          #remove the stopwords\n",
    "          text = ' '.join([word for word in text.split() if word not in stopwords_dict])         \n",
    "            \n",
    "      if lemmatization :\n",
    "          #perform lemmatization\n",
    "          text = ' '.join(lemmatizer.lemmatize(text_)  for text_ in text.split() )\n",
    "\n",
    "      #remove the tokens length less than 2 again if some may appear after the above preprocessing\n",
    "      text = ' '.join(text_ for text_ in text.split() if len(text_)>2)\n",
    "      \n",
    "      return  text\n"
   ]
  },
  {
   "cell_type": "code",
   "execution_count": 12,
   "metadata": {},
   "outputs": [
    {
     "data": {
      "text/plain": [
       "18494"
      ]
     },
     "execution_count": 12,
     "metadata": {},
     "output_type": "execute_result"
    }
   ],
   "source": [
    "#there are 18494 nan plot summaries\n",
    "movie_data.plot_summary.isna().sum()"
   ]
  },
  {
   "cell_type": "code",
   "execution_count": 13,
   "metadata": {},
   "outputs": [],
   "source": [
    "movie_topics = movie_data[pd.notnull(movie_data['plot_summary'])]"
   ]
  },
  {
   "cell_type": "code",
   "execution_count": 14,
   "metadata": {},
   "outputs": [
    {
     "data": {
      "text/plain": [
       "31291"
      ]
     },
     "execution_count": 14,
     "metadata": {},
     "output_type": "execute_result"
    }
   ],
   "source": [
    "len(movie_topics.plot_summary) # after we drop the movies that doesn't have summaries"
   ]
  },
  {
   "cell_type": "code",
   "execution_count": 15,
   "metadata": {},
   "outputs": [
    {
     "name": "stderr",
     "output_type": "stream",
     "text": [
      "C:\\Users\\User\\AppData\\Local\\Temp\\ipykernel_14192\\2512033726.py:1: SettingWithCopyWarning: \n",
      "A value is trying to be set on a copy of a slice from a DataFrame.\n",
      "Try using .loc[row_indexer,col_indexer] = value instead\n",
      "\n",
      "See the caveats in the documentation: https://pandas.pydata.org/pandas-docs/stable/user_guide/indexing.html#returning-a-view-versus-a-copy\n",
      "  movie_topics.plot_summary=movie_topics.plot_summary.apply(lambda x : clean_summary(x,stopwords=True, lemmatization=True))\n"
     ]
    }
   ],
   "source": [
    "movie_topics.plot_summary=movie_topics.plot_summary.apply(lambda x : clean_summary(x,stopwords=True, lemmatization=True))"
   ]
  },
  {
   "cell_type": "code",
   "execution_count": 16,
   "metadata": {},
   "outputs": [
    {
     "name": "stderr",
     "output_type": "stream",
     "text": [
      "C:\\Users\\User\\AppData\\Local\\Temp\\ipykernel_14192\\2042264280.py:1: SettingWithCopyWarning: \n",
      "A value is trying to be set on a copy of a slice from a DataFrame.\n",
      "Try using .loc[row_indexer,col_indexer] = value instead\n",
      "\n",
      "See the caveats in the documentation: https://pandas.pydata.org/pandas-docs/stable/user_guide/indexing.html#returning-a-view-versus-a-copy\n",
      "  movie_topics.plot_summary=movie_topics.plot_summary.apply(lambda x : gensim.utils.simple_preprocess(str(x), deacc=True))\n"
     ]
    }
   ],
   "source": [
    "movie_topics.plot_summary=movie_topics.plot_summary.apply(lambda x : gensim.utils.simple_preprocess(str(x), deacc=True))\n"
   ]
  },
  {
   "cell_type": "code",
   "execution_count": 17,
   "metadata": {},
   "outputs": [],
   "source": [
    "summaries_corpus=movie_topics.plot_summary.values.tolist()"
   ]
  },
  {
   "cell_type": "code",
   "execution_count": 18,
   "metadata": {},
   "outputs": [],
   "source": [
    "#\n",
    "#count_vectors = CountVectorizer()\n",
    "#x_counts = count_vectors.fit_transform(list(summaries_corpus))\n",
    "#x_counts.todense()\n",
    "#len(count_vectors.get_feature_names())\n",
    "#tfidf_transformer = TfidfTransformer()\n",
    "#x_tfidf = tfidf_transformer.fit_transform(x_counts)\n",
    "#dimension = 5\n",
    "#lda = LDA(n_components = dimension)\n",
    "#lda_array = lda.fit_transform(x_tfidf)\n"
   ]
  },
  {
   "cell_type": "code",
   "execution_count": 19,
   "metadata": {},
   "outputs": [
    {
     "data": {
      "text/plain": [
       "[['horny',\n",
       "  'college',\n",
       "  'guy',\n",
       "  'summer',\n",
       "  'job',\n",
       "  'cheerleader',\n",
       "  'camp',\n",
       "  'summer',\n",
       "  'friendly',\n",
       "  'naive',\n",
       "  'michael',\n",
       "  'mistaken',\n",
       "  'homosexual',\n",
       "  'isn',\n",
       "  'world',\n",
       "  'class',\n",
       "  'jerk',\n",
       "  'andy',\n",
       "  'addiction',\n",
       "  'masturbation',\n",
       "  'try',\n",
       "  'hook',\n",
       "  'different',\n",
       "  'girl',\n",
       "  'night',\n",
       "  'michael',\n",
       "  'andy',\n",
       "  'help',\n",
       "  'head',\n",
       "  'cheerleader',\n",
       "  'sophie',\n",
       "  'form',\n",
       "  'cheerleading',\n",
       "  'team',\n",
       "  'group',\n",
       "  'stripper',\n",
       "  'end',\n",
       "  'cheerleader',\n",
       "  'michael',\n",
       "  'andy',\n",
       "  'run',\n",
       "  'in',\n",
       "  'local',\n",
       "  'gentlemen',\n",
       "  'club',\n",
       "  'college',\n",
       "  'scholarship',\n",
       "  'offered',\n",
       "  'group',\n",
       "  'cheerleader',\n",
       "  'win',\n",
       "  'climatic',\n",
       "  'team',\n",
       "  'competition']]"
      ]
     },
     "execution_count": 19,
     "metadata": {},
     "output_type": "execute_result"
    }
   ],
   "source": [
    "summaries_corpus[:1]"
   ]
  },
  {
   "cell_type": "code",
   "execution_count": 20,
   "metadata": {},
   "outputs": [],
   "source": [
    "#enrich our tokens by creating bigrams for each summary\n",
    "\n",
    "def make_bigrams(summaries): \n",
    "    bigram = gensim.models.Phrases(summaries_corpus, min_count=5, threshold=100) # default parameters \n",
    "    bigram_model=gensim.models.phrases.Phraser(bigram) #create the model\n",
    "    return [bigram_model[summary] for summary in summaries] # return the output of the bigram model for each summary\n",
    "\n",
    "#for trigrams \n",
    "#trigram = gensim.models.Phrases(bigram[data_words], threshold=100)  \n",
    "#trigram_model=gensim.models.phrases.Phraser(trigram) #create the model\n",
    "#return [trigram_mod[bigram_model[summary]] for summary in summaries]\n",
    "\n",
    "\n",
    "summaries_corpus=make_bigrams(summaries_corpus)"
   ]
  },
  {
   "cell_type": "code",
   "execution_count": 21,
   "metadata": {},
   "outputs": [
    {
     "data": {
      "text/plain": [
       "['introductory',\n",
       " 'storyline',\n",
       " 'involves',\n",
       " 'hitman',\n",
       " 'lee',\n",
       " 'wood',\n",
       " 'dosmo',\n",
       " 'pizzo',\n",
       " 'kill',\n",
       " 'roy',\n",
       " 'foxx',\n",
       " 'lie',\n",
       " 'bed',\n",
       " 'inject',\n",
       " 'roy',\n",
       " 'ex',\n",
       " 'wife',\n",
       " 'becky',\n",
       " 'tranquilizer',\n",
       " 'day',\n",
       " 'afterward',\n",
       " 'wood',\n",
       " 'turn',\n",
       " 'pizzo',\n",
       " 'shooting',\n",
       " 'blowing',\n",
       " 'car',\n",
       " 'order',\n",
       " 'set',\n",
       " 'fall',\n",
       " 'guy',\n",
       " 'wood',\n",
       " 'flees',\n",
       " 'scene',\n",
       " 'norwegian',\n",
       " 'girlfriend',\n",
       " 'helga',\n",
       " 'dosmo',\n",
       " 'survives',\n",
       " 'seeking',\n",
       " 'shelter',\n",
       " 'house',\n",
       " 'allan',\n",
       " 'hopper',\n",
       " 'abrasive',\n",
       " 'art_dealer',\n",
       " 'suffers',\n",
       " 'kidney',\n",
       " 'stone',\n",
       " 'take',\n",
       " 'hopper',\n",
       " 'abused',\n",
       " 'assistant',\n",
       " 'susan',\n",
       " 'parish',\n",
       " 'hostage',\n",
       " 'completely',\n",
       " 'unaware',\n",
       " 'fact',\n",
       " 'hopper',\n",
       " 'called',\n",
       " 'older',\n",
       " 'sister',\n",
       " 'audrey',\n",
       " 'house',\n",
       " 'medical',\n",
       " 'help',\n",
       " 'way',\n",
       " 'brother',\n",
       " 'house',\n",
       " 'audrey',\n",
       " 'nurse',\n",
       " 'pick',\n",
       " 'teddy',\n",
       " 'pepper',\n",
       " 'producer',\n",
       " 'contemplating_suicide',\n",
       " 'becky',\n",
       " 'awakens',\n",
       " 'horror',\n",
       " 'discovers',\n",
       " 'roy',\n",
       " 'body',\n",
       " 'bed',\n",
       " 'run',\n",
       " 'house',\n",
       " 'flag',\n",
       " 'vice',\n",
       " 'detective',\n",
       " 'happen',\n",
       " 'driving',\n",
       " 'initially',\n",
       " 'feel',\n",
       " 'sympathetic',\n",
       " 'wes',\n",
       " 'taylor',\n",
       " 'begin',\n",
       " 'feel',\n",
       " 'suspicious',\n",
       " 'wondering',\n",
       " 'becky',\n",
       " 'know',\n",
       " 'telling',\n",
       " 'later',\n",
       " 'revealed',\n",
       " 'becky',\n",
       " 'hired',\n",
       " 'wood',\n",
       " 'dosmo',\n",
       " 'kill',\n",
       " 'roy',\n",
       " 'becky',\n",
       " 'unaware',\n",
       " 'wood',\n",
       " 'planned',\n",
       " 'kill',\n",
       " 'roy',\n",
       " 'house',\n",
       " 'stashed',\n",
       " 'payment',\n",
       " 'house',\n",
       " 'divergent',\n",
       " 'path',\n",
       " 'character',\n",
       " 'cross',\n",
       " 'deadly',\n",
       " 'consequence',\n",
       " 'wood',\n",
       " 'decides',\n",
       " 'house',\n",
       " 'money']"
      ]
     },
     "execution_count": 21,
     "metadata": {},
     "output_type": "execute_result"
    }
   ],
   "source": [
    "summaries_corpus[110]"
   ]
  },
  {
   "cell_type": "code",
   "execution_count": 22,
   "metadata": {},
   "outputs": [],
   "source": [
    "#create the dictionary( a mapping between words and their integer ids) and corpus for LDA analaysis based on the preprocesseed summaries\n",
    "dictionary = corpora.Dictionary(summaries_corpus)\n",
    "\n",
    "#so for each word we have already mapped it in tuple of word id and frequency , so a summary is a bag of these tuples\n",
    "corpus = [dictionary.doc2bow(summary) for summary in summaries_corpus]"
   ]
  },
  {
   "cell_type": "code",
   "execution_count": 23,
   "metadata": {},
   "outputs": [
    {
     "data": {
      "text/plain": [
       "31291"
      ]
     },
     "execution_count": 23,
     "metadata": {},
     "output_type": "execute_result"
    }
   ],
   "source": [
    "len(summaries_corpus)"
   ]
  },
  {
   "cell_type": "code",
   "execution_count": 24,
   "metadata": {},
   "outputs": [
    {
     "data": {
      "text/plain": [
       "120627"
      ]
     },
     "execution_count": 24,
     "metadata": {},
     "output_type": "execute_result"
    }
   ],
   "source": [
    "len(dictionary)"
   ]
  },
  {
   "cell_type": "code",
   "execution_count": 25,
   "metadata": {},
   "outputs": [
    {
     "name": "stdout",
     "output_type": "stream",
     "text": [
      "[(6, 1), (18, 1), (31, 1), (42, 1), (43, 1), (44, 1), (45, 1), (46, 1), (47, 1), (48, 1), (49, 5), (50, 1), (51, 2), (52, 2), (53, 1), (54, 1), (55, 1), (56, 1), (57, 1), (58, 1), (59, 3), (60, 1), (61, 1), (62, 5), (63, 3), (64, 1), (65, 1), (66, 2), (67, 1), (68, 1), (69, 2), (70, 1), (71, 1), (72, 1), (73, 1), (74, 1), (75, 1), (76, 1), (77, 1), (78, 1), (79, 1), (80, 1), (81, 1), (82, 1), (83, 1), (84, 1), (85, 2), (86, 1), (87, 1), (88, 1), (89, 3), (90, 1), (91, 1), (92, 1), (93, 1), (94, 10), (95, 1), (96, 1), (97, 1), (98, 1), (99, 1), (100, 1), (101, 2), (102, 1), (103, 1), (104, 1), (105, 1), (106, 1), (107, 1), (108, 1), (109, 1), (110, 1), (111, 1), (112, 2), (113, 1), (114, 1), (115, 1), (116, 1), (117, 1), (118, 1), (119, 2), (120, 1), (121, 1), (122, 1), (123, 2), (124, 1), (125, 1), (126, 1), (127, 3), (128, 1), (129, 1), (130, 1), (131, 1), (132, 1), (133, 1), (134, 1), (135, 1), (136, 1), (137, 1), (138, 1), (139, 1), (140, 1), (141, 1), (142, 1), (143, 1), (144, 1), (145, 1), (146, 1), (147, 17), (148, 1), (149, 4), (150, 1), (151, 1), (152, 1), (153, 1), (154, 1), (155, 2), (156, 1), (157, 1), (158, 1), (159, 1), (160, 2), (161, 1), (162, 2), (163, 1), (164, 2), (165, 1), (166, 5), (167, 1), (168, 1), (169, 1), (170, 2), (171, 2), (172, 1), (173, 1), (174, 1), (175, 1), (176, 1), (177, 1), (178, 1), (179, 1), (180, 1), (181, 1), (182, 1), (183, 1), (184, 1), (185, 1), (186, 1), (187, 1), (188, 1), (189, 1), (190, 1), (191, 1), (192, 1), (193, 1), (194, 1), (195, 1), (196, 1), (197, 1), (198, 1), (199, 1), (200, 2), (201, 6), (202, 1), (203, 1), (204, 1), (205, 1), (206, 1), (207, 1), (208, 1), (209, 1), (210, 1), (211, 1), (212, 1), (213, 1), (214, 1), (215, 1), (216, 1), (217, 1), (218, 1), (219, 1), (220, 1), (221, 2), (222, 1), (223, 1), (224, 1), (225, 5), (226, 1), (227, 1), (228, 1), (229, 1), (230, 1), (231, 1), (232, 1), (233, 1), (234, 3), (235, 1), (236, 1), (237, 1), (238, 1), (239, 1), (240, 2), (241, 1), (242, 1), (243, 1), (244, 1), (245, 1), (246, 1), (247, 1), (248, 1)]\n"
     ]
    }
   ],
   "source": [
    "print(corpus[1])\n"
   ]
  },
  {
   "cell_type": "code",
   "execution_count": 26,
   "metadata": {},
   "outputs": [
    {
     "data": {
      "text/plain": [
       "[[('addiction', 1),\n",
       "  ('andy', 3),\n",
       "  ('camp', 1),\n",
       "  ('cheerleader', 4),\n",
       "  ('cheerleading', 1),\n",
       "  ('class', 1),\n",
       "  ('climatic', 1),\n",
       "  ('college', 2),\n",
       "  ('competition', 1),\n",
       "  ('different', 1),\n",
       "  ('end', 1),\n",
       "  ('form', 1),\n",
       "  ('friendly', 1),\n",
       "  ('gentlemen_club', 1),\n",
       "  ('girl', 1),\n",
       "  ('group', 2),\n",
       "  ('guy', 1),\n",
       "  ('head', 1),\n",
       "  ('help', 1),\n",
       "  ('homosexual', 1),\n",
       "  ('hook', 1),\n",
       "  ('horny', 1),\n",
       "  ('in', 1),\n",
       "  ('isn', 1),\n",
       "  ('jerk', 1),\n",
       "  ('job', 1),\n",
       "  ('local', 1),\n",
       "  ('masturbation', 1),\n",
       "  ('michael', 3),\n",
       "  ('mistaken', 1),\n",
       "  ('naive', 1),\n",
       "  ('night', 1),\n",
       "  ('offered', 1),\n",
       "  ('run', 1),\n",
       "  ('scholarship', 1),\n",
       "  ('sophie', 1),\n",
       "  ('stripper', 1),\n",
       "  ('summer', 2),\n",
       "  ('team', 2),\n",
       "  ('try', 1),\n",
       "  ('win', 1),\n",
       "  ('world', 1)]]"
      ]
     },
     "execution_count": 26,
     "metadata": {},
     "output_type": "execute_result"
    }
   ],
   "source": [
    "[[(dictionary[word_id],frequence) for word_id, frequence in cp] for cp in corpus[:1]]"
   ]
  },
  {
   "cell_type": "code",
   "execution_count": 27,
   "metadata": {},
   "outputs": [],
   "source": [
    "#LDA implementation using the previous corpus \n",
    "lda_model = gensim.models.ldamodel.LdaModel(corpus=corpus,\n",
    "                                           id2word=dictionary,\n",
    "                                           num_topics=4, \n",
    "                                           random_state=100,\n",
    "                                           update_every=1,# how often the model parameters should be updated\n",
    "                                           chunksize=100, # number of summaries to be used in each training chunk\n",
    "                                           passes=10, # training passes\n",
    "                                           alpha='auto', # hyperparameter\n",
    "                                           per_word_topics=True)\n",
    "#so the LDA find the maximum likelihood distribution of words and summaries over topics(set to 10) "
   ]
  },
  {
   "cell_type": "code",
   "execution_count": 28,
   "metadata": {},
   "outputs": [
    {
     "data": {
      "text/plain": [
       "[(0,\n",
       "  '0.007*\"life\" + 0.007*\"father\" + 0.007*\"love\" + 0.006*\"film\" + 0.006*\"family\" + 0.006*\"mother\" + 0.006*\"friend\" + 0.006*\"find\" + 0.005*\"home\" + 0.005*\"tell\"'),\n",
       " (1,\n",
       "  '0.006*\"men\" + 0.005*\"kill\" + 0.004*\"soldier\" + 0.004*\"order\" + 0.004*\"army\" + 0.004*\"killed\" + 0.004*\"war\" + 0.004*\"police\" + 0.004*\"village\" + 0.004*\"escape\"'),\n",
       " (2,\n",
       "  '0.007*\"tom\" + 0.007*\"jack\" + 0.006*\"money\" + 0.006*\"car\" + 0.006*\"joe\" + 0.006*\"frank\" + 0.005*\"chris\" + 0.005*\"police\" + 0.005*\"town\" + 0.005*\"jim\"'),\n",
       " (3,\n",
       "  '0.010*\"find\" + 0.006*\"kill\" + 0.005*\"escape\" + 0.005*\"tell\" + 0.004*\"body\" + 0.004*\"try\" + 0.004*\"man\" + 0.004*\"house\" + 0.004*\"car\" + 0.004*\"begin\"')]"
      ]
     },
     "execution_count": 28,
     "metadata": {},
     "output_type": "execute_result"
    }
   ],
   "source": [
    "lda_model.print_topics()"
   ]
  },
  {
   "cell_type": "code",
   "execution_count": 29,
   "metadata": {},
   "outputs": [
    {
     "name": "stdout",
     "output_type": "stream",
     "text": [
      "\n",
      "Perplexity:  -9.304194553748708\n",
      "\n",
      "Coherence Score:  0.3681100788222885\n"
     ]
    }
   ],
   "source": [
    "# Compute Perplexity\n",
    "print('\\nPerplexity: ', lda_model.log_perplexity(corpus))  # a measure of how good the model is. lower the better.\n",
    "\n",
    "# Compute Coherence Score\n",
    "coherence_model_lda = CoherenceModel(model=lda_model, texts=summaries_corpus, dictionary=dictionary, coherence='c_v')\n",
    "coherence_lda = coherence_model_lda.get_coherence()\n",
    "print('\\nCoherence Score: ', coherence_lda)"
   ]
  },
  {
   "cell_type": "code",
   "execution_count": 30,
   "metadata": {},
   "outputs": [
    {
     "name": "stderr",
     "output_type": "stream",
     "text": [
      "C:\\Users\\User\\anaconda3\\lib\\site-packages\\pyLDAvis\\_prepare.py:246: FutureWarning: In a future version of pandas all arguments of DataFrame.drop except for the argument 'labels' will be keyword-only.\n",
      "  default_term_info = default_term_info.sort_values(\n"
     ]
    },
    {
     "data": {
      "text/html": [
       "\n",
       "<link rel=\"stylesheet\" type=\"text/css\" href=\"https://cdn.jsdelivr.net/gh/bmabey/pyLDAvis@3.3.1/pyLDAvis/js/ldavis.v1.0.0.css\">\n",
       "\n",
       "\n",
       "<div id=\"ldavis_el1419215186361537605290481494\"></div>\n",
       "<script type=\"text/javascript\">\n",
       "\n",
       "var ldavis_el1419215186361537605290481494_data = {\"mdsDat\": {\"x\": [-0.10339521825692803, -0.12640222040297705, -0.09719155346961363, 0.3269889921295183], \"y\": [0.17221486011547577, 0.06003110193823951, -0.23889858159788963, 0.006652619544174455], \"topics\": [1, 2, 3, 4], \"cluster\": [1, 1, 1, 1], \"Freq\": [44.898499031972925, 25.328153337355364, 19.98244398556686, 9.790903645104851]}, \"tinfo\": {\"Term\": [\"love\", \"money\", \"mother\", \"car\", \"kill\", \"father\", \"find\", \"life\", \"family\", \"tom\", \"jack\", \"escape\", \"body\", \"film\", \"men\", \"soldier\", \"police\", \"killed\", \"joe\", \"frank\", \"army\", \"war\", \"town\", \"village\", \"team\", \"chris\", \"home\", \"gang\", \"wife\", \"woman\", \"love\", \"mother\", \"husband\", \"relationship\", \"married\", \"parent\", \"marry\", \"marriage\", \"mary\", \"feel\", \"wedding\", \"feeling\", \"tony\", \"letter\", \"song\", \"affair\", \"simon\", \"teacher\", \"class\", \"helen\", \"she\", \"happy\", \"pregnant\", \"jane\", \"music\", \"older\", \"wealthy\", \"anna\", \"childhood\", \"in_law\", \"sister\", \"college\", \"care\", \"family\", \"father\", \"school\", \"student\", \"life\", \"child\", \"wife\", \"girl\", \"paul\", \"friend\", \"young\", \"woman\", \"daughter\", \"home\", \"story\", \"want\", \"movie\", \"year\", \"day\", \"film\", \"meet\", \"work\", \"son\", \"come\", \"time\", \"tell\", \"old\", \"end\", \"find\", \"man\", \"new\", \"return\", \"begin\", \"dog\", \"inside\", \"zombie\", \"vampire\", \"killer\", \"rabbit\", \"animal\", \"monster\", \"wood\", \"tree\", \"grab\", \"alien\", \"bug\", \"creature\", \"cat\", \"morgan\", \"hole\", \"wolf\", \"cabin\", \"scott\", \"knife\", \"wile\", \"magic\", \"cliff\", \"hunter\", \"cave\", \"road_runner\", \"climb\", \"giant\", \"rat\", \"body\", \"pooh\", \"djinn\", \"water\", \"chase\", \"ghost\", \"blood\", \"human\", \"truck\", \"door\", \"wall\", \"sam\", \"alex\", \"causing\", \"head\", \"kill\", \"dead\", \"find\", \"escape\", \"max\", \"room\", \"fire\", \"appears\", \"car\", \"killed\", \"open\", \"run\", \"try\", \"stop\", \"away\", \"house\", \"attempt\", \"tell\", \"begin\", \"man\", \"attack\", \"police\", \"group\", \"take\", \"later\", \"return\", \"night\", \"turn\", \"help\", \"time\", \"soldier\", \"army\", \"war\", \"german\", \"general\", \"british\", \"mission\", \"military\", \"government\", \"japanese\", \"prisoner\", \"enemy\", \"prince\", \"world_war\", \"united_state\", \"terrorist\", \"colonel\", \"troop\", \"pilot\", \"vikram\", \"lieutenant\", \"political\", \"raju\", \"warrior\", \"commander\", \"governor\", \"nazi\", \"russian\", \"planet\", \"chinese\", \"zorro\", \"anand\", \"nam\", \"captain\", \"king\", \"village\", \"battle\", \"leader\", \"american\", \"indian\", \"officer\", \"men\", \"chief\", \"agent\", \"ship\", \"order\", \"force\", \"prison\", \"fight\", \"killed\", \"kill\", \"led\", \"escape\", \"police\", \"attack\", \"plan\", \"film\", \"group\", \"city\", \"help\", \"death\", \"son\", \"brother\", \"tom\", \"joe\", \"frank\", \"chris\", \"nick\", \"jim\", \"jerry\", \"bob\", \"ben\", \"billy\", \"jimmy\", \"mike\", \"harry\", \"danny\", \"tommy\", \"kevin\", \"eddie\", \"molly\", \"bobby\", \"jack\", \"jake\", \"ryan\", \"charlie\", \"matt\", \"jeff\", \"ellen\", \"steve\", \"larry\", \"derek\", \"walter\", \"jessie\", \"roy\", \"bill\", \"ray\", \"game\", \"money\", \"car\", \"gang\", \"team\", \"town\", \"police\", \"men\"], \"Freq\": [15496.0, 8982.0, 13135.0, 9961.0, 12471.0, 17497.0, 27439.0, 18790.0, 14063.0, 3712.0, 3498.0, 9954.0, 5864.0, 17868.0, 9904.0, 4531.0, 11240.0, 8816.0, 2991.0, 2888.0, 4163.0, 4073.0, 8098.0, 4405.0, 4053.0, 2462.0, 14991.0, 4013.0, 11810.0, 12946.0, 15495.878583985703, 13135.06286469239, 6815.934355477706, 5356.994634193519, 4534.489245254372, 4060.2981222468043, 3686.6716460301145, 3553.9406518958504, 2805.0039039424028, 2699.121238021035, 2618.083633450661, 2649.0558245570114, 2199.138291263517, 2161.7727442836144, 2130.9298049415174, 2030.9929911438805, 2172.320175989225, 1993.9924381397636, 1917.9921297905148, 1922.538567372341, 1837.4021644539923, 1828.0408954276704, 1778.2656887550845, 1708.2856132618253, 1693.336305433989, 1641.8634838703138, 1628.20127432383, 1611.770177664083, 1522.9482026880883, 1416.902820447152, 5854.281719729737, 1912.7113687681695, 2414.579846765854, 13758.664420720255, 16723.071246803258, 6200.887803015918, 3462.1212282486304, 17271.89212171648, 8880.920154168227, 10642.662888091485, 8977.212447569193, 3167.4342509196804, 13035.111418619555, 10019.01906104638, 11468.273300021374, 7983.4522645466905, 12708.297926251926, 8078.6628534552, 7508.286469430064, 5200.904567545091, 9343.187869665404, 12115.682109733372, 14326.093214197064, 9847.641518432192, 7445.140614842729, 8786.053152758823, 10114.93525078113, 11397.110584433596, 12695.587356529466, 7585.246275677055, 9125.618943930034, 12912.710810775458, 9775.123962548254, 7718.31923150207, 8158.11068842206, 7609.732033381506, 3822.809820631403, 3630.2529573355, 2590.9506956936516, 2313.5102431768346, 2347.6047367576366, 1890.9704703756497, 1867.8749155142445, 1718.2129196432563, 1616.9216439071402, 1582.5345790149777, 1550.3373660593602, 1485.9608246013272, 1404.9765047542312, 1380.6519669548236, 1367.9676095943305, 1447.735328047949, 1305.5655423415433, 1264.223641603026, 1242.28644901826, 1195.4481360915318, 1183.9005115194034, 1153.9413009512598, 1124.8688229730853, 1120.9810179923454, 1108.048112589913, 1093.6168110121364, 1035.7107730075409, 1037.3893894420771, 993.0452698734808, 1010.2427002132086, 5834.683933270214, 1181.2971771391651, 1124.304392687193, 2888.3951384050715, 2818.0863085339874, 1308.4562508416132, 1534.267802710683, 3089.7071294070706, 1926.9026297376288, 2746.4531119744893, 1893.2686990414288, 3001.4221311890883, 2579.71314473965, 1995.1498560160712, 4704.71207965008, 7431.011094309928, 4172.516304205645, 13286.620143543947, 6106.238413522016, 2562.9488391704235, 4239.954755767051, 3090.2164541769, 2836.8423613273644, 5150.789780026921, 4682.082896299104, 3306.3535868735617, 4747.475794418178, 5665.280558235406, 3347.2090151991197, 4860.488112779055, 5181.071675045578, 4182.465257377637, 5966.848513849256, 4872.340460919207, 5363.619053174035, 3450.9795041530792, 4029.9322717626737, 3538.958173788007, 3986.2725000315695, 3685.075685036309, 3647.6779176631903, 3462.597978674432, 3294.7179921918787, 3293.9488078456066, 3321.419939398593, 4530.214209593372, 4162.323822541607, 4072.8566190966103, 2628.822680494391, 2496.5574499479785, 2256.735051130341, 2035.1051242060917, 2013.1349653964776, 1950.1801898017861, 1957.399943436701, 1746.2737347895295, 1396.3176224184588, 1330.0533157130892, 1336.2847806240304, 1227.940478673565, 1096.4658791063314, 1058.7508759740147, 1002.8248290796714, 1361.3226744623746, 1146.4422952261489, 976.1508621511764, 968.222362594261, 1032.8025987827386, 913.0709676362746, 878.9376217288091, 857.3832195239414, 834.8247304471026, 850.0994291211888, 840.7278109534827, 847.7275964819269, 1170.9174855640583, 984.9662890321264, 1105.254593851545, 2740.4815786106183, 2952.6835084802233, 3896.804952128259, 2754.1282841633765, 2872.0538613830277, 3008.567467178756, 1711.029754958521, 3256.9908119138795, 6240.492768644433, 1721.9696709555026, 2144.6564770215055, 2538.6651823994825, 4377.263052894038, 2789.3552598808915, 2199.59592354357, 3641.144126065429, 4133.519577862699, 5039.768881074289, 2028.062044516341, 3847.8085035704926, 3971.6310108724947, 2891.52103880569, 2768.1452211234073, 3541.951293281375, 2827.8824807747656, 2505.129935079759, 2807.2525114208584, 2631.0399686553405, 2585.172518173501, 2470.291521445056, 3711.2865630417805, 2990.724110116935, 2887.764736907744, 2461.9812171136955, 2285.916526673678, 2295.527287776943, 2213.9140526701367, 2176.698175431543, 2179.0669484327955, 2170.724480676639, 2017.3271657244582, 2040.1774817733576, 1902.7370036276072, 1783.4622395665956, 1789.9957466197902, 1754.267147779758, 1637.1049453915853, 1509.9799276808933, 1494.972538204939, 3496.2512786637785, 1392.1055807055352, 1427.88003286449, 1288.45261695831, 1273.8319080481158, 1237.4964618043005, 1287.001619407453, 1205.8355723387995, 1184.2680856118216, 1212.3460345538758, 1149.7987985409643, 1162.6508456702395, 1377.50472580972, 1830.10440102485, 1709.6210238385236, 2147.1182939374576, 3299.080116437807, 3241.2980802331426, 2074.1767723252574, 1949.2130058940957, 2301.75246671398, 2451.1326527568326, 1598.713308694328], \"Total\": [15496.0, 8982.0, 13135.0, 9961.0, 12471.0, 17497.0, 27439.0, 18790.0, 14063.0, 3712.0, 3498.0, 9954.0, 5864.0, 17868.0, 9904.0, 4531.0, 11240.0, 8816.0, 2991.0, 2888.0, 4163.0, 4073.0, 8098.0, 4405.0, 4053.0, 2462.0, 14991.0, 4013.0, 11810.0, 12946.0, 15496.711954047543, 13135.90051385028, 6816.76581414388, 5357.825678166566, 4535.324083494627, 4061.1353406478665, 3687.4963478641794, 3554.77030478055, 2805.832026154397, 2699.9638012952555, 2618.919476455474, 2649.903178138204, 2199.9746024720007, 2162.6200955710883, 2131.77490767721, 2031.8204208827626, 2173.207269677783, 1994.8219871065899, 1918.8384086869075, 1923.4001715171605, 1838.2401223943184, 1828.8773902749338, 1779.0999177109247, 1709.1255989449012, 1694.1741540506878, 1642.714934305377, 1629.046091039441, 1612.6065025139778, 1523.7954076869275, 1417.7337389315205, 5857.961511704491, 1914.0337890558942, 2424.1884610411366, 14063.060990905942, 17497.975606769724, 6376.099474661163, 3520.477199171159, 18790.056006072016, 9703.871522097035, 11810.784799322095, 9868.212963299171, 3262.1466236039405, 14740.94954320222, 11177.445240696197, 12946.943759304066, 8844.693399250522, 14991.745691651928, 9227.504967712866, 8528.048324883208, 5676.504199489301, 10941.066398503186, 14748.848812310564, 17868.59479024005, 11995.139821747694, 8695.74951477518, 11371.77622602834, 13817.871831325523, 16587.514112977573, 19828.929585651298, 9720.228273491406, 13567.717710389685, 27439.89902082898, 16793.62745659505, 11508.321932628562, 14074.283947749362, 12850.54158196888, 3823.6675227640676, 3631.116850791255, 2591.8438162334314, 2314.340585137823, 2348.4638685088603, 1891.8124726410178, 1868.728148558811, 1719.034277090482, 1617.7644431397732, 1583.36364539575, 1551.1826981725383, 1486.7953586653618, 1405.8056184267423, 1381.4716085756343, 1368.792438639042, 1448.6130824100185, 1306.405755151549, 1265.0555271314192, 1243.1440382885798, 1196.3017929675584, 1184.7509979809513, 1154.7712568428244, 1125.701711846526, 1121.8336517686432, 1108.8913360779004, 1094.4563447475946, 1036.5231932437819, 1038.2383618618505, 993.8901034623422, 1011.1201178926461, 5864.797858502749, 1185.360271162289, 1127.3631416190258, 3083.00662667106, 3086.8239389779656, 1333.502245084203, 1597.760893889969, 3538.4375354360336, 2103.4346408822353, 3200.2468757890315, 2068.9223050708824, 3610.6984571918465, 3013.748274003755, 2248.4914837469723, 6661.507221544766, 12471.342227880126, 5915.9413394749545, 27439.89902082898, 9954.605436458689, 3174.3671024275595, 6644.886697218379, 4272.670089811683, 3863.3666853196582, 9961.131861394759, 8816.173757060315, 5187.397962318023, 9689.1955342713, 13713.829117025409, 5512.793354810354, 10709.99899371748, 12402.045373782632, 9000.561197691226, 19828.929585651298, 12850.54158196888, 16793.62745659505, 6343.0602593759195, 11240.57777088463, 7799.785108749722, 12370.26339484776, 12881.35234479138, 14074.283947749362, 10433.438087378412, 9197.289194094496, 12511.267297231445, 16587.514112977573, 4531.036102327014, 4163.160295118969, 4073.685578943142, 2629.628760610333, 2497.3853837835877, 2257.544790386578, 2035.9374517265617, 2013.976187562007, 1951.0157650990664, 1958.2517008524444, 1747.1086147601106, 1397.140795228667, 1330.8682818558007, 1337.110650626691, 1228.7686819550681, 1097.274034630338, 1059.5680312261, 1003.6320605629911, 1362.4523188479668, 1147.406648991605, 976.9764020323718, 969.0555691156461, 1033.7186916487983, 913.8998263291033, 879.7442487223408, 858.2154550458675, 835.6392504564946, 850.9297457237126, 841.556410064518, 848.5636278024899, 1172.162565223858, 985.9819850337021, 1111.1880624361872, 2823.1307692301248, 3056.2634754626897, 4405.386603943472, 3043.190819406063, 3189.6151237221734, 3406.2231837581476, 1839.7777165145128, 4291.047515328233, 9904.598917759895, 1962.519530920911, 2631.8523006279315, 3422.034773611313, 7456.6751418580325, 4194.793639873621, 2972.1923188684227, 6757.818800548021, 8816.173757060315, 12471.342227880126, 2731.2276543089083, 9954.605436458689, 11240.57777088463, 6343.0602593759195, 6838.696641478717, 17868.59479024005, 7799.785108749722, 5655.912001460866, 12511.267297231445, 8859.964375610423, 11371.77622602834, 9230.995971345536, 3712.1132804188796, 2991.5646471607356, 2888.601326320047, 2462.8269848117047, 2286.750258618759, 2296.3682146346746, 2214.7368962334363, 2177.5428869052644, 2179.9180639866463, 2171.57422488282, 2018.153339191979, 2041.0213810235662, 1903.575366524387, 1784.3020302061605, 1790.843344739416, 1755.1404174901775, 1637.9304537860685, 1510.8072079898247, 1495.7992520158525, 3498.328367175847, 1392.9339551831454, 1428.7562777396236, 1289.2775403567196, 1274.6866628297087, 1238.3496577958551, 1287.89168744579, 1206.6701482445503, 1185.0926577596845, 1213.2241032479135, 1150.6560886109266, 1163.6019073671089, 1396.702833205828, 1970.5769930082229, 1956.4191449554885, 3088.0036433129544, 8982.00601071277, 9961.131861394759, 4013.28792474667, 4053.9363341103453, 8098.365169475188, 11240.57777088463, 9904.598917759895], \"Category\": [\"Default\", \"Default\", \"Default\", \"Default\", \"Default\", \"Default\", \"Default\", \"Default\", \"Default\", \"Default\", \"Default\", \"Default\", \"Default\", \"Default\", \"Default\", \"Default\", \"Default\", \"Default\", \"Default\", \"Default\", \"Default\", \"Default\", \"Default\", \"Default\", \"Default\", \"Default\", \"Default\", \"Default\", \"Default\", \"Default\", \"Topic1\", \"Topic1\", \"Topic1\", \"Topic1\", \"Topic1\", \"Topic1\", \"Topic1\", \"Topic1\", \"Topic1\", \"Topic1\", \"Topic1\", \"Topic1\", \"Topic1\", \"Topic1\", \"Topic1\", \"Topic1\", \"Topic1\", \"Topic1\", \"Topic1\", \"Topic1\", \"Topic1\", \"Topic1\", \"Topic1\", \"Topic1\", \"Topic1\", \"Topic1\", \"Topic1\", \"Topic1\", \"Topic1\", \"Topic1\", \"Topic1\", \"Topic1\", \"Topic1\", \"Topic1\", \"Topic1\", \"Topic1\", \"Topic1\", \"Topic1\", \"Topic1\", \"Topic1\", \"Topic1\", \"Topic1\", \"Topic1\", \"Topic1\", \"Topic1\", \"Topic1\", \"Topic1\", \"Topic1\", \"Topic1\", \"Topic1\", \"Topic1\", \"Topic1\", \"Topic1\", \"Topic1\", \"Topic1\", \"Topic1\", \"Topic1\", \"Topic1\", \"Topic1\", \"Topic1\", \"Topic1\", \"Topic1\", \"Topic1\", \"Topic1\", \"Topic1\", \"Topic1\", \"Topic2\", \"Topic2\", \"Topic2\", \"Topic2\", \"Topic2\", \"Topic2\", \"Topic2\", \"Topic2\", \"Topic2\", \"Topic2\", \"Topic2\", \"Topic2\", \"Topic2\", \"Topic2\", \"Topic2\", \"Topic2\", \"Topic2\", \"Topic2\", \"Topic2\", \"Topic2\", \"Topic2\", \"Topic2\", \"Topic2\", \"Topic2\", \"Topic2\", \"Topic2\", \"Topic2\", \"Topic2\", \"Topic2\", \"Topic2\", \"Topic2\", \"Topic2\", \"Topic2\", \"Topic2\", \"Topic2\", \"Topic2\", \"Topic2\", \"Topic2\", \"Topic2\", \"Topic2\", \"Topic2\", \"Topic2\", \"Topic2\", \"Topic2\", \"Topic2\", \"Topic2\", \"Topic2\", \"Topic2\", \"Topic2\", \"Topic2\", \"Topic2\", \"Topic2\", \"Topic2\", \"Topic2\", \"Topic2\", \"Topic2\", \"Topic2\", \"Topic2\", \"Topic2\", \"Topic2\", \"Topic2\", \"Topic2\", \"Topic2\", \"Topic2\", \"Topic2\", \"Topic2\", \"Topic2\", \"Topic2\", \"Topic2\", \"Topic2\", \"Topic2\", \"Topic2\", \"Topic2\", \"Topic2\", \"Topic2\", \"Topic3\", \"Topic3\", \"Topic3\", \"Topic3\", \"Topic3\", \"Topic3\", \"Topic3\", \"Topic3\", \"Topic3\", \"Topic3\", \"Topic3\", \"Topic3\", \"Topic3\", \"Topic3\", \"Topic3\", \"Topic3\", \"Topic3\", \"Topic3\", \"Topic3\", \"Topic3\", \"Topic3\", \"Topic3\", \"Topic3\", \"Topic3\", \"Topic3\", \"Topic3\", \"Topic3\", \"Topic3\", \"Topic3\", \"Topic3\", \"Topic3\", \"Topic3\", \"Topic3\", \"Topic3\", \"Topic3\", \"Topic3\", \"Topic3\", \"Topic3\", \"Topic3\", \"Topic3\", \"Topic3\", \"Topic3\", \"Topic3\", \"Topic3\", \"Topic3\", \"Topic3\", \"Topic3\", \"Topic3\", \"Topic3\", \"Topic3\", \"Topic3\", \"Topic3\", \"Topic3\", \"Topic3\", \"Topic3\", \"Topic3\", \"Topic3\", \"Topic3\", \"Topic3\", \"Topic3\", \"Topic3\", \"Topic3\", \"Topic3\", \"Topic4\", \"Topic4\", \"Topic4\", \"Topic4\", \"Topic4\", \"Topic4\", \"Topic4\", \"Topic4\", \"Topic4\", \"Topic4\", \"Topic4\", \"Topic4\", \"Topic4\", \"Topic4\", \"Topic4\", \"Topic4\", \"Topic4\", \"Topic4\", \"Topic4\", \"Topic4\", \"Topic4\", \"Topic4\", \"Topic4\", \"Topic4\", \"Topic4\", \"Topic4\", \"Topic4\", \"Topic4\", \"Topic4\", \"Topic4\", \"Topic4\", \"Topic4\", \"Topic4\", \"Topic4\", \"Topic4\", \"Topic4\", \"Topic4\", \"Topic4\", \"Topic4\", \"Topic4\", \"Topic4\", \"Topic4\"], \"logprob\": [30.0, 29.0, 28.0, 27.0, 26.0, 25.0, 24.0, 23.0, 22.0, 21.0, 20.0, 19.0, 18.0, 17.0, 16.0, 15.0, 14.0, 13.0, 12.0, 11.0, 10.0, 9.0, 8.0, 7.0, 6.0, 5.0, 4.0, 3.0, 2.0, 1.0, -5.012, -5.1773, -5.8333, -6.0742, -6.2409, -6.3513, -6.4479, -6.4845, -6.7212, -6.7597, -6.7901, -6.7784, -6.9645, -6.9817, -6.996, -7.0441, -6.9768, -7.0625, -7.1013, -7.0989, -7.1442, -7.1493, -7.177, -7.2171, -7.2259, -7.2568, -7.2651, -7.2753, -7.3319, -7.4041, -5.9854, -7.1041, -6.8711, -5.1309, -4.9358, -5.9279, -6.5107, -4.9035, -5.5687, -5.3877, -5.5579, -6.5997, -5.1849, -5.4481, -5.313, -5.6752, -5.2103, -5.6634, -5.7366, -6.1038, -5.5179, -5.2581, -5.0905, -5.4654, -5.745, -5.5794, -5.4386, -5.3192, -5.2113, -5.7264, -5.5415, -5.1944, -5.4728, -5.709, -5.6536, -5.7232, -5.8391, -5.8908, -6.2281, -6.3413, -6.3267, -6.543, -6.5553, -6.6388, -6.6996, -6.7211, -6.7416, -6.784, -6.8401, -6.8575, -6.8668, -6.8101, -6.9135, -6.9456, -6.9632, -7.0016, -7.0113, -7.0369, -7.0624, -7.0659, -7.0775, -7.0906, -7.145, -7.1434, -7.1871, -7.1699, -5.4163, -7.0135, -7.0629, -6.1194, -6.144, -6.9113, -6.7521, -6.052, -6.5242, -6.1698, -6.5418, -6.081, -6.2324, -6.4894, -5.6315, -5.1744, -5.7516, -4.5933, -5.3708, -6.2389, -5.7356, -6.0519, -6.1374, -5.541, -5.6364, -5.9843, -5.6225, -5.4457, -5.972, -5.599, -5.5351, -5.7492, -5.3939, -5.5965, -5.5005, -5.9414, -5.7864, -5.9163, -5.7972, -5.8758, -5.886, -5.9381, -5.9878, -5.988, -5.9797, -5.4323, -5.517, -5.5387, -5.9765, -6.0281, -6.1291, -6.2325, -6.2433, -6.2751, -6.2714, -6.3856, -6.6092, -6.6578, -6.6531, -6.7377, -6.8509, -6.886, -6.9402, -6.6346, -6.8064, -6.9672, -6.9753, -6.9108, -7.034, -7.0721, -7.0969, -7.1236, -7.1054, -7.1165, -7.1082, -6.7853, -6.9582, -6.843, -5.9349, -5.8603, -5.5829, -5.9299, -5.888, -5.8416, -6.4059, -5.7622, -5.112, -6.3996, -6.1801, -6.0114, -5.4666, -5.9172, -6.1548, -5.6507, -5.5239, -5.3257, -6.236, -5.5955, -5.5639, -5.8813, -5.9249, -5.6784, -5.9035, -6.0247, -5.9108, -5.9757, -5.9932, -6.0387, -4.9183, -5.1341, -5.1692, -5.3287, -5.4029, -5.3987, -5.4349, -5.4518, -5.4507, -5.4546, -5.5279, -5.5166, -5.5863, -5.6511, -5.6474, -5.6676, -5.7367, -5.8175, -5.8275, -4.978, -5.8988, -5.8735, -5.9762, -5.9876, -6.0166, -5.9773, -6.0425, -6.0605, -6.0371, -6.0901, -6.0789, -5.9094, -5.6253, -5.6934, -5.4655, -5.036, -5.0537, -5.5001, -5.5622, -5.396, -5.3331, -5.7604], \"loglift\": [30.0, 29.0, 28.0, 27.0, 26.0, 25.0, 24.0, 23.0, 22.0, 21.0, 20.0, 19.0, 18.0, 17.0, 16.0, 15.0, 14.0, 13.0, 12.0, 11.0, 10.0, 9.0, 8.0, 7.0, 6.0, 5.0, 4.0, 3.0, 2.0, 1.0, 0.8007, 0.8007, 0.8006, 0.8006, 0.8006, 0.8006, 0.8005, 0.8005, 0.8005, 0.8005, 0.8004, 0.8004, 0.8004, 0.8004, 0.8004, 0.8004, 0.8004, 0.8003, 0.8003, 0.8003, 0.8003, 0.8003, 0.8003, 0.8003, 0.8003, 0.8002, 0.8002, 0.8002, 0.8002, 0.8002, 0.8001, 0.8001, 0.7968, 0.7789, 0.7555, 0.7729, 0.7841, 0.7165, 0.7121, 0.6966, 0.7061, 0.7713, 0.6778, 0.6914, 0.6795, 0.6983, 0.6355, 0.6678, 0.6734, 0.7133, 0.6429, 0.6041, 0.5798, 0.6035, 0.6455, 0.5428, 0.4888, 0.4255, 0.3549, 0.5528, 0.4042, 0.047, 0.2596, 0.4013, 0.2554, 0.2768, 1.373, 1.373, 1.3729, 1.3729, 1.3729, 1.3728, 1.3728, 1.3728, 1.3727, 1.3727, 1.3727, 1.3727, 1.3727, 1.3727, 1.3727, 1.3726, 1.3726, 1.3726, 1.3726, 1.3725, 1.3725, 1.3725, 1.3725, 1.3725, 1.3725, 1.3725, 1.3725, 1.3724, 1.3724, 1.3724, 1.3681, 1.3698, 1.3705, 1.308, 1.2822, 1.3543, 1.3327, 1.2376, 1.2856, 1.2203, 1.2845, 1.1884, 1.2177, 1.2537, 1.0255, 0.8555, 1.0241, 0.648, 0.8845, 1.1593, 0.924, 1.0493, 1.0644, 0.7137, 0.7404, 0.9229, 0.6599, 0.4892, 0.8743, 0.5832, 0.5004, 0.6069, 0.1723, 0.4034, 0.2319, 0.7646, 0.3475, 0.583, 0.2408, 0.1218, 0.023, 0.2703, 0.3467, 0.0387, -0.235, 1.6101, 1.6101, 1.6101, 1.61, 1.61, 1.61, 1.6099, 1.6099, 1.6099, 1.6099, 1.6098, 1.6097, 1.6097, 1.6097, 1.6096, 1.6096, 1.6095, 1.6095, 1.6095, 1.6095, 1.6095, 1.6095, 1.6094, 1.6094, 1.6094, 1.6093, 1.6093, 1.6093, 1.6093, 1.6093, 1.6093, 1.6093, 1.605, 1.5806, 1.5758, 1.4876, 1.5105, 1.5054, 1.4862, 1.5378, 1.3346, 1.1484, 1.4796, 1.4056, 1.3117, 1.0776, 1.2023, 1.3093, 0.9919, 0.8529, 0.7042, 1.3126, 0.6598, 0.57, 0.8247, 0.7059, -0.0081, 0.5957, 0.796, 0.1159, 0.3962, 0.129, 0.2921, 2.3235, 2.3234, 2.3234, 2.3234, 2.3234, 2.3234, 2.3233, 2.3233, 2.3233, 2.3233, 2.3233, 2.3233, 2.3233, 2.3232, 2.3232, 2.3232, 2.3232, 2.3232, 2.3232, 2.3231, 2.3231, 2.3231, 2.3231, 2.323, 2.323, 2.323, 2.323, 2.323, 2.323, 2.323, 2.3229, 2.3099, 2.2498, 2.1889, 1.9603, 1.3221, 1.201, 1.6637, 1.5915, 1.0657, 0.8007, 0.4999]}, \"token.table\": {\"Topic\": [1, 2, 3, 4, 1, 2, 2, 1, 3, 3, 2, 1, 1, 2, 3, 2, 3, 1, 2, 3, 4, 1, 2, 3, 2, 3, 1, 2, 3, 4, 1, 4, 4, 2, 3, 4, 4, 2, 3, 3, 1, 2, 3, 4, 2, 2, 2, 3, 1, 2, 4, 1, 2, 2, 1, 2, 4, 2, 4, 2, 4, 2, 3, 4, 1, 2, 3, 1, 3, 4, 1, 2, 3, 1, 2, 2, 1, 4, 3, 1, 2, 3, 3, 2, 4, 1, 3, 1, 2, 3, 1, 2, 3, 1, 2, 3, 4, 1, 2, 3, 4, 2, 1, 2, 4, 4, 1, 2, 3, 4, 3, 2, 3, 1, 3, 1, 3, 1, 1, 1, 2, 3, 4, 1, 3, 1, 2, 3, 2, 3, 4, 2, 3, 4, 4, 1, 2, 3, 4, 1, 2, 3, 4, 2, 3, 4, 3, 3, 1, 2, 2, 1, 2, 3, 3, 2, 1, 2, 3, 1, 4, 1, 2, 3, 4, 1, 1, 2, 3, 4, 2, 1, 2, 4, 1, 2, 2, 3, 2, 1, 1, 2, 3, 2, 2, 4, 4, 1, 3, 4, 4, 4, 4, 4, 4, 4, 2, 3, 2, 3, 2, 2, 3, 2, 4, 1, 2, 3, 4, 2, 3, 2, 3, 4, 1, 3, 1, 3, 1, 2, 1, 2, 3, 1, 1, 1, 1, 4, 1, 2, 1, 2, 3, 4, 1, 2, 3, 4, 4, 3, 3, 4, 1, 3, 4, 2, 2, 1, 1, 2, 3, 1, 1, 2, 3, 3, 1, 2, 3, 4, 4, 1, 2, 4, 2, 3, 4, 1, 2, 3, 1, 1, 2, 3, 1, 2, 3, 4, 1, 1, 4, 3, 4, 1, 2, 3, 4, 3, 1, 2, 3, 4, 3, 1, 2, 1, 3, 1, 3, 4, 3, 2, 3, 2, 2, 4, 1, 1, 2, 3, 2, 1, 2, 3, 4, 1, 2, 4, 3, 4, 2, 4, 1, 4, 2, 1, 2, 3, 1, 1, 3, 3, 1, 3, 1, 4, 1, 2, 3, 4, 1, 3, 1, 3, 1, 2, 3, 4, 1, 2, 3, 4, 1, 2, 4, 3, 1, 2, 3, 4, 4, 1, 1, 2, 3, 4, 2, 3, 2, 4, 1, 2, 3, 4, 1, 2, 3, 4, 3, 2, 3, 1, 3, 1, 2, 4, 1, 2, 3, 4, 3, 3, 2, 3, 1, 1, 1, 3, 2, 2, 1, 2, 3, 2, 1, 2, 3, 4, 3, 1, 2, 3, 1, 3, 2, 1, 3], \"Freq\": [0.9995962138807493, 0.04179565850779513, 0.8150153409020051, 0.1432451205221706, 0.14367490600824498, 0.8560768071622911, 0.9994650516893758, 0.11655137628473973, 0.8833831013621709, 0.9990040537772417, 0.9996103507300553, 0.9996238992506651, 0.2655714778249448, 0.7343336087615675, 0.9997212946327507, 0.5440591542385153, 0.4559313457136442, 0.2424293276912238, 0.4646376940443162, 0.2467623908351091, 0.045997131835090126, 0.5397759610800293, 0.45378155524112485, 0.0063492069457605944, 0.09496611193655083, 0.9049711843365431, 0.5921929399985679, 0.3791279899701739, 0.02863692535078489, 0.9995788539019823, 0.07104518143504775, 0.9286620144724098, 0.9997355720673784, 0.9600935946462337, 0.03943018022341116, 0.9997506883062882, 0.9994656689293197, 0.99491920110093, 0.0051152658154289465, 0.9997586801427383, 0.712382501347952, 0.00010833067234609975, 0.26757676069486636, 0.020041174384028453, 0.9994269346941124, 0.9990797218557596, 0.02904576751942724, 0.9705536951613493, 0.15751222068255089, 0.5171099099654681, 0.32536463176045083, 0.9962096754485869, 0.003712582641423305, 0.9994210673461712, 0.0684903639231795, 0.8872615326411891, 0.044029519664901116, 0.999583039789769, 0.9990091036904544, 0.9129124484284737, 0.0868206302976689, 0.03312068948913787, 0.8774434969276218, 0.08968063615520408, 0.9152017295134993, 0.08027723761862583, 0.004431221075225816, 0.9994780088698817, 0.9993357860459451, 0.9996642131920737, 0.40736135912385124, 0.1495779990532891, 0.4428993943599164, 0.9995630644648804, 0.9992568846839913, 0.9988072470568032, 0.9994598898609809, 0.0005224568164458865, 0.9994639030157954, 0.7320230006091818, 0.23006437162002857, 0.03792190334347121, 0.9991540169504698, 0.9996586186985627, 0.99927028598067, 0.9025750966875189, 0.09734650610647047, 0.8214878431655643, 0.13519699234666022, 0.04332541530065992, 0.11545077288758528, 0.7053822478182918, 0.17917689496462721, 0.3694145778971601, 0.33352278572750016, 0.2969537899319976, 0.9989910328647144, 0.0008870256291720542, 0.9970168071893889, 0.0008870256291720542, 0.0008870256291720542, 0.9998254234291832, 0.1415515794819146, 0.8580588018925773, 0.9994319332765822, 0.9993076378592376, 0.6726260226516674, 0.19649583348557365, 0.10812430147161911, 0.022774648367232656, 0.9991834786926537, 0.6133844318567171, 0.38655474840888426, 0.978378747620979, 0.021616915420944665, 0.9557105562274361, 0.04423368836453002, 0.9996430317714655, 0.9996591656081417, 0.07058490528945789, 0.22936394800557597, 0.5387833127021304, 0.16114667056649823, 0.8017418363432226, 0.1982248767505022, 0.4705921107872171, 0.4842218985541511, 0.04518967067111819, 0.723201168133295, 0.20736447733530725, 0.0692775229020891, 0.2684279839887246, 0.664871800483617, 0.0665110191233163, 0.9997918278598822, 0.8842713939015606, 0.07475773502719753, 0.01241439701449832, 0.028559896956851325, 0.17746093052276327, 0.11787550859541208, 0.00939118062985426, 0.6952712004240378, 0.05357203470856665, 0.42957296668636696, 0.5167832557468243, 0.9998456850968657, 0.9997608937733907, 0.01799771998020486, 0.980875738921165, 0.9991044246650195, 0.9096885153762209, 0.09018856841760461, 0.9994793660219271, 0.9985837413685325, 0.9992375506934601, 0.18372301031633226, 0.45373044906454985, 0.36257409153844217, 0.999520257465263, 0.9996977442897691, 0.09322214618210585, 0.7062966147935718, 0.10117830358573164, 0.09937690945660882, 0.9997919457827411, 0.4601452325516167, 0.26328268126194637, 0.2243577675477485, 0.052192954117805404, 0.9996894110807848, 0.8476664600224897, 0.1516834694752236, 0.0006003303541235762, 0.5821620371799926, 0.41775367238636313, 0.8732667933388363, 0.1266095545034947, 0.9991961916836206, 0.9998876572608244, 0.9994824564645872, 0.06957362231916689, 0.9300036545944886, 0.9996924222389011, 0.0005717016214845987, 0.9993344343550784, 0.9993295050496328, 0.9993414182400662, 0.9993608069627109, 0.9989101157436766, 0.9996672759483578, 0.999482720539303, 0.9998396534874817, 0.9994285175612866, 0.9998112535654974, 0.9993502414514457, 0.5958460496246937, 0.40412650923273535, 0.5310693878112921, 0.46891090329173035, 0.9998024800317006, 0.033701282898853074, 0.9662125087409041, 0.9993661132320368, 0.9990779980345587, 0.581771214652802, 0.28607244809121635, 0.09929081712582516, 0.032838167040050076, 0.09938503164296252, 0.9004221163362408, 0.2075989524730665, 0.742523237416894, 0.04942832201739679, 0.9997132665268587, 0.9990005879053572, 0.9192096071676713, 0.08078741220938658, 0.9999540577349793, 0.9993766449503084, 0.5820660262510018, 0.31940687108034516, 0.09854928628597524, 0.9997833039227558, 0.999708050963889, 0.999865397056063, 0.9997034654438892, 0.9994613085319459, 0.1924793132882284, 0.8074050408473475, 0.8209991835314133, 0.05585595582514693, 0.11946505178721724, 0.00366815232284547, 0.08662642547408192, 0.12196354542271674, 0.6300103670842322, 0.1614401565653345, 0.9994995735796487, 0.999515293394214, 0.9995395478747313, 0.9994657107898639, 0.6323754396540714, 0.0003340011124933476, 0.36728989003851786, 0.9993983382971092, 0.9995767797367959, 0.9999314463557842, 0.9162329168131188, 0.005461107560316609, 0.07821715344453466, 0.9993069460728813, 0.004499688368715838, 0.0008999376737431676, 0.9944311294862002, 0.9992350162391901, 0.6706451249089421, 0.08393925766546231, 0.17204941012175504, 0.07333823340543498, 0.9996719105569438, 0.6563512374970811, 0.3319136003873236, 0.01178901901462339, 0.17058771719147636, 0.7590221241702713, 0.07014604217846228, 0.7803314682110388, 0.20081832906367142, 0.018723840107371003, 0.9995647849237583, 0.288776764551646, 0.6373137407261293, 0.07383277758563446, 0.19338377662523282, 0.16575752282162814, 0.5869908393125132, 0.053777319297308154, 0.9997204376233161, 0.9708331247542684, 0.02881538166305691, 0.9989340406061367, 0.0007339706396812173, 0.29684018847794036, 0.1722550453335043, 0.4047554885255857, 0.12619363677658252, 0.9993388321235943, 0.07010315804593954, 0.3585224960978887, 0.3533626189828323, 0.2180492898104033, 0.9989107238539381, 0.0025308761167255845, 0.9963215646176384, 0.9993817560779049, 0.9993475824259709, 0.05450522127103702, 0.740194362940009, 0.2052357097242752, 0.999365457447382, 0.9995705321469397, 0.9993047512300933, 0.9988922009632439, 0.1257399267607335, 0.8740458323611964, 0.9998458930513677, 0.5796387248037977, 0.25919613484729764, 0.16114496541493176, 0.9994952421256059, 0.36178193993982477, 0.6380846195278107, 0.013603466355394745, 0.9866092967228399, 0.4151015412759429, 0.4899271547580559, 0.09495112331523309, 0.9989073766331651, 0.9994706740740835, 0.8311411311632962, 0.16866542781687685, 0.9725381519913523, 0.027446246830912218, 0.998911818927957, 0.9993253751894485, 0.25803361403839853, 0.7419562242848174, 0.9994444755939169, 0.9993237388643513, 0.0005121235422946795, 0.9997713321404608, 0.7726145700871361, 0.22731717091682752, 0.9996364964826167, 0.9994446301290164, 0.2686478350776034, 0.6071332235008363, 0.09904234838107459, 0.0252140777014091, 0.8755346139902935, 0.12441066182211374, 0.983389411189788, 0.016475039240036887, 0.5335375480160685, 0.32222434339273465, 0.12133937266244223, 0.022796604324322924, 0.9995879396197241, 0.005180150419063881, 0.5140682606347204, 0.480767293655024, 0.640276619328314, 0.3009239593204198, 0.058802972443038296, 0.9988389093424895, 0.6870830627407473, 0.20021083191734856, 0.11267511136811938, 0.9997000952463514, 0.9995290795580232, 0.9995569937621527, 0.3883499859767142, 0.3015423420525075, 0.025807677923412806, 0.2842549022951975, 0.9997703336205758, 0.9993702268113709, 0.9161206925791457, 0.0836726735308405, 0.5048918096408253, 0.4130866697884569, 0.054397644424040395, 0.027636336778433388, 0.5299387566425068, 0.35825773556361507, 0.08959161581317718, 0.022289176264200634, 0.9993744290798126, 0.9998528370716004, 0.9987740623667807, 0.11531337557191118, 0.8845988673301927, 0.08458509996778463, 0.914969109937236, 0.9994298134625798, 0.8803890074230815, 0.034005435822148856, 0.02556270692837397, 0.060037183244621435, 0.999831705483927, 0.9990153993871322, 0.9367479054426742, 0.06292558644594141, 0.9993578505573323, 0.9996489099937053, 0.901125554384064, 0.09889266630842684, 0.9993321128853405, 0.999165627825197, 0.8857688898014057, 0.11377202430044216, 0.0003861915285147391, 0.9995274694390677, 0.8561654159138327, 0.033579624103000555, 0.054854385949079675, 0.05531438079980571, 0.999169365208354, 0.8539386984506544, 0.009688269510410935, 0.1363669632974822, 0.8963586744779218, 0.10360149167036965, 0.9996744339963132, 0.0008531239860991647, 0.9990081877221219], \"Term\": [\"affair\", \"agent\", \"agent\", \"agent\", \"alex\", \"alex\", \"alien\", \"american\", \"american\", \"anand\", \"animal\", \"anna\", \"appears\", \"appears\", \"army\", \"attack\", \"attack\", \"attempt\", \"attempt\", \"attempt\", \"attempt\", \"away\", \"away\", \"away\", \"battle\", \"battle\", \"begin\", \"begin\", \"begin\", \"ben\", \"bill\", \"bill\", \"billy\", \"blood\", \"blood\", \"bob\", \"bobby\", \"body\", \"body\", \"british\", \"brother\", \"brother\", \"brother\", \"brother\", \"bug\", \"cabin\", \"captain\", \"captain\", \"car\", \"car\", \"car\", \"care\", \"care\", \"cat\", \"causing\", \"causing\", \"causing\", \"cave\", \"charlie\", \"chase\", \"chase\", \"chief\", \"chief\", \"chief\", \"child\", \"child\", \"child\", \"childhood\", \"chinese\", \"chris\", \"city\", \"city\", \"city\", \"class\", \"cliff\", \"climb\", \"college\", \"college\", \"colonel\", \"come\", \"come\", \"come\", \"commander\", \"creature\", \"danny\", \"daughter\", \"daughter\", \"day\", \"day\", \"day\", \"dead\", \"dead\", \"dead\", \"death\", \"death\", \"death\", \"derek\", \"djinn\", \"djinn\", \"djinn\", \"djinn\", \"dog\", \"door\", \"door\", \"eddie\", \"ellen\", \"end\", \"end\", \"end\", \"end\", \"enemy\", \"escape\", \"escape\", \"family\", \"family\", \"father\", \"father\", \"feel\", \"feeling\", \"fight\", \"fight\", \"fight\", \"fight\", \"film\", \"film\", \"find\", \"find\", \"find\", \"fire\", \"fire\", \"fire\", \"force\", \"force\", \"force\", \"frank\", \"friend\", \"friend\", \"friend\", \"friend\", \"game\", \"game\", \"game\", \"game\", \"gang\", \"gang\", \"gang\", \"general\", \"german\", \"ghost\", \"ghost\", \"giant\", \"girl\", \"girl\", \"government\", \"governor\", \"grab\", \"group\", \"group\", \"group\", \"happy\", \"harry\", \"head\", \"head\", \"head\", \"head\", \"helen\", \"help\", \"help\", \"help\", \"help\", \"hole\", \"home\", \"home\", \"home\", \"house\", \"house\", \"human\", \"human\", \"hunter\", \"husband\", \"in_law\", \"indian\", \"indian\", \"inside\", \"jack\", \"jack\", \"jake\", \"jane\", \"japanese\", \"jeff\", \"jerry\", \"jessie\", \"jim\", \"jimmy\", \"joe\", \"kevin\", \"kill\", \"kill\", \"killed\", \"killed\", \"killer\", \"king\", \"king\", \"knife\", \"larry\", \"later\", \"later\", \"later\", \"later\", \"leader\", \"leader\", \"led\", \"led\", \"led\", \"letter\", \"lieutenant\", \"life\", \"life\", \"love\", \"magic\", \"man\", \"man\", \"man\", \"marriage\", \"married\", \"marry\", \"mary\", \"matt\", \"max\", \"max\", \"meet\", \"meet\", \"meet\", \"meet\", \"men\", \"men\", \"men\", \"men\", \"mike\", \"military\", \"mission\", \"molly\", \"money\", \"money\", \"money\", \"monster\", \"morgan\", \"mother\", \"movie\", \"movie\", \"movie\", \"music\", \"nam\", \"nam\", \"nam\", \"nazi\", \"new\", \"new\", \"new\", \"new\", \"nick\", \"night\", \"night\", \"night\", \"officer\", \"officer\", \"officer\", \"old\", \"old\", \"old\", \"older\", \"open\", \"open\", \"open\", \"order\", \"order\", \"order\", \"order\", \"parent\", \"paul\", \"paul\", \"pilot\", \"pilot\", \"plan\", \"plan\", \"plan\", \"plan\", \"planet\", \"police\", \"police\", \"police\", \"police\", \"political\", \"pooh\", \"pooh\", \"pregnant\", \"prince\", \"prison\", \"prison\", \"prison\", \"prisoner\", \"rabbit\", \"raju\", \"rat\", \"ray\", \"ray\", \"relationship\", \"return\", \"return\", \"return\", \"road_runner\", \"room\", \"room\", \"roy\", \"roy\", \"run\", \"run\", \"run\", \"russian\", \"ryan\", \"sam\", \"sam\", \"school\", \"school\", \"scott\", \"she\", \"ship\", \"ship\", \"simon\", \"sister\", \"sister\", \"soldier\", \"son\", \"son\", \"song\", \"steve\", \"stop\", \"stop\", \"stop\", \"stop\", \"story\", \"story\", \"student\", \"student\", \"take\", \"take\", \"take\", \"take\", \"teacher\", \"team\", \"team\", \"team\", \"tell\", \"tell\", \"tell\", \"terrorist\", \"time\", \"time\", \"time\", \"tom\", \"tommy\", \"tony\", \"town\", \"town\", \"town\", \"town\", \"tree\", \"troop\", \"truck\", \"truck\", \"try\", \"try\", \"try\", \"try\", \"turn\", \"turn\", \"turn\", \"turn\", \"united_state\", \"vampire\", \"vikram\", \"village\", \"village\", \"wall\", \"wall\", \"walter\", \"want\", \"want\", \"want\", \"want\", \"war\", \"warrior\", \"water\", \"water\", \"wealthy\", \"wedding\", \"wife\", \"wife\", \"wile\", \"wolf\", \"woman\", \"woman\", \"woman\", \"wood\", \"work\", \"work\", \"work\", \"work\", \"world_war\", \"year\", \"year\", \"year\", \"young\", \"young\", \"zombie\", \"zorro\", \"zorro\"]}, \"R\": 30, \"lambda.step\": 0.01, \"plot.opts\": {\"xlab\": \"PC1\", \"ylab\": \"PC2\"}, \"topic.order\": [1, 4, 2, 3]};\n",
       "\n",
       "function LDAvis_load_lib(url, callback){\n",
       "  var s = document.createElement('script');\n",
       "  s.src = url;\n",
       "  s.async = true;\n",
       "  s.onreadystatechange = s.onload = callback;\n",
       "  s.onerror = function(){console.warn(\"failed to load library \" + url);};\n",
       "  document.getElementsByTagName(\"head\")[0].appendChild(s);\n",
       "}\n",
       "\n",
       "if(typeof(LDAvis) !== \"undefined\"){\n",
       "   // already loaded: just create the visualization\n",
       "   !function(LDAvis){\n",
       "       new LDAvis(\"#\" + \"ldavis_el1419215186361537605290481494\", ldavis_el1419215186361537605290481494_data);\n",
       "   }(LDAvis);\n",
       "}else if(typeof define === \"function\" && define.amd){\n",
       "   // require.js is available: use it to load d3/LDAvis\n",
       "   require.config({paths: {d3: \"https://d3js.org/d3.v5\"}});\n",
       "   require([\"d3\"], function(d3){\n",
       "      window.d3 = d3;\n",
       "      LDAvis_load_lib(\"https://cdn.jsdelivr.net/gh/bmabey/pyLDAvis@3.3.1/pyLDAvis/js/ldavis.v3.0.0.js\", function(){\n",
       "        new LDAvis(\"#\" + \"ldavis_el1419215186361537605290481494\", ldavis_el1419215186361537605290481494_data);\n",
       "      });\n",
       "    });\n",
       "}else{\n",
       "    // require.js not available: dynamically load d3 & LDAvis\n",
       "    LDAvis_load_lib(\"https://d3js.org/d3.v5.js\", function(){\n",
       "         LDAvis_load_lib(\"https://cdn.jsdelivr.net/gh/bmabey/pyLDAvis@3.3.1/pyLDAvis/js/ldavis.v3.0.0.js\", function(){\n",
       "                 new LDAvis(\"#\" + \"ldavis_el1419215186361537605290481494\", ldavis_el1419215186361537605290481494_data);\n",
       "            })\n",
       "         });\n",
       "}\n",
       "</script>"
      ],
      "text/plain": [
       "PreparedData(topic_coordinates=              x         y  topics  cluster       Freq\n",
       "topic                                                \n",
       "0     -0.103395  0.172215       1        1  44.898499\n",
       "3     -0.126402  0.060031       2        1  25.328153\n",
       "1     -0.097192 -0.238899       3        1  19.982444\n",
       "2      0.326989  0.006653       4        1   9.790904, topic_info=        Term          Freq         Total Category  logprob  loglift\n",
       "633     love  15496.000000  15496.000000  Default  30.0000  30.0000\n",
       "171    money   8982.000000   8982.000000  Default  29.0000  29.0000\n",
       "376   mother  13135.000000  13135.000000  Default  28.0000  28.0000\n",
       "63       car   9961.000000   9961.000000  Default  27.0000  27.0000\n",
       "151     kill  12471.000000  12471.000000  Default  26.0000  26.0000\n",
       "...      ...           ...           ...      ...      ...      ...\n",
       "412     gang   2074.176772   4013.287925   Topic4  -5.5001   1.6637\n",
       "38      team   1949.213006   4053.936334   Topic4  -5.5622   1.5915\n",
       "1699    town   2301.752467   8098.365169   Topic4  -5.3960   1.0657\n",
       "185   police   2451.132653  11240.577771   Topic4  -5.3331   0.8007\n",
       "344      men   1598.713309   9904.598918   Topic4  -5.7604   0.4999\n",
       "\n",
       "[276 rows x 6 columns], token_table=       Topic      Freq    Term\n",
       "term                          \n",
       "5066       1  0.999596  affair\n",
       "3870       2  0.041796   agent\n",
       "3870       3  0.815015   agent\n",
       "3870       4  0.143245   agent\n",
       "5698       1  0.143675    alex\n",
       "...      ...       ...     ...\n",
       "1174       1  0.896359   young\n",
       "1174       3  0.103601   young\n",
       "6365       2  0.999674  zombie\n",
       "12920      1  0.000853   zorro\n",
       "12920      3  0.999008   zorro\n",
       "\n",
       "[417 rows x 3 columns], R=30, lambda_step=0.01, plot_opts={'xlab': 'PC1', 'ylab': 'PC2'}, topic_order=[1, 4, 2, 3])"
      ]
     },
     "execution_count": 30,
     "metadata": {},
     "output_type": "execute_result"
    }
   ],
   "source": [
    "#interactive plot of topic representation \n",
    "#in the left each circle represent a topic and it's size determine the importance.Also in the right are the most representative words for each topic  \n",
    "pyLDAvis.enable_notebook()\n",
    "vis = gensimvis.prepare(lda_model, corpus, dictionary)\n",
    "vis"
   ]
  },
  {
   "cell_type": "code",
   "execution_count": 31,
   "metadata": {},
   "outputs": [],
   "source": [
    "pyLDAvis.save_html(vis, 'lda.html')\n"
   ]
  },
  {
   "cell_type": "code",
   "execution_count": 32,
   "metadata": {},
   "outputs": [
    {
     "data": {
      "text/plain": [
       "'\\ntopics_terms = lda_model.state.get_lambda() \\ntopics_terms_proba = np.apply_along_axis(lambda x: x/x.sum(),1,topics_terms)\\nwords = [lda_model.id2word[i] for i in range(topics_terms_proba.shape[1])]\\npd.DataFrame(topics_terms_proba,columns=words)\\n'"
      ]
     },
     "execution_count": 32,
     "metadata": {},
     "output_type": "execute_result"
    }
   ],
   "source": [
    "#term to topics matrix\n",
    "\"\"\"\n",
    "topics_terms = lda_model.state.get_lambda() \n",
    "topics_terms_proba = np.apply_along_axis(lambda x: x/x.sum(),1,topics_terms)\n",
    "words = [lda_model.id2word[i] for i in range(topics_terms_proba.shape[1])]\n",
    "pd.DataFrame(topics_terms_proba,columns=words)\n",
    "\"\"\""
   ]
  },
  {
   "cell_type": "code",
   "execution_count": 33,
   "metadata": {},
   "outputs": [],
   "source": [
    "#doc/movies to topics distribution\n"
   ]
  },
  {
   "cell_type": "code",
   "execution_count": 34,
   "metadata": {},
   "outputs": [
    {
     "data": {
      "text/plain": [
       "31291"
      ]
     },
     "execution_count": 34,
     "metadata": {},
     "output_type": "execute_result"
    }
   ],
   "source": [
    "len(summaries_corpus)"
   ]
  },
  {
   "cell_type": "code",
   "execution_count": 35,
   "metadata": {},
   "outputs": [],
   "source": [
    "train_vecs = []\n",
    "for i in range(len(summaries_corpus)):\n",
    "    top_topics = lda_model.get_document_topics(corpus[i], minimum_probability=0.0)\n",
    "    topic_vec = [top_topics[i][1] for i in range(4)]\n",
    "    train_vecs.append(topic_vec)"
   ]
  },
  {
   "cell_type": "code",
   "execution_count": 36,
   "metadata": {},
   "outputs": [],
   "source": [
    "movie_topic_distribution = pd.DataFrame(train_vecs[0:], columns=['topic_1','topic_2','topic_3','topic_4'])\n"
   ]
  },
  {
   "cell_type": "code",
   "execution_count": 37,
   "metadata": {},
   "outputs": [
    {
     "data": {
      "text/html": [
       "<div>\n",
       "<style scoped>\n",
       "    .dataframe tbody tr th:only-of-type {\n",
       "        vertical-align: middle;\n",
       "    }\n",
       "\n",
       "    .dataframe tbody tr th {\n",
       "        vertical-align: top;\n",
       "    }\n",
       "\n",
       "    .dataframe thead th {\n",
       "        text-align: right;\n",
       "    }\n",
       "</style>\n",
       "<table border=\"1\" class=\"dataframe\">\n",
       "  <thead>\n",
       "    <tr style=\"text-align: right;\">\n",
       "      <th></th>\n",
       "      <th>topic_1</th>\n",
       "      <th>topic_2</th>\n",
       "      <th>topic_3</th>\n",
       "      <th>topic_4</th>\n",
       "    </tr>\n",
       "  </thead>\n",
       "  <tbody>\n",
       "    <tr>\n",
       "      <th>0</th>\n",
       "      <td>0.633801</td>\n",
       "      <td>0.099370</td>\n",
       "      <td>0.236645</td>\n",
       "      <td>0.030183</td>\n",
       "    </tr>\n",
       "    <tr>\n",
       "      <th>1</th>\n",
       "      <td>0.165583</td>\n",
       "      <td>0.188212</td>\n",
       "      <td>0.245007</td>\n",
       "      <td>0.401198</td>\n",
       "    </tr>\n",
       "    <tr>\n",
       "      <th>2</th>\n",
       "      <td>0.801630</td>\n",
       "      <td>0.024238</td>\n",
       "      <td>0.107932</td>\n",
       "      <td>0.066200</td>\n",
       "    </tr>\n",
       "    <tr>\n",
       "      <th>3</th>\n",
       "      <td>0.635494</td>\n",
       "      <td>0.272188</td>\n",
       "      <td>0.073477</td>\n",
       "      <td>0.018841</td>\n",
       "    </tr>\n",
       "    <tr>\n",
       "      <th>4</th>\n",
       "      <td>0.378305</td>\n",
       "      <td>0.029088</td>\n",
       "      <td>0.236551</td>\n",
       "      <td>0.356057</td>\n",
       "    </tr>\n",
       "    <tr>\n",
       "      <th>...</th>\n",
       "      <td>...</td>\n",
       "      <td>...</td>\n",
       "      <td>...</td>\n",
       "      <td>...</td>\n",
       "    </tr>\n",
       "    <tr>\n",
       "      <th>31286</th>\n",
       "      <td>0.846602</td>\n",
       "      <td>0.098983</td>\n",
       "      <td>0.010952</td>\n",
       "      <td>0.043463</td>\n",
       "    </tr>\n",
       "    <tr>\n",
       "      <th>31287</th>\n",
       "      <td>0.632356</td>\n",
       "      <td>0.174139</td>\n",
       "      <td>0.080308</td>\n",
       "      <td>0.113198</td>\n",
       "    </tr>\n",
       "    <tr>\n",
       "      <th>31288</th>\n",
       "      <td>0.919264</td>\n",
       "      <td>0.058464</td>\n",
       "      <td>0.006877</td>\n",
       "      <td>0.015395</td>\n",
       "    </tr>\n",
       "    <tr>\n",
       "      <th>31289</th>\n",
       "      <td>0.729333</td>\n",
       "      <td>0.202205</td>\n",
       "      <td>0.009401</td>\n",
       "      <td>0.059061</td>\n",
       "    </tr>\n",
       "    <tr>\n",
       "      <th>31290</th>\n",
       "      <td>0.744248</td>\n",
       "      <td>0.209003</td>\n",
       "      <td>0.003514</td>\n",
       "      <td>0.043235</td>\n",
       "    </tr>\n",
       "  </tbody>\n",
       "</table>\n",
       "<p>31291 rows × 4 columns</p>\n",
       "</div>"
      ],
      "text/plain": [
       "        topic_1   topic_2   topic_3   topic_4\n",
       "0      0.633801  0.099370  0.236645  0.030183\n",
       "1      0.165583  0.188212  0.245007  0.401198\n",
       "2      0.801630  0.024238  0.107932  0.066200\n",
       "3      0.635494  0.272188  0.073477  0.018841\n",
       "4      0.378305  0.029088  0.236551  0.356057\n",
       "...         ...       ...       ...       ...\n",
       "31286  0.846602  0.098983  0.010952  0.043463\n",
       "31287  0.632356  0.174139  0.080308  0.113198\n",
       "31288  0.919264  0.058464  0.006877  0.015395\n",
       "31289  0.729333  0.202205  0.009401  0.059061\n",
       "31290  0.744248  0.209003  0.003514  0.043235\n",
       "\n",
       "[31291 rows x 4 columns]"
      ]
     },
     "execution_count": 37,
     "metadata": {},
     "output_type": "execute_result"
    }
   ],
   "source": [
    "movie_topic_distribution"
   ]
  },
  {
   "cell_type": "code",
   "execution_count": 41,
   "metadata": {},
   "outputs": [],
   "source": [
    "topic_1 = movie_topic_distribution.topic_1.sort_values(ascending=False)\n",
    "topic_2 = movie_topic_distribution.topic_2.sort_values(ascending=False)\n",
    "topic_3 = movie_topic_distribution.topic_3.sort_values(ascending=False)\n",
    "topic_4 = movie_topic_distribution.topic_4.sort_values(ascending=False)"
   ]
  },
  {
   "cell_type": "code",
   "execution_count": 48,
   "metadata": {},
   "outputs": [
    {
     "data": {
      "text/plain": [
       "21715    0.690865\n",
       "24403    0.646895\n",
       "20014    0.644541\n",
       "24169    0.616023\n",
       "16267    0.613956\n",
       "           ...   \n",
       "7866     0.000538\n",
       "5357     0.000487\n",
       "18047    0.000432\n",
       "29602    0.000344\n",
       "25319    0.000319\n",
       "Name: topic_3, Length: 31291, dtype: float32"
      ]
     },
     "execution_count": 48,
     "metadata": {},
     "output_type": "execute_result"
    }
   ],
   "source": [
    "topic_3"
   ]
  },
  {
   "cell_type": "code",
   "execution_count": null,
   "metadata": {},
   "outputs": [],
   "source": []
  },
  {
   "cell_type": "code",
   "execution_count": 43,
   "metadata": {},
   "outputs": [],
   "source": [
    "topic1_most_representative_movie_ids=movie_topics.iloc[topic_1.index[:5]].movie_id\n",
    "topic2_most_representative_movie_ids=movie_topics.iloc[topic_2.index[:5]].movie_id\n",
    "topic3_most_representative_movie_ids=movie_topics.iloc[topic_3.index[:5]].movie_id\n",
    "topic4_most_representative_movie_ids=movie_topics.iloc[topic_4.index[:5]].movie_id"
   ]
  },
  {
   "cell_type": "code",
   "execution_count": 44,
   "metadata": {},
   "outputs": [
    {
     "data": {
      "text/plain": [
       "array([ 5045106,    77653, 12091274,  2014153,  7342730], dtype=int64)"
      ]
     },
     "execution_count": 44,
     "metadata": {},
     "output_type": "execute_result"
    }
   ],
   "source": [
    "topic1_most_representative_movie_ids.values"
   ]
  },
  {
   "cell_type": "code",
   "execution_count": 45,
   "metadata": {},
   "outputs": [
    {
     "data": {
      "text/plain": [
       "array([ 5826081, 33113634, 29677455, 28869936,   240483], dtype=int64)"
      ]
     },
     "execution_count": 45,
     "metadata": {},
     "output_type": "execute_result"
    }
   ],
   "source": [
    "topic2_most_representative_movie_ids.values"
   ]
  },
  {
   "cell_type": "code",
   "execution_count": 46,
   "metadata": {},
   "outputs": [
    {
     "data": {
      "text/plain": [
       "array([24121382, 24190384, 32852772, 25432586, 32173262], dtype=int64)"
      ]
     },
     "execution_count": 46,
     "metadata": {},
     "output_type": "execute_result"
    }
   ],
   "source": [
    "topic3_most_representative_movie_ids.values"
   ]
  },
  {
   "cell_type": "code",
   "execution_count": 47,
   "metadata": {},
   "outputs": [
    {
     "data": {
      "text/plain": [
       "array([10131383,  9930507, 10131333, 23617806, 14205601], dtype=int64)"
      ]
     },
     "execution_count": 47,
     "metadata": {},
     "output_type": "execute_result"
    }
   ],
   "source": [
    "topic4_most_representative_movie_ids.values"
   ]
  },
  {
   "cell_type": "code",
   "execution_count": 58,
   "metadata": {},
   "outputs": [],
   "source": [
    "movie_topic_distribution['movie_id']=movie_topics.movie_id.values"
   ]
  },
  {
   "cell_type": "code",
   "execution_count": 60,
   "metadata": {},
   "outputs": [
    {
     "data": {
      "text/html": [
       "<div>\n",
       "<style scoped>\n",
       "    .dataframe tbody tr th:only-of-type {\n",
       "        vertical-align: middle;\n",
       "    }\n",
       "\n",
       "    .dataframe tbody tr th {\n",
       "        vertical-align: top;\n",
       "    }\n",
       "\n",
       "    .dataframe thead th {\n",
       "        text-align: right;\n",
       "    }\n",
       "</style>\n",
       "<table border=\"1\" class=\"dataframe\">\n",
       "  <thead>\n",
       "    <tr style=\"text-align: right;\">\n",
       "      <th></th>\n",
       "      <th>topic_1</th>\n",
       "      <th>topic_2</th>\n",
       "      <th>topic_3</th>\n",
       "      <th>topic_4</th>\n",
       "      <th>movie_id</th>\n",
       "    </tr>\n",
       "  </thead>\n",
       "  <tbody>\n",
       "    <tr>\n",
       "      <th>0</th>\n",
       "      <td>0.633801</td>\n",
       "      <td>0.099370</td>\n",
       "      <td>0.236645</td>\n",
       "      <td>0.030183</td>\n",
       "      <td>30332673</td>\n",
       "    </tr>\n",
       "    <tr>\n",
       "      <th>1</th>\n",
       "      <td>0.165583</td>\n",
       "      <td>0.188212</td>\n",
       "      <td>0.245007</td>\n",
       "      <td>0.401198</td>\n",
       "      <td>4213160</td>\n",
       "    </tr>\n",
       "    <tr>\n",
       "      <th>2</th>\n",
       "      <td>0.801630</td>\n",
       "      <td>0.024238</td>\n",
       "      <td>0.107932</td>\n",
       "      <td>0.066200</td>\n",
       "      <td>20624798</td>\n",
       "    </tr>\n",
       "    <tr>\n",
       "      <th>3</th>\n",
       "      <td>0.635494</td>\n",
       "      <td>0.272188</td>\n",
       "      <td>0.073477</td>\n",
       "      <td>0.018841</td>\n",
       "      <td>2250713</td>\n",
       "    </tr>\n",
       "    <tr>\n",
       "      <th>4</th>\n",
       "      <td>0.378305</td>\n",
       "      <td>0.029088</td>\n",
       "      <td>0.236551</td>\n",
       "      <td>0.356057</td>\n",
       "      <td>10331139</td>\n",
       "    </tr>\n",
       "    <tr>\n",
       "      <th>...</th>\n",
       "      <td>...</td>\n",
       "      <td>...</td>\n",
       "      <td>...</td>\n",
       "      <td>...</td>\n",
       "      <td>...</td>\n",
       "    </tr>\n",
       "    <tr>\n",
       "      <th>31286</th>\n",
       "      <td>0.846602</td>\n",
       "      <td>0.098983</td>\n",
       "      <td>0.010952</td>\n",
       "      <td>0.043463</td>\n",
       "      <td>1719500</td>\n",
       "    </tr>\n",
       "    <tr>\n",
       "      <th>31287</th>\n",
       "      <td>0.632356</td>\n",
       "      <td>0.174139</td>\n",
       "      <td>0.080308</td>\n",
       "      <td>0.113198</td>\n",
       "      <td>31799966</td>\n",
       "    </tr>\n",
       "    <tr>\n",
       "      <th>31288</th>\n",
       "      <td>0.919264</td>\n",
       "      <td>0.058464</td>\n",
       "      <td>0.006877</td>\n",
       "      <td>0.015395</td>\n",
       "      <td>13983035</td>\n",
       "    </tr>\n",
       "    <tr>\n",
       "      <th>31289</th>\n",
       "      <td>0.729333</td>\n",
       "      <td>0.202205</td>\n",
       "      <td>0.009401</td>\n",
       "      <td>0.059061</td>\n",
       "      <td>25818705</td>\n",
       "    </tr>\n",
       "    <tr>\n",
       "      <th>31290</th>\n",
       "      <td>0.744248</td>\n",
       "      <td>0.209003</td>\n",
       "      <td>0.003514</td>\n",
       "      <td>0.043235</td>\n",
       "      <td>23767055</td>\n",
       "    </tr>\n",
       "  </tbody>\n",
       "</table>\n",
       "<p>31291 rows × 5 columns</p>\n",
       "</div>"
      ],
      "text/plain": [
       "        topic_1   topic_2   topic_3   topic_4  movie_id\n",
       "0      0.633801  0.099370  0.236645  0.030183  30332673\n",
       "1      0.165583  0.188212  0.245007  0.401198   4213160\n",
       "2      0.801630  0.024238  0.107932  0.066200  20624798\n",
       "3      0.635494  0.272188  0.073477  0.018841   2250713\n",
       "4      0.378305  0.029088  0.236551  0.356057  10331139\n",
       "...         ...       ...       ...       ...       ...\n",
       "31286  0.846602  0.098983  0.010952  0.043463   1719500\n",
       "31287  0.632356  0.174139  0.080308  0.113198  31799966\n",
       "31288  0.919264  0.058464  0.006877  0.015395  13983035\n",
       "31289  0.729333  0.202205  0.009401  0.059061  25818705\n",
       "31290  0.744248  0.209003  0.003514  0.043235  23767055\n",
       "\n",
       "[31291 rows x 5 columns]"
      ]
     },
     "execution_count": 60,
     "metadata": {},
     "output_type": "execute_result"
    }
   ],
   "source": [
    "movie_topic_distribution"
   ]
  },
  {
   "cell_type": "code",
   "execution_count": 61,
   "metadata": {},
   "outputs": [],
   "source": [
    "movie_topic_distribution.to_csv('movie_topic_distribution.csv', index=True)"
   ]
  }
 ],
 "metadata": {
  "kernelspec": {
   "display_name": "Python 3 (ipykernel)",
   "language": "python",
   "name": "python3"
  },
  "language_info": {
   "codemirror_mode": {
    "name": "ipython",
    "version": 3
   },
   "file_extension": ".py",
   "mimetype": "text/x-python",
   "name": "python",
   "nbconvert_exporter": "python",
   "pygments_lexer": "ipython3",
   "version": "3.9.12"
  },
  "vscode": {
   "interpreter": {
    "hash": "bddb6c94227d8177e61600db041b4cc1c87a884063126e29a3bfd540ed5196fb"
   }
  }
 },
 "nbformat": 4,
 "nbformat_minor": 4
}
