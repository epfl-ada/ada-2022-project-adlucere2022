{
 "cells": [
  {
   "cell_type": "code",
   "execution_count": 26,
   "metadata": {
    "colab": {
     "base_uri": "https://localhost:8080/"
    },
    "executionInfo": {
     "elapsed": 1483,
     "status": "ok",
     "timestamp": 1671754810118,
     "user": {
      "displayName": "Adrian Ferrer",
      "userId": "12905036004103749562"
     },
     "user_tz": -60
    },
    "id": "6uwDPvnjH_Aj",
    "outputId": "c9fdd9a9-3d28-4720-c4bc-03b4774cfe70"
   },
   "outputs": [],
   "source": [
    "\"\"\"\n",
    "from google.colab import drive\n",
    "drive.mount('/content/drive')\n",
    "\n",
    "path = \"/content/drive/MyDrive/EPFL/AppliedDataScience/Project/ada-2022-project-adlucere2022/src/\"\n",
    "\"\"\"\n",
    "path=\"\""
   ]
  },
  {
   "cell_type": "code",
   "execution_count": 27,
   "metadata": {
    "colab": {
     "base_uri": "https://localhost:8080/"
    },
    "id": "b1sY7coC-WtH",
    "outputId": "1cdcacd1-6d39-4100-bb1a-d9390b01e8f6"
   },
   "outputs": [
    {
     "name": "stdout",
     "output_type": "stream",
     "text": [
      "Requirement already satisfied: pyLDAvis in c:\\users\\user\\anaconda3\\lib\\site-packages (3.3.1)\n",
      "Requirement already satisfied: jinja2 in c:\\users\\user\\anaconda3\\lib\\site-packages (from pyLDAvis) (2.11.3)\n",
      "Requirement already satisfied: scikit-learn in c:\\users\\user\\anaconda3\\lib\\site-packages (from pyLDAvis) (1.0.2)\n",
      "Requirement already satisfied: numpy>=1.20.0 in c:\\users\\user\\anaconda3\\lib\\site-packages (from pyLDAvis) (1.22.4)\n",
      "Requirement already satisfied: funcy in c:\\users\\user\\anaconda3\\lib\\site-packages (from pyLDAvis) (1.17)\n",
      "Requirement already satisfied: joblib in c:\\users\\user\\anaconda3\\lib\\site-packages (from pyLDAvis) (1.1.0)\n",
      "Requirement already satisfied: setuptools in c:\\users\\user\\anaconda3\\lib\\site-packages (from pyLDAvis) (65.5.0)\n",
      "Requirement already satisfied: numexpr in c:\\users\\user\\anaconda3\\lib\\site-packages (from pyLDAvis) (2.8.1)\n",
      "Requirement already satisfied: pandas>=1.2.0 in c:\\users\\user\\anaconda3\\lib\\site-packages (from pyLDAvis) (1.4.2)\n",
      "Requirement already satisfied: scipy in c:\\users\\user\\anaconda3\\lib\\site-packages (from pyLDAvis) (1.7.3)\n",
      "Requirement already satisfied: future in c:\\users\\user\\anaconda3\\lib\\site-packages (from pyLDAvis) (0.18.2)\n",
      "Requirement already satisfied: gensim in c:\\users\\user\\anaconda3\\lib\\site-packages (from pyLDAvis) (4.1.2)\n",
      "Requirement already satisfied: sklearn in c:\\users\\user\\anaconda3\\lib\\site-packages (from pyLDAvis) (0.0.post1)\n",
      "Requirement already satisfied: python-dateutil>=2.8.1 in c:\\users\\user\\anaconda3\\lib\\site-packages (from pandas>=1.2.0->pyLDAvis) (2.8.2)\n",
      "Requirement already satisfied: pytz>=2020.1 in c:\\users\\user\\anaconda3\\lib\\site-packages (from pandas>=1.2.0->pyLDAvis) (2021.3)\n",
      "Requirement already satisfied: six>=1.5 in c:\\users\\user\\anaconda3\\lib\\site-packages (from python-dateutil>=2.8.1->pandas>=1.2.0->pyLDAvis) (1.16.0)\n",
      "Requirement already satisfied: smart-open>=1.8.1 in c:\\users\\user\\anaconda3\\lib\\site-packages (from gensim->pyLDAvis) (5.2.1)\n",
      "Requirement already satisfied: MarkupSafe>=0.23 in c:\\users\\user\\anaconda3\\lib\\site-packages (from jinja2->pyLDAvis) (2.0.1)\n",
      "Requirement already satisfied: packaging in c:\\users\\user\\anaconda3\\lib\\site-packages (from numexpr->pyLDAvis) (21.3)\n",
      "Requirement already satisfied: pyparsing!=3.0.5,>=2.0.2 in c:\\users\\user\\anaconda3\\lib\\site-packages (from packaging->numexpr->pyLDAvis) (3.0.4)\n",
      "Requirement already satisfied: threadpoolctl>=2.0.0 in c:\\users\\user\\anaconda3\\lib\\site-packages (from scikit-learn->pyLDAvis) (2.2.0)\n"
     ]
    }
   ],
   "source": [
    "# Basic stuff\n",
    "import pandas as pd\n",
    "\n",
    "# NLP\n",
    "import nltk\n",
    "from nltk.corpus import stopwords\n",
    "from sklearn.feature_extraction.text import TfidfTransformer\n",
    "\n",
    "# Gensim\n",
    "import gensim\n",
    "import gensim.corpora as corpora\n",
    "from gensim.utils import simple_preprocess\n",
    "from gensim.models import CoherenceModel\n",
    "\n",
    "# Visualization\n",
    "import matplotlib.pyplot as plt\n",
    "%matplotlib inline\n",
    "\n",
    "\n",
    "# pyLDAvis\n",
    "!pip install pyLDAvis\n",
    "\n",
    "import pyLDAvis\n",
    "import pyLDAvis.gensim_models as gensimvis"
   ]
  },
  {
   "cell_type": "markdown",
   "metadata": {
    "id": "R3yOqpDQJEWZ"
   },
   "source": [
    "Load data"
   ]
  },
  {
   "cell_type": "code",
   "execution_count": 28,
   "metadata": {
    "executionInfo": {
     "elapsed": 1,
     "status": "ok",
     "timestamp": 1671754964897,
     "user": {
      "displayName": "Adrian Ferrer",
      "userId": "12905036004103749562"
     },
     "user_tz": -60
    },
    "id": "vOECVUqKW1oK"
   },
   "outputs": [],
   "source": [
    "preferred_index = pd.read_csv(path + '../data/preferred_index.csv').values.flatten()"
   ]
  },
  {
   "cell_type": "code",
   "execution_count": 29,
   "metadata": {
    "executionInfo": {
     "elapsed": 3290,
     "status": "ok",
     "timestamp": 1671754968411,
     "user": {
      "displayName": "Adrian Ferrer",
      "userId": "12905036004103749562"
     },
     "user_tz": -60
    },
    "id": "ckHwMIX3GQCT"
   },
   "outputs": [],
   "source": [
    "plots = pd.read_csv(path + '../data/movie_data_imdbscores_final.csv').drop('plot_summary', axis = 1)\n",
    "plots_processed = pd.read_csv(path + '../data/plot/plot_summaries_preprocessed.csv')\n",
    "\n",
    "plots = pd.merge(plots, plots_processed, on = 'movie_id')\n",
    "\n",
    "plots = plots.set_index('movie_id').loc[preferred_index].reset_index()"
   ]
  },
  {
   "cell_type": "code",
   "execution_count": 30,
   "metadata": {
    "colab": {
     "base_uri": "https://localhost:8080/",
     "height": 629
    },
    "executionInfo": {
     "elapsed": 6,
     "status": "ok",
     "timestamp": 1671754975706,
     "user": {
      "displayName": "Adrian Ferrer",
      "userId": "12905036004103749562"
     },
     "user_tz": -60
    },
    "id": "kab_SFKIXHsW",
    "outputId": "f1e61a4d-21b7-4a08-a607-e2b96e8105c5"
   },
   "outputs": [
    {
     "data": {
      "text/html": [
       "<div>\n",
       "<style scoped>\n",
       "    .dataframe tbody tr th:only-of-type {\n",
       "        vertical-align: middle;\n",
       "    }\n",
       "\n",
       "    .dataframe tbody tr th {\n",
       "        vertical-align: top;\n",
       "    }\n",
       "\n",
       "    .dataframe thead th {\n",
       "        text-align: right;\n",
       "    }\n",
       "</style>\n",
       "<table border=\"1\" class=\"dataframe\">\n",
       "  <thead>\n",
       "    <tr style=\"text-align: right;\">\n",
       "      <th></th>\n",
       "      <th>movie_id</th>\n",
       "      <th>movie_name</th>\n",
       "      <th>release_date</th>\n",
       "      <th>english_language</th>\n",
       "      <th>german_language</th>\n",
       "      <th>silent_film_language</th>\n",
       "      <th>spanish_language</th>\n",
       "      <th>japanese_language</th>\n",
       "      <th>italian_language</th>\n",
       "      <th>tamil_language</th>\n",
       "      <th>...</th>\n",
       "      <th>united_kingdom</th>\n",
       "      <th>germany</th>\n",
       "      <th>japan</th>\n",
       "      <th>france</th>\n",
       "      <th>italy</th>\n",
       "      <th>india</th>\n",
       "      <th>F_gender</th>\n",
       "      <th>averageRating</th>\n",
       "      <th>numVotes</th>\n",
       "      <th>plot_summary</th>\n",
       "    </tr>\n",
       "  </thead>\n",
       "  <tbody>\n",
       "    <tr>\n",
       "      <th>0</th>\n",
       "      <td>30332673</td>\n",
       "      <td>#1 cheerleader camp</td>\n",
       "      <td>2010</td>\n",
       "      <td>False</td>\n",
       "      <td>False</td>\n",
       "      <td>False</td>\n",
       "      <td>False</td>\n",
       "      <td>False</td>\n",
       "      <td>False</td>\n",
       "      <td>False</td>\n",
       "      <td>...</td>\n",
       "      <td>False</td>\n",
       "      <td>False</td>\n",
       "      <td>False</td>\n",
       "      <td>False</td>\n",
       "      <td>False</td>\n",
       "      <td>False</td>\n",
       "      <td>0.666667</td>\n",
       "      <td>3.7</td>\n",
       "      <td>3222</td>\n",
       "      <td>horny college guy summer job cheerleader camp ...</td>\n",
       "    </tr>\n",
       "    <tr>\n",
       "      <th>1</th>\n",
       "      <td>4213160</td>\n",
       "      <td>$</td>\n",
       "      <td>1971</td>\n",
       "      <td>True</td>\n",
       "      <td>False</td>\n",
       "      <td>False</td>\n",
       "      <td>False</td>\n",
       "      <td>False</td>\n",
       "      <td>False</td>\n",
       "      <td>False</td>\n",
       "      <td>...</td>\n",
       "      <td>False</td>\n",
       "      <td>False</td>\n",
       "      <td>False</td>\n",
       "      <td>False</td>\n",
       "      <td>False</td>\n",
       "      <td>False</td>\n",
       "      <td>0.250000</td>\n",
       "      <td>6.3</td>\n",
       "      <td>2631</td>\n",
       "      <td>set hamburg west germany criminal advantage ge...</td>\n",
       "    </tr>\n",
       "    <tr>\n",
       "      <th>2</th>\n",
       "      <td>20624798</td>\n",
       "      <td>$9.99</td>\n",
       "      <td>2008</td>\n",
       "      <td>True</td>\n",
       "      <td>False</td>\n",
       "      <td>False</td>\n",
       "      <td>False</td>\n",
       "      <td>False</td>\n",
       "      <td>False</td>\n",
       "      <td>False</td>\n",
       "      <td>...</td>\n",
       "      <td>False</td>\n",
       "      <td>False</td>\n",
       "      <td>False</td>\n",
       "      <td>False</td>\n",
       "      <td>False</td>\n",
       "      <td>False</td>\n",
       "      <td>0.111111</td>\n",
       "      <td>7.2</td>\n",
       "      <td>22</td>\n",
       "      <td>film mainly focus year old dave peck unemploye...</td>\n",
       "    </tr>\n",
       "    <tr>\n",
       "      <th>3</th>\n",
       "      <td>2250713</td>\n",
       "      <td>'68</td>\n",
       "      <td>1988</td>\n",
       "      <td>True</td>\n",
       "      <td>False</td>\n",
       "      <td>False</td>\n",
       "      <td>False</td>\n",
       "      <td>False</td>\n",
       "      <td>False</td>\n",
       "      <td>False</td>\n",
       "      <td>...</td>\n",
       "      <td>False</td>\n",
       "      <td>False</td>\n",
       "      <td>False</td>\n",
       "      <td>False</td>\n",
       "      <td>False</td>\n",
       "      <td>False</td>\n",
       "      <td>0.000000</td>\n",
       "      <td>5.9</td>\n",
       "      <td>82</td>\n",
       "      <td>father escaped soviet invasion budapest run hu...</td>\n",
       "    </tr>\n",
       "    <tr>\n",
       "      <th>4</th>\n",
       "      <td>10331139</td>\n",
       "      <td>'gator bait</td>\n",
       "      <td>1974</td>\n",
       "      <td>True</td>\n",
       "      <td>False</td>\n",
       "      <td>False</td>\n",
       "      <td>False</td>\n",
       "      <td>False</td>\n",
       "      <td>False</td>\n",
       "      <td>False</td>\n",
       "      <td>...</td>\n",
       "      <td>False</td>\n",
       "      <td>False</td>\n",
       "      <td>False</td>\n",
       "      <td>False</td>\n",
       "      <td>False</td>\n",
       "      <td>False</td>\n",
       "      <td>1.000000</td>\n",
       "      <td>5.4</td>\n",
       "      <td>1277</td>\n",
       "      <td>film follows poacher named desiree life deep s...</td>\n",
       "    </tr>\n",
       "  </tbody>\n",
       "</table>\n",
       "<p>5 rows × 44 columns</p>\n",
       "</div>"
      ],
      "text/plain": [
       "   movie_id           movie_name  release_date  english_language  \\\n",
       "0  30332673  #1 cheerleader camp          2010             False   \n",
       "1   4213160                    $          1971              True   \n",
       "2  20624798                $9.99          2008              True   \n",
       "3   2250713                  '68          1988              True   \n",
       "4  10331139          'gator bait          1974              True   \n",
       "\n",
       "   german_language  silent_film_language  spanish_language  japanese_language  \\\n",
       "0            False                 False             False              False   \n",
       "1            False                 False             False              False   \n",
       "2            False                 False             False              False   \n",
       "3            False                 False             False              False   \n",
       "4            False                 False             False              False   \n",
       "\n",
       "   italian_language  tamil_language  ...  united_kingdom  germany  japan  \\\n",
       "0             False           False  ...           False    False  False   \n",
       "1             False           False  ...           False    False  False   \n",
       "2             False           False  ...           False    False  False   \n",
       "3             False           False  ...           False    False  False   \n",
       "4             False           False  ...           False    False  False   \n",
       "\n",
       "   france  italy  india  F_gender  averageRating  numVotes  \\\n",
       "0   False  False  False  0.666667            3.7      3222   \n",
       "1   False  False  False  0.250000            6.3      2631   \n",
       "2   False  False  False  0.111111            7.2        22   \n",
       "3   False  False  False  0.000000            5.9        82   \n",
       "4   False  False  False  1.000000            5.4      1277   \n",
       "\n",
       "                                        plot_summary  \n",
       "0  horny college guy summer job cheerleader camp ...  \n",
       "1  set hamburg west germany criminal advantage ge...  \n",
       "2  film mainly focus year old dave peck unemploye...  \n",
       "3  father escaped soviet invasion budapest run hu...  \n",
       "4  film follows poacher named desiree life deep s...  \n",
       "\n",
       "[5 rows x 44 columns]"
      ]
     },
     "execution_count": 30,
     "metadata": {},
     "output_type": "execute_result"
    }
   ],
   "source": [
    "plots.head()"
   ]
  },
  {
   "cell_type": "markdown",
   "metadata": {
    "id": "R_DF7hhCJFGY"
   },
   "source": [
    "Transform sentences to list of words"
   ]
  },
  {
   "cell_type": "code",
   "execution_count": 31,
   "metadata": {
    "executionInfo": {
     "elapsed": 1028,
     "status": "ok",
     "timestamp": 1671754977741,
     "user": {
      "displayName": "Adrian Ferrer",
      "userId": "12905036004103749562"
     },
     "user_tz": -60
    },
    "id": "DQ_FWgJM-WtK"
   },
   "outputs": [],
   "source": [
    "summaries_corpus = plots.plot_summary.apply(lambda x: x.split()).values.tolist()"
   ]
  },
  {
   "cell_type": "markdown",
   "metadata": {
    "id": "B9bPvW9jJIXM"
   },
   "source": [
    "Transform list of words to list of bigrams"
   ]
  },
  {
   "cell_type": "code",
   "execution_count": 32,
   "metadata": {
    "executionInfo": {
     "elapsed": 74588,
     "status": "ok",
     "timestamp": 1671755053270,
     "user": {
      "displayName": "Adrian Ferrer",
      "userId": "12905036004103749562"
     },
     "user_tz": -60
    },
    "id": "Is1j0KYh-WtL"
   },
   "outputs": [],
   "source": [
    "#enrich our tokens by creating bigrams for each summary\n",
    "\n",
    "def make_bigrams(summaries): \n",
    "    bigram = gensim.models.Phrases(summaries_corpus, min_count=5, threshold=100) # default parameters \n",
    "    bigram_model=gensim.models.phrases.Phraser(bigram) #create the model\n",
    "    return [bigram_model[summary] for summary in summaries] # return the output of the bigram model for each summary\n",
    "\n",
    "#for trigrams \n",
    "#trigram = gensim.models.Phrases(bigram[data_words], threshold=100)  \n",
    "#trigram_model=gensim.models.phrases.Phraser(trigram) #create the model\n",
    "#return [trigram_mod[bigram_model[summary]] for summary in summaries]\n",
    "\n",
    "\n",
    "summaries_corpus=make_bigrams(summaries_corpus)"
   ]
  },
  {
   "cell_type": "markdown",
   "metadata": {
    "id": "lV8dmmJ5JNhK"
   },
   "source": [
    "Extract dictionary and corpus"
   ]
  },
  {
   "cell_type": "code",
   "execution_count": 33,
   "metadata": {
    "executionInfo": {
     "elapsed": 12086,
     "status": "ok",
     "timestamp": 1671755065354,
     "user": {
      "displayName": "Adrian Ferrer",
      "userId": "12905036004103749562"
     },
     "user_tz": -60
    },
    "id": "_PayAYhw-WtL"
   },
   "outputs": [],
   "source": [
    "#create the dictionary( a mapping between words and their integer ids) and corpus for LDA analaysis based on the preprocesseed summaries\n",
    "dictionary = corpora.Dictionary(summaries_corpus)\n",
    "\n",
    "#so for each word we have already mapped it in tuple of word id and frequency , so a summary is a bag of these tuples\n",
    "corpus = [dictionary.doc2bow(summary) for summary in summaries_corpus]"
   ]
  },
  {
   "cell_type": "markdown",
   "metadata": {
    "id": "D1V7FyWfJWT-"
   },
   "source": [
    "Number of plot summaries"
   ]
  },
  {
   "cell_type": "code",
   "execution_count": 34,
   "metadata": {
    "colab": {
     "base_uri": "https://localhost:8080/"
    },
    "executionInfo": {
     "elapsed": 9,
     "status": "ok",
     "timestamp": 1671755065354,
     "user": {
      "displayName": "Adrian Ferrer",
      "userId": "12905036004103749562"
     },
     "user_tz": -60
    },
    "id": "ab4N4Pnq-WtM",
    "outputId": "cc5d6953-3b76-4334-ac68-4c9f8825a01d"
   },
   "outputs": [
    {
     "data": {
      "text/plain": [
       "31291"
      ]
     },
     "execution_count": 34,
     "metadata": {},
     "output_type": "execute_result"
    }
   ],
   "source": [
    "len(summaries_corpus)"
   ]
  },
  {
   "cell_type": "markdown",
   "metadata": {
    "id": "JhAzhe5rJZV0"
   },
   "source": [
    "Number of tokens in dictionary"
   ]
  },
  {
   "cell_type": "code",
   "execution_count": 35,
   "metadata": {
    "colab": {
     "base_uri": "https://localhost:8080/"
    },
    "executionInfo": {
     "elapsed": 8,
     "status": "ok",
     "timestamp": 1671755065355,
     "user": {
      "displayName": "Adrian Ferrer",
      "userId": "12905036004103749562"
     },
     "user_tz": -60
    },
    "id": "iA7eblxi-WtM",
    "outputId": "74c24e35-5d98-4f4c-910b-a96cdd6f1e08"
   },
   "outputs": [
    {
     "data": {
      "text/plain": [
       "120627"
      ]
     },
     "execution_count": 35,
     "metadata": {},
     "output_type": "execute_result"
    }
   ],
   "source": [
    "len(dictionary)"
   ]
  },
  {
   "cell_type": "markdown",
   "metadata": {
    "id": "PeWXYZpuJbVI"
   },
   "source": [
    "Corpus representation"
   ]
  },
  {
   "cell_type": "markdown",
   "metadata": {
    "id": "kus-Ros_Jdk2"
   },
   "source": [
    "``I do not know what this is``"
   ]
  },
  {
   "cell_type": "code",
   "execution_count": null,
   "metadata": {
    "colab": {
     "base_uri": "https://localhost:8080/",
     "height": 1000
    },
    "id": "BetyWI0b-WtM",
    "outputId": "890c7723-c4ed-428a-c7cc-e451d988b1a1"
   },
   "outputs": [],
   "source": [
    "#LDA implementation using the previous corpus \n",
    "lda_model = gensim.models.ldamodel.LdaModel(corpus=corpus,\n",
    "                                           id2word=dictionary,\n",
    "                                           num_topics=4, \n",
    "                                           random_state=100,\n",
    "                                           update_every=1,# how often the model parameters should be updated\n",
    "                                           chunksize=100, # number of summaries to be used in each training chunk\n",
    "                                           passes=10, # training passes\n",
    "                                           alpha='auto', # hyperparameter\n",
    "                                           per_word_topics=True)\n",
    "#so the LDA find the maximum likelihood distribution of words and summaries over topics(set to 4) "
   ]
  },
  {
   "cell_type": "code",
   "execution_count": null,
   "metadata": {
    "colab": {
     "base_uri": "https://localhost:8080/"
    },
    "executionInfo": {
     "elapsed": 4,
     "status": "ok",
     "timestamp": 1671755513665,
     "user": {
      "displayName": "Adrian Ferrer",
      "userId": "12905036004103749562"
     },
     "user_tz": -60
    },
    "id": "bGryaFIuI8kt",
    "outputId": "90b4fa12-91e4-4e49-9120-60818cfae496"
   },
   "outputs": [],
   "source": [
    "lda_model.print_topics()"
   ]
  },
  {
   "cell_type": "code",
   "execution_count": null,
   "metadata": {
    "colab": {
     "base_uri": "https://localhost:8080/"
    },
    "executionInfo": {
     "elapsed": 110016,
     "status": "ok",
     "timestamp": 1671755623678,
     "user": {
      "displayName": "Adrian Ferrer",
      "userId": "12905036004103749562"
     },
     "user_tz": -60
    },
    "id": "wspYTX_KXPI7",
    "outputId": "488923a6-7ee2-4905-fa91-b0dde79c2717"
   },
   "outputs": [],
   "source": [
    "# Compute Perplexity\n",
    "print('\\nPerplexity: ', lda_model.log_perplexity(corpus))  # a measure of how good the model is. lower the better.\n",
    "\n",
    "# Compute Coherence Score\n",
    "coherence_model_lda = CoherenceModel(model=lda_model, texts=summaries_corpus, dictionary=dictionary, coherence='c_v')\n",
    "coherence_lda = coherence_model_lda.get_coherence()\n",
    "print('\\nCoherence Score: ', coherence_lda)"
   ]
  },
  {
   "cell_type": "code",
   "execution_count": null,
   "metadata": {
    "id": "Gr1J75O--WtN",
    "outputId": "ba599c86-b3b7-4514-9bf9-ecea4050201e",
    "scrolled": true
   },
   "outputs": [],
   "source": [
    "\n",
    "#interactive plot of topic representation \n",
    "#in the left each circle represent a topic and it's size determine the importance.Also in the right are the most representative words for each topic  \n",
    "pyLDAvis.enable_notebook()\n",
    "vis = gensimvis.prepare(lda_model, corpus, dictionary)\n",
    "vis"
   ]
  },
  {
   "cell_type": "code",
   "execution_count": null,
   "metadata": {
    "id": "h79VKeqf-WtN"
   },
   "outputs": [],
   "source": [
    "pyLDAvis.save_html(vis, path+'../data/clustering/lda_vis.html')"
   ]
  },
  {
   "cell_type": "code",
   "execution_count": null,
   "metadata": {
    "id": "IyoTsgy2-WtN",
    "outputId": "2a189ef0-0df7-4907-e57b-adc518f0701f"
   },
   "outputs": [],
   "source": [
    "#term to topics matrix distribution \n",
    "\"\"\"\n",
    "topics_terms = lda_model.state.get_lambda() \n",
    "topics_terms_proba = np.apply_along_axis(lambda x: x/x.sum(),1,topics_terms)\n",
    "words = [lda_model.id2word[i] for i in range(topics_terms_proba.shape[1])]\n",
    "pd.DataFrame(topics_terms_proba,columns=words)\n",
    "\"\"\""
   ]
  },
  {
   "cell_type": "code",
   "execution_count": null,
   "metadata": {
    "executionInfo": {
     "elapsed": 12858,
     "status": "ok",
     "timestamp": 1671755636531,
     "user": {
      "displayName": "Adrian Ferrer",
      "userId": "12905036004103749562"
     },
     "user_tz": -60
    },
    "id": "WJgFFxJe-WtO"
   },
   "outputs": [],
   "source": [
    "#doc/movies to topics matrix distribution\n",
    "train_vecs = []\n",
    "for i in range(len(summaries_corpus)):\n",
    "    top_topics = lda_model.get_document_topics(corpus[i], minimum_probability=0.0)\n",
    "    topic_vec = [top_topics[i][1] for i in range(4)]\n",
    "    train_vecs.append(topic_vec)"
   ]
  },
  {
   "cell_type": "code",
   "execution_count": null,
   "metadata": {
    "executionInfo": {
     "elapsed": 20,
     "status": "ok",
     "timestamp": 1671755636531,
     "user": {
      "displayName": "Adrian Ferrer",
      "userId": "12905036004103749562"
     },
     "user_tz": -60
    },
    "id": "GACv8OqZ-WtO"
   },
   "outputs": [],
   "source": [
    "#movies topic distribution dataframe \n",
    "movie_topic_distribution = pd.DataFrame(train_vecs[0:], columns=['topic_1','topic_2','topic_3','topic_4'])\n",
    "movie_topic_distribution['movie_id']=plots.movie_id.values"
   ]
  },
  {
   "cell_type": "code",
   "execution_count": null,
   "metadata": {
    "colab": {
     "base_uri": "https://localhost:8080/",
     "height": 424
    },
    "executionInfo": {
     "elapsed": 21,
     "status": "ok",
     "timestamp": 1671755636532,
     "user": {
      "displayName": "Adrian Ferrer",
      "userId": "12905036004103749562"
     },
     "user_tz": -60
    },
    "id": "rSliT6G4-WtO",
    "outputId": "4ebc8c42-6965-4fb5-c000-ea20c146b5e3"
   },
   "outputs": [],
   "source": [
    "movie_topic_distribution"
   ]
  },
  {
   "cell_type": "code",
   "execution_count": null,
   "metadata": {
    "id": "BWVwc_2Z-WtQ"
   },
   "outputs": [],
   "source": [
    "movie_topic_distribution.to_csv(path+'../data/clustering/movie_topic_distribution.csv', index=False)"
   ]
  },
  {
   "cell_type": "code",
   "execution_count": null,
   "metadata": {},
   "outputs": [],
   "source": [
    "#top 5 most representative movies for each topics based on the movie-topic matrix distribution\n",
    "most_representaive_movies_topic1=plots[plots.movie_id.isin(plots.iloc[movie_topic_distribution.topic_1.sort_values(ascending=False).index[:5]].movie_id.values)]\n",
    "most_representaive_movies_topic2=plots[plots.movie_id.isin(plots.iloc[movie_topic_distribution.topic_2.sort_values(ascending=False).index[:5]].movie_id.values)]\n",
    "most_representaive_movies_topic3=plots[plots.movie_id.isin(plots.iloc[movie_topic_distribution.topic_3.sort_values(ascending=False).index[:5]].movie_id.values)]\n",
    "most_representaive_movies_topic4=plots[plots.movie_id.isin(plots.iloc[movie_topic_distribution.topic_4.sort_values(ascending=False).index[:5]].movie_id.values)]"
   ]
  },
  {
   "cell_type": "markdown",
   "metadata": {},
   "source": [
    "Topic 1 =>Seems to be romantic comedies:\n",
    "\n",
    "https://en.wikipedia.org/wiki/Puccini_for_Beginners\n",
    "\n",
    "https://en.wikipedia.org/wiki/Waiter_(film)\n",
    "\n",
    "https://en.wikipedia.org/wiki/Heaven_Can_Wait_%281943_film%29\n",
    "\n",
    "https://en.wikipedia.org/wiki/Ullam_Ketkumae\n",
    "\n",
    "https://en.wikipedia.org/wiki/2_Young"
   ]
  },
  {
   "cell_type": "code",
   "execution_count": null,
   "metadata": {},
   "outputs": [],
   "source": [
    "most_representaive_movies_topic1"
   ]
  },
  {
   "cell_type": "markdown",
   "metadata": {},
   "source": [
    "Topic 2 => Some kind of historical movies about periods of upheaval and adversity\n",
    "\n",
    "https://en.wikipedia.org/wiki/Stalingrad_(1990_film)\n",
    "\n",
    "https://en.wikipedia.org/wiki/Operation_Thunderbolt_(film)\n",
    "\n",
    "https://en.wikipedia.org/wiki/The_Unforgettable_Year_1919\n",
    "\n",
    "https://en.wikipedia.org/wiki/Battle_of_Britain_(film)\n",
    "\n",
    "https://en.wikipedia.org/wiki/The_Sino-Dutch_War_1661"
   ]
  },
  {
   "cell_type": "code",
   "execution_count": null,
   "metadata": {},
   "outputs": [],
   "source": [
    "most_representaive_movies_topic2"
   ]
  },
  {
   "cell_type": "markdown",
   "metadata": {},
   "source": [
    "Topic 3 \n",
    "\n",
    "https://en.wikipedia.org/wiki/Smart_Alecks\n",
    "\n",
    "https://en.wikipedia.org/wiki/The_Crime_Patrol\n",
    "\n",
    "https://en.wikipedia.org/wiki/The_Casino_Job\n",
    "\n",
    "https://en.wikipedia.org/wiki/Roarin%27_Lead\n",
    "\n",
    "https://en.wikipedia.org/wiki/Mr._Muggs_Rides_Again"
   ]
  },
  {
   "cell_type": "code",
   "execution_count": null,
   "metadata": {},
   "outputs": [],
   "source": [
    "most_representaive_movies_topic3"
   ]
  },
  {
   "cell_type": "markdown",
   "metadata": {},
   "source": [
    "Topic 4 => Seems to be cartoon movies\n",
    "\n",
    "https://en.wikipedia.org/wiki/Zoom_and_Bored\n",
    "\n",
    "https://en.wikipedia.org/wiki/Ready,_Woolen_and_Able\n",
    "\n",
    "https://en.wikipedia.org/wiki/Hare-Breadth_Hurry\n",
    "\n",
    "https://en.wikipedia.org/wiki/Lickety-Splat"
   ]
  },
  {
   "cell_type": "code",
   "execution_count": null,
   "metadata": {
    "scrolled": true
   },
   "outputs": [],
   "source": [
    "most_representaive_movies_topic4"
   ]
  }
 ],
 "metadata": {
  "colab": {
   "provenance": []
  },
  "kernelspec": {
   "display_name": "Python 3 (ipykernel)",
   "language": "python",
   "name": "python3"
  },
  "language_info": {
   "codemirror_mode": {
    "name": "ipython",
    "version": 3
   },
   "file_extension": ".py",
   "mimetype": "text/x-python",
   "name": "python",
   "nbconvert_exporter": "python",
   "pygments_lexer": "ipython3",
   "version": "3.9.12"
  },
  "vscode": {
   "interpreter": {
    "hash": "bddb6c94227d8177e61600db041b4cc1c87a884063126e29a3bfd540ed5196fb"
   }
  }
 },
 "nbformat": 4,
 "nbformat_minor": 1
}
