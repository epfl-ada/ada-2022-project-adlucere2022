{
 "cells": [
  {
   "cell_type": "code",
   "execution_count": 2,
   "metadata": {},
   "outputs": [],
   "source": [
    "# from google.colab import drive\n",
    "# drive.mount('/content/drive')\n",
    "\n",
    "path = \"\""
   ]
  },
  {
   "cell_type": "code",
   "execution_count": 3,
   "metadata": {},
   "outputs": [],
   "source": [
    "# Basic Stuff\n",
    "import pandas as pd\n",
    "import numpy as np\n",
    "from scipy import stats\n",
    "from itertools import combinations\n",
    "\n",
    "# Visualization\n",
    "import matplotlib.pyplot as plt\n",
    "import seaborn as sns\n",
    "import matplotlib as mpl\n",
    "\n",
    "#ML\n",
    "from sklearn.linear_model import LogisticRegression\n",
    "from sklearn.metrics import f1_score\n",
    "from sklearn.ensemble import RandomForestClassifier"
   ]
  },
  {
   "cell_type": "code",
   "execution_count": 4,
   "metadata": {},
   "outputs": [],
   "source": [
    "# Matplotlib parameters customization\n",
    "\n",
    "fig_color = (150/255, 24/255, 24/255, 1)\n",
    "def set_mpl_params(COLOR = 'black'):  \n",
    "  mpl.rcParams['text.color'] = COLOR\n",
    "  mpl.rcParams['font.weight'] = 'normal'\n",
    "  mpl.rcParams['figure.titleweight'] = 'normal'\n",
    "  mpl.rcParams['axes.labelcolor'] = COLOR\n",
    "  mpl.rcParams['axes.edgecolor'] = COLOR\n",
    "  mpl.rcParams['xtick.color'] = COLOR\n",
    "  mpl.rcParams['ytick.color'] = COLOR\n",
    "  mpl.rcParams['figure.facecolor'] = (1,1,1,0)\n",
    "  mpl.rcParams['savefig.facecolor'] = (0,0,0,0)\n",
    "  mpl.rcParams['savefig.transparent'] = False"
   ]
  },
  {
   "cell_type": "markdown",
   "metadata": {},
   "source": [
    "# Importing and cleaning the data"
   ]
  },
  {
   "cell_type": "code",
   "execution_count": 5,
   "metadata": {
    "id": "gDbXgc7Jk-Qt"
   },
   "outputs": [
    {
     "data": {
      "text/html": [
       "<div>\n",
       "<style scoped>\n",
       "    .dataframe tbody tr th:only-of-type {\n",
       "        vertical-align: middle;\n",
       "    }\n",
       "\n",
       "    .dataframe tbody tr th {\n",
       "        vertical-align: top;\n",
       "    }\n",
       "\n",
       "    .dataframe thead th {\n",
       "        text-align: right;\n",
       "    }\n",
       "</style>\n",
       "<table border=\"1\" class=\"dataframe\">\n",
       "  <thead>\n",
       "    <tr style=\"text-align: right;\">\n",
       "      <th></th>\n",
       "      <th>movie_id</th>\n",
       "      <th>movie_name</th>\n",
       "      <th>release_date</th>\n",
       "      <th>english_language</th>\n",
       "      <th>german_language</th>\n",
       "      <th>silent_film_language</th>\n",
       "      <th>spanish_language</th>\n",
       "      <th>japanese_language</th>\n",
       "      <th>italian_language</th>\n",
       "      <th>tamil_language</th>\n",
       "      <th>...</th>\n",
       "      <th>united_kingdom</th>\n",
       "      <th>germany</th>\n",
       "      <th>japan</th>\n",
       "      <th>france</th>\n",
       "      <th>italy</th>\n",
       "      <th>india</th>\n",
       "      <th>plot_summary</th>\n",
       "      <th>F_gender</th>\n",
       "      <th>averageRating</th>\n",
       "      <th>numVotes</th>\n",
       "    </tr>\n",
       "  </thead>\n",
       "  <tbody>\n",
       "    <tr>\n",
       "      <th>0</th>\n",
       "      <td>975900</td>\n",
       "      <td>ghosts of mars</td>\n",
       "      <td>2001</td>\n",
       "      <td>True</td>\n",
       "      <td>False</td>\n",
       "      <td>False</td>\n",
       "      <td>False</td>\n",
       "      <td>False</td>\n",
       "      <td>False</td>\n",
       "      <td>False</td>\n",
       "      <td>...</td>\n",
       "      <td>False</td>\n",
       "      <td>False</td>\n",
       "      <td>False</td>\n",
       "      <td>False</td>\n",
       "      <td>False</td>\n",
       "      <td>False</td>\n",
       "      <td>Set in the second half of the 22nd century, th...</td>\n",
       "      <td>0.352941</td>\n",
       "      <td>4.9</td>\n",
       "      <td>55254</td>\n",
       "    </tr>\n",
       "    <tr>\n",
       "      <th>1</th>\n",
       "      <td>9363483</td>\n",
       "      <td>white of the eye</td>\n",
       "      <td>1987</td>\n",
       "      <td>True</td>\n",
       "      <td>False</td>\n",
       "      <td>False</td>\n",
       "      <td>False</td>\n",
       "      <td>False</td>\n",
       "      <td>False</td>\n",
       "      <td>False</td>\n",
       "      <td>...</td>\n",
       "      <td>True</td>\n",
       "      <td>False</td>\n",
       "      <td>False</td>\n",
       "      <td>False</td>\n",
       "      <td>False</td>\n",
       "      <td>False</td>\n",
       "      <td>A series of murders of rich young women throug...</td>\n",
       "      <td>0.500000</td>\n",
       "      <td>6.1</td>\n",
       "      <td>2631</td>\n",
       "    </tr>\n",
       "    <tr>\n",
       "      <th>2</th>\n",
       "      <td>261236</td>\n",
       "      <td>a woman in flames</td>\n",
       "      <td>1983</td>\n",
       "      <td>False</td>\n",
       "      <td>True</td>\n",
       "      <td>False</td>\n",
       "      <td>False</td>\n",
       "      <td>False</td>\n",
       "      <td>False</td>\n",
       "      <td>False</td>\n",
       "      <td>...</td>\n",
       "      <td>False</td>\n",
       "      <td>True</td>\n",
       "      <td>False</td>\n",
       "      <td>False</td>\n",
       "      <td>False</td>\n",
       "      <td>False</td>\n",
       "      <td>Eva, an upper class housewife, becomes frustra...</td>\n",
       "      <td>0.333333</td>\n",
       "      <td>6.0</td>\n",
       "      <td>590</td>\n",
       "    </tr>\n",
       "    <tr>\n",
       "      <th>3</th>\n",
       "      <td>18998739</td>\n",
       "      <td>the sorcerer's apprentice</td>\n",
       "      <td>2002</td>\n",
       "      <td>True</td>\n",
       "      <td>False</td>\n",
       "      <td>False</td>\n",
       "      <td>False</td>\n",
       "      <td>False</td>\n",
       "      <td>False</td>\n",
       "      <td>False</td>\n",
       "      <td>...</td>\n",
       "      <td>False</td>\n",
       "      <td>False</td>\n",
       "      <td>False</td>\n",
       "      <td>False</td>\n",
       "      <td>False</td>\n",
       "      <td>False</td>\n",
       "      <td>Every hundred years, the evil Morgana  returns...</td>\n",
       "      <td>0.200000</td>\n",
       "      <td>6.5</td>\n",
       "      <td>160</td>\n",
       "    </tr>\n",
       "    <tr>\n",
       "      <th>4</th>\n",
       "      <td>12621957</td>\n",
       "      <td>the sorcerer's apprentice</td>\n",
       "      <td>2010</td>\n",
       "      <td>True</td>\n",
       "      <td>False</td>\n",
       "      <td>False</td>\n",
       "      <td>False</td>\n",
       "      <td>False</td>\n",
       "      <td>False</td>\n",
       "      <td>False</td>\n",
       "      <td>...</td>\n",
       "      <td>False</td>\n",
       "      <td>False</td>\n",
       "      <td>False</td>\n",
       "      <td>False</td>\n",
       "      <td>False</td>\n",
       "      <td>False</td>\n",
       "      <td>In AD 740, one of Merlin's  three apprentices...</td>\n",
       "      <td>0.312500</td>\n",
       "      <td>6.5</td>\n",
       "      <td>160</td>\n",
       "    </tr>\n",
       "  </tbody>\n",
       "</table>\n",
       "<p>5 rows × 44 columns</p>\n",
       "</div>"
      ],
      "text/plain": [
       "   movie_id                 movie_name  release_date  english_language  \\\n",
       "0    975900             ghosts of mars          2001              True   \n",
       "1   9363483           white of the eye          1987              True   \n",
       "2    261236          a woman in flames          1983             False   \n",
       "3  18998739  the sorcerer's apprentice          2002              True   \n",
       "4  12621957  the sorcerer's apprentice          2010              True   \n",
       "\n",
       "   german_language  silent_film_language  spanish_language  japanese_language  \\\n",
       "0            False                 False             False              False   \n",
       "1            False                 False             False              False   \n",
       "2             True                 False             False              False   \n",
       "3            False                 False             False              False   \n",
       "4            False                 False             False              False   \n",
       "\n",
       "   italian_language  tamil_language  ...  united_kingdom  germany  japan  \\\n",
       "0             False           False  ...           False    False  False   \n",
       "1             False           False  ...            True    False  False   \n",
       "2             False           False  ...           False     True  False   \n",
       "3             False           False  ...           False    False  False   \n",
       "4             False           False  ...           False    False  False   \n",
       "\n",
       "   france  italy  india                                       plot_summary  \\\n",
       "0   False  False  False  Set in the second half of the 22nd century, th...   \n",
       "1   False  False  False  A series of murders of rich young women throug...   \n",
       "2   False  False  False  Eva, an upper class housewife, becomes frustra...   \n",
       "3   False  False  False  Every hundred years, the evil Morgana  returns...   \n",
       "4   False  False  False   In AD 740, one of Merlin's  three apprentices...   \n",
       "\n",
       "   F_gender  averageRating  numVotes  \n",
       "0  0.352941            4.9     55254  \n",
       "1  0.500000            6.1      2631  \n",
       "2  0.333333            6.0       590  \n",
       "3  0.200000            6.5       160  \n",
       "4  0.312500            6.5       160  \n",
       "\n",
       "[5 rows x 44 columns]"
      ]
     },
     "execution_count": 5,
     "metadata": {},
     "output_type": "execute_result"
    }
   ],
   "source": [
    "# Load Data and keep year from release date\n",
    "\n",
    "data = pd.read_csv(path + \"../data/movie_data_imdbscores_final.csv\")\n",
    "\n",
    "data.head()"
   ]
  },
  {
   "cell_type": "markdown",
   "metadata": {},
   "source": [
    "# Basic plotting and discretization of ratings"
   ]
  },
  {
   "cell_type": "code",
   "execution_count": 6,
   "metadata": {},
   "outputs": [],
   "source": [
    "set_mpl_params('white')"
   ]
  },
  {
   "cell_type": "code",
   "execution_count": 15,
   "metadata": {
    "colab": {
     "base_uri": "https://localhost:8080/",
     "height": 269
    },
    "executionInfo": {
     "elapsed": 411,
     "status": "ok",
     "timestamp": 1671188276883,
     "user": {
      "displayName": "Adrian Ferrer",
      "userId": "12905036004103749562"
     },
     "user_tz": -60
    },
    "id": "PYxKwuNsk-Qv",
    "outputId": "986906c8-0c02-4f63-a1f7-9612f34ff40c"
   },
   "outputs": [
    {
     "data": {
      "image/png": "[encoded data removed]",
      "text/plain": [
       "<Figure size 1000x600 with 2 Axes>"
      ]
     },
     "metadata": {
      "needs_background": "dark"
     },
     "output_type": "display_data"
    }
   ],
   "source": [
    "# Plot averageRating distribution\n",
    "\n",
    "fig, ax = plt.subplots(1, 2, figsize = (10,6), dpi = 100)\n",
    "ax = ax.flatten()\n",
    "data.averageRating.plot.box(ax = ax[0], color= fig_color, grid = True)\n",
    "data.averageRating.hist(ax = ax[1], color = fig_color)\n",
    "fig.suptitle(\"averageRating distribution\")\n",
    "plt.tight_layout()\n",
    "plt.savefig(path + '../figs/averageRating_distribution.png')\n",
    "plt.show()"
   ]
  },
  {
   "cell_type": "code",
   "execution_count": 8,
   "metadata": {
    "colab": {
     "base_uri": "https://localhost:8080/"
    },
    "executionInfo": {
     "elapsed": 2,
     "status": "ok",
     "timestamp": 1671188277698,
     "user": {
      "displayName": "Adrian Ferrer",
      "userId": "12905036004103749562"
     },
     "user_tz": -60
    },
    "id": "IW9r-ITMk-Qw",
    "outputId": "504c242e-e066-4af7-85f4-cebc167bb702"
   },
   "outputs": [
    {
     "data": {
      "text/plain": [
       "count    31291.000000\n",
       "mean         6.236113\n",
       "std          1.164524\n",
       "min          1.200000\n",
       "25%          5.600000\n",
       "50%          6.400000\n",
       "75%          7.000000\n",
       "max          9.600000\n",
       "Name: averageRating, dtype: float64"
      ]
     },
     "execution_count": 8,
     "metadata": {},
     "output_type": "execute_result"
    }
   ],
   "source": [
    "data.averageRating.describe()"
   ]
  },
  {
   "cell_type": "code",
   "execution_count": 9,
   "metadata": {
    "id": "Q4aGUPyik-Qx"
   },
   "outputs": [],
   "source": [
    "# Discretize feature based on quantiles\n",
    "def discretize_column(data, n, label_suffix = \"_star\"):\n",
    "    \n",
    "    # Compute proportion for quantile\n",
    "    p = 1/(n)\n",
    "    \n",
    "    # Return semgments\n",
    "    return pd.cut(data,\n",
    "                  # Create interval cuts\n",
    "                  bins = [np.quantile(data, x * p) if x != n else np.inf\n",
    "                          for x in range(n+1)],\n",
    "                  right = False,\n",
    "                  # assign labels\n",
    "                  labels = [f\"{i+1}{label_suffix}\" for i in range(n)])"
   ]
  },
  {
   "cell_type": "code",
   "execution_count": 17,
   "metadata": {
    "colab": {
     "base_uri": "https://localhost:8080/",
     "height": 302
    },
    "executionInfo": {
     "elapsed": 319,
     "status": "ok",
     "timestamp": 1671188279192,
     "user": {
      "displayName": "Adrian Ferrer",
      "userId": "12905036004103749562"
     },
     "user_tz": -60
    },
    "id": "Q_1bLouDk-Qx",
    "outputId": "740f9af8-2ba5-4eba-acd7-ee7fb36e224f"
   },
   "outputs": [
    {
     "data": {
      "image/png": "[encoded data removed]",
      "text/plain": [
       "<Figure size 1000x600 with 1 Axes>"
      ]
     },
     "metadata": {
      "needs_background": "dark"
     },
     "output_type": "display_data"
    }
   ],
   "source": [
    "# Perform discretization and save categories in new feature\n",
    "data[\"score_discretized\"] = discretize_column(data.averageRating, 5)\n",
    "\n",
    "\n",
    "plt.figure(figsize = (10,6), dpi = 100)\n",
    "# Verify Discretization proportions\n",
    "data.score_discretized.value_counts().plot.bar(color = fig_color)\n",
    "plt.title(\"Number of movies per categories\")\n",
    "plt.savefig(path + '../figs/score_discretization_distribution.png')\n",
    "plt.show()"
   ]
  },
  {
   "cell_type": "code",
   "execution_count": 18,
   "metadata": {
    "colab": {
     "base_uri": "https://localhost:8080/",
     "height": 301
    },
    "executionInfo": {
     "elapsed": 8,
     "status": "ok",
     "timestamp": 1671188279193,
     "user": {
      "displayName": "Adrian Ferrer",
      "userId": "12905036004103749562"
     },
     "user_tz": -60
    },
    "id": "-ZstyBzNk-Qy",
    "outputId": "d5ab3f1d-5693-4f50-c3f3-caf5aae3cec3"
   },
   "outputs": [
    {
     "data": {
      "text/html": [
       "<div>\n",
       "<style scoped>\n",
       "    .dataframe tbody tr th:only-of-type {\n",
       "        vertical-align: middle;\n",
       "    }\n",
       "\n",
       "    .dataframe tbody tr th {\n",
       "        vertical-align: top;\n",
       "    }\n",
       "\n",
       "    .dataframe thead th {\n",
       "        text-align: right;\n",
       "    }\n",
       "</style>\n",
       "<table border=\"1\" class=\"dataframe\">\n",
       "  <thead>\n",
       "    <tr style=\"text-align: right;\">\n",
       "      <th></th>\n",
       "      <th>movie_id</th>\n",
       "      <th>release_date</th>\n",
       "      <th>english_language</th>\n",
       "      <th>german_language</th>\n",
       "      <th>silent_film_language</th>\n",
       "      <th>spanish_language</th>\n",
       "      <th>japanese_language</th>\n",
       "      <th>italian_language</th>\n",
       "      <th>tamil_language</th>\n",
       "      <th>hindi_language</th>\n",
       "      <th>...</th>\n",
       "      <th>united_states_of_america</th>\n",
       "      <th>united_kingdom</th>\n",
       "      <th>germany</th>\n",
       "      <th>japan</th>\n",
       "      <th>france</th>\n",
       "      <th>italy</th>\n",
       "      <th>india</th>\n",
       "      <th>F_gender</th>\n",
       "      <th>averageRating</th>\n",
       "      <th>numVotes</th>\n",
       "    </tr>\n",
       "    <tr>\n",
       "      <th>score_discretized</th>\n",
       "      <th></th>\n",
       "      <th></th>\n",
       "      <th></th>\n",
       "      <th></th>\n",
       "      <th></th>\n",
       "      <th></th>\n",
       "      <th></th>\n",
       "      <th></th>\n",
       "      <th></th>\n",
       "      <th></th>\n",
       "      <th></th>\n",
       "      <th></th>\n",
       "      <th></th>\n",
       "      <th></th>\n",
       "      <th></th>\n",
       "      <th></th>\n",
       "      <th></th>\n",
       "      <th></th>\n",
       "      <th></th>\n",
       "      <th></th>\n",
       "      <th></th>\n",
       "    </tr>\n",
       "  </thead>\n",
       "  <tbody>\n",
       "    <tr>\n",
       "      <th>1_star</th>\n",
       "      <td>1.534376e+07</td>\n",
       "      <td>1992.321786</td>\n",
       "      <td>0.680512</td>\n",
       "      <td>0.011492</td>\n",
       "      <td>0.007716</td>\n",
       "      <td>0.021835</td>\n",
       "      <td>0.017895</td>\n",
       "      <td>0.021507</td>\n",
       "      <td>0.023149</td>\n",
       "      <td>0.069775</td>\n",
       "      <td>...</td>\n",
       "      <td>0.618453</td>\n",
       "      <td>0.075521</td>\n",
       "      <td>0.029716</td>\n",
       "      <td>0.019865</td>\n",
       "      <td>0.030209</td>\n",
       "      <td>0.030701</td>\n",
       "      <td>0.122147</td>\n",
       "      <td>0.342841</td>\n",
       "      <td>4.420440</td>\n",
       "      <td>3534.902972</td>\n",
       "    </tr>\n",
       "    <tr>\n",
       "      <th>2_star</th>\n",
       "      <td>1.406119e+07</td>\n",
       "      <td>1984.500802</td>\n",
       "      <td>0.716907</td>\n",
       "      <td>0.015322</td>\n",
       "      <td>0.010511</td>\n",
       "      <td>0.029396</td>\n",
       "      <td>0.021379</td>\n",
       "      <td>0.020666</td>\n",
       "      <td>0.017103</td>\n",
       "      <td>0.045608</td>\n",
       "      <td>...</td>\n",
       "      <td>0.621058</td>\n",
       "      <td>0.109745</td>\n",
       "      <td>0.033672</td>\n",
       "      <td>0.022448</td>\n",
       "      <td>0.039907</td>\n",
       "      <td>0.026367</td>\n",
       "      <td>0.079280</td>\n",
       "      <td>0.343848</td>\n",
       "      <td>5.727258</td>\n",
       "      <td>6468.271869</td>\n",
       "    </tr>\n",
       "    <tr>\n",
       "      <th>3_star</th>\n",
       "      <td>1.323335e+07</td>\n",
       "      <td>1981.038682</td>\n",
       "      <td>0.706250</td>\n",
       "      <td>0.018750</td>\n",
       "      <td>0.014189</td>\n",
       "      <td>0.034966</td>\n",
       "      <td>0.028716</td>\n",
       "      <td>0.023818</td>\n",
       "      <td>0.015372</td>\n",
       "      <td>0.040878</td>\n",
       "      <td>...</td>\n",
       "      <td>0.599493</td>\n",
       "      <td>0.122466</td>\n",
       "      <td>0.030912</td>\n",
       "      <td>0.026858</td>\n",
       "      <td>0.054561</td>\n",
       "      <td>0.027703</td>\n",
       "      <td>0.073480</td>\n",
       "      <td>0.342836</td>\n",
       "      <td>6.304020</td>\n",
       "      <td>9307.742230</td>\n",
       "    </tr>\n",
       "    <tr>\n",
       "      <th>4_star</th>\n",
       "      <td>1.200842e+07</td>\n",
       "      <td>1980.180269</td>\n",
       "      <td>0.652778</td>\n",
       "      <td>0.033219</td>\n",
       "      <td>0.019903</td>\n",
       "      <td>0.044387</td>\n",
       "      <td>0.031357</td>\n",
       "      <td>0.030212</td>\n",
       "      <td>0.017039</td>\n",
       "      <td>0.051833</td>\n",
       "      <td>...</td>\n",
       "      <td>0.534507</td>\n",
       "      <td>0.116266</td>\n",
       "      <td>0.040521</td>\n",
       "      <td>0.036082</td>\n",
       "      <td>0.071019</td>\n",
       "      <td>0.032932</td>\n",
       "      <td>0.094215</td>\n",
       "      <td>0.334763</td>\n",
       "      <td>6.842511</td>\n",
       "      <td>13110.968499</td>\n",
       "    </tr>\n",
       "    <tr>\n",
       "      <th>5_star</th>\n",
       "      <td>1.095490e+07</td>\n",
       "      <td>1982.277271</td>\n",
       "      <td>0.559479</td>\n",
       "      <td>0.043693</td>\n",
       "      <td>0.015562</td>\n",
       "      <td>0.043094</td>\n",
       "      <td>0.043992</td>\n",
       "      <td>0.035613</td>\n",
       "      <td>0.036810</td>\n",
       "      <td>0.068233</td>\n",
       "      <td>...</td>\n",
       "      <td>0.449499</td>\n",
       "      <td>0.102798</td>\n",
       "      <td>0.046686</td>\n",
       "      <td>0.045040</td>\n",
       "      <td>0.078258</td>\n",
       "      <td>0.039054</td>\n",
       "      <td>0.168637</td>\n",
       "      <td>0.317061</td>\n",
       "      <td>7.624465</td>\n",
       "      <td>43490.467455</td>\n",
       "    </tr>\n",
       "  </tbody>\n",
       "</table>\n",
       "<p>5 rows × 42 columns</p>\n",
       "</div>"
      ],
      "text/plain": [
       "                       movie_id  release_date  english_language  \\\n",
       "score_discretized                                                 \n",
       "1_star             1.534376e+07   1992.321786          0.680512   \n",
       "2_star             1.406119e+07   1984.500802          0.716907   \n",
       "3_star             1.323335e+07   1981.038682          0.706250   \n",
       "4_star             1.200842e+07   1980.180269          0.652778   \n",
       "5_star             1.095490e+07   1982.277271          0.559479   \n",
       "\n",
       "                   german_language  silent_film_language  spanish_language  \\\n",
       "score_discretized                                                            \n",
       "1_star                    0.011492              0.007716          0.021835   \n",
       "2_star                    0.015322              0.010511          0.029396   \n",
       "3_star                    0.018750              0.014189          0.034966   \n",
       "4_star                    0.033219              0.019903          0.044387   \n",
       "5_star                    0.043693              0.015562          0.043094   \n",
       "\n",
       "                   japanese_language  italian_language  tamil_language  \\\n",
       "score_discretized                                                        \n",
       "1_star                      0.017895          0.021507        0.023149   \n",
       "2_star                      0.021379          0.020666        0.017103   \n",
       "3_star                      0.028716          0.023818        0.015372   \n",
       "4_star                      0.031357          0.030212        0.017039   \n",
       "5_star                      0.043992          0.035613        0.036810   \n",
       "\n",
       "                   hindi_language  ...  united_states_of_america  \\\n",
       "score_discretized                  ...                             \n",
       "1_star                   0.069775  ...                  0.618453   \n",
       "2_star                   0.045608  ...                  0.621058   \n",
       "3_star                   0.040878  ...                  0.599493   \n",
       "4_star                   0.051833  ...                  0.534507   \n",
       "5_star                   0.068233  ...                  0.449499   \n",
       "\n",
       "                   united_kingdom   germany     japan    france     italy  \\\n",
       "score_discretized                                                           \n",
       "1_star                   0.075521  0.029716  0.019865  0.030209  0.030701   \n",
       "2_star                   0.109745  0.033672  0.022448  0.039907  0.026367   \n",
       "3_star                   0.122466  0.030912  0.026858  0.054561  0.027703   \n",
       "4_star                   0.116266  0.040521  0.036082  0.071019  0.032932   \n",
       "5_star                   0.102798  0.046686  0.045040  0.078258  0.039054   \n",
       "\n",
       "                      india  F_gender  averageRating      numVotes  \n",
       "score_discretized                                                   \n",
       "1_star             0.122147  0.342841       4.420440   3534.902972  \n",
       "2_star             0.079280  0.343848       5.727258   6468.271869  \n",
       "3_star             0.073480  0.342836       6.304020   9307.742230  \n",
       "4_star             0.094215  0.334763       6.842511  13110.968499  \n",
       "5_star             0.168637  0.317061       7.624465  43490.467455  \n",
       "\n",
       "[5 rows x 42 columns]"
      ]
     },
     "execution_count": 18,
     "metadata": {},
     "output_type": "execute_result"
    }
   ],
   "source": [
    "# Compute mean proportions and means for numeric values\n",
    "grouped = data.groupby('score_discretized')\n",
    "grouped_means = grouped.mean()\n",
    "grouped_means"
   ]
  },
  {
   "cell_type": "code",
   "execution_count": 19,
   "metadata": {},
   "outputs": [
    {
     "data": {
      "text/html": [
       "<div>\n",
       "<style scoped>\n",
       "    .dataframe tbody tr th:only-of-type {\n",
       "        vertical-align: middle;\n",
       "    }\n",
       "\n",
       "    .dataframe tbody tr th {\n",
       "        vertical-align: top;\n",
       "    }\n",
       "\n",
       "    .dataframe thead th {\n",
       "        text-align: right;\n",
       "    }\n",
       "</style>\n",
       "<table border=\"1\" class=\"dataframe\">\n",
       "  <thead>\n",
       "    <tr style=\"text-align: right;\">\n",
       "      <th></th>\n",
       "      <th>movie_id</th>\n",
       "      <th>release_date</th>\n",
       "      <th>english_language</th>\n",
       "      <th>german_language</th>\n",
       "      <th>silent_film_language</th>\n",
       "      <th>spanish_language</th>\n",
       "      <th>japanese_language</th>\n",
       "      <th>italian_language</th>\n",
       "      <th>tamil_language</th>\n",
       "      <th>hindi_language</th>\n",
       "      <th>...</th>\n",
       "      <th>united_states_of_america</th>\n",
       "      <th>united_kingdom</th>\n",
       "      <th>germany</th>\n",
       "      <th>japan</th>\n",
       "      <th>france</th>\n",
       "      <th>italy</th>\n",
       "      <th>india</th>\n",
       "      <th>F_gender</th>\n",
       "      <th>averageRating</th>\n",
       "      <th>numVotes</th>\n",
       "    </tr>\n",
       "    <tr>\n",
       "      <th>score_discretized</th>\n",
       "      <th></th>\n",
       "      <th></th>\n",
       "      <th></th>\n",
       "      <th></th>\n",
       "      <th></th>\n",
       "      <th></th>\n",
       "      <th></th>\n",
       "      <th></th>\n",
       "      <th></th>\n",
       "      <th></th>\n",
       "      <th></th>\n",
       "      <th></th>\n",
       "      <th></th>\n",
       "      <th></th>\n",
       "      <th></th>\n",
       "      <th></th>\n",
       "      <th></th>\n",
       "      <th></th>\n",
       "      <th></th>\n",
       "      <th></th>\n",
       "      <th></th>\n",
       "    </tr>\n",
       "  </thead>\n",
       "  <tbody>\n",
       "    <tr>\n",
       "      <th>1_star</th>\n",
       "      <td>1.534376e+07</td>\n",
       "      <td>1992.321786</td>\n",
       "      <td>0.680512</td>\n",
       "      <td>0.011492</td>\n",
       "      <td>0.007716</td>\n",
       "      <td>0.021835</td>\n",
       "      <td>0.017895</td>\n",
       "      <td>0.021507</td>\n",
       "      <td>0.023149</td>\n",
       "      <td>0.069775</td>\n",
       "      <td>...</td>\n",
       "      <td>0.618453</td>\n",
       "      <td>0.075521</td>\n",
       "      <td>0.029716</td>\n",
       "      <td>0.019865</td>\n",
       "      <td>0.030209</td>\n",
       "      <td>0.030701</td>\n",
       "      <td>0.122147</td>\n",
       "      <td>0.342841</td>\n",
       "      <td>4.420440</td>\n",
       "      <td>3534.902972</td>\n",
       "    </tr>\n",
       "    <tr>\n",
       "      <th>5_star</th>\n",
       "      <td>1.095490e+07</td>\n",
       "      <td>1982.277271</td>\n",
       "      <td>0.559479</td>\n",
       "      <td>0.043693</td>\n",
       "      <td>0.015562</td>\n",
       "      <td>0.043094</td>\n",
       "      <td>0.043992</td>\n",
       "      <td>0.035613</td>\n",
       "      <td>0.036810</td>\n",
       "      <td>0.068233</td>\n",
       "      <td>...</td>\n",
       "      <td>0.449499</td>\n",
       "      <td>0.102798</td>\n",
       "      <td>0.046686</td>\n",
       "      <td>0.045040</td>\n",
       "      <td>0.078258</td>\n",
       "      <td>0.039054</td>\n",
       "      <td>0.168637</td>\n",
       "      <td>0.317061</td>\n",
       "      <td>7.624465</td>\n",
       "      <td>43490.467455</td>\n",
       "    </tr>\n",
       "  </tbody>\n",
       "</table>\n",
       "<p>2 rows × 42 columns</p>\n",
       "</div>"
      ],
      "text/plain": [
       "                       movie_id  release_date  english_language  \\\n",
       "score_discretized                                                 \n",
       "1_star             1.534376e+07   1992.321786          0.680512   \n",
       "5_star             1.095490e+07   1982.277271          0.559479   \n",
       "\n",
       "                   german_language  silent_film_language  spanish_language  \\\n",
       "score_discretized                                                            \n",
       "1_star                    0.011492              0.007716          0.021835   \n",
       "5_star                    0.043693              0.015562          0.043094   \n",
       "\n",
       "                   japanese_language  italian_language  tamil_language  \\\n",
       "score_discretized                                                        \n",
       "1_star                      0.017895          0.021507        0.023149   \n",
       "5_star                      0.043992          0.035613        0.036810   \n",
       "\n",
       "                   hindi_language  ...  united_states_of_america  \\\n",
       "score_discretized                  ...                             \n",
       "1_star                   0.069775  ...                  0.618453   \n",
       "5_star                   0.068233  ...                  0.449499   \n",
       "\n",
       "                   united_kingdom   germany     japan    france     italy  \\\n",
       "score_discretized                                                           \n",
       "1_star                   0.075521  0.029716  0.019865  0.030209  0.030701   \n",
       "5_star                   0.102798  0.046686  0.045040  0.078258  0.039054   \n",
       "\n",
       "                      india  F_gender  averageRating      numVotes  \n",
       "score_discretized                                                   \n",
       "1_star             0.122147  0.342841       4.420440   3534.902972  \n",
       "5_star             0.168637  0.317061       7.624465  43490.467455  \n",
       "\n",
       "[2 rows x 42 columns]"
      ]
     },
     "execution_count": 19,
     "metadata": {},
     "output_type": "execute_result"
    }
   ],
   "source": [
    "# Visualize the best and worst scoring groups\n",
    "\n",
    "grouped_means.iloc[[0,-1], :]"
   ]
  },
  {
   "cell_type": "markdown",
   "metadata": {},
   "source": [
    "# Statistical analysis\n",
    "As we focus on the upper extreme of the most successful movies, we split the data into movies with the very highest ratings (5-star) and the rest. We will use a standardised version of the dataset for comparing mean differences between features, whereas the non-standarized version will be used for analysis of a single feature, as it is more interpretable."
   ]
  },
  {
   "cell_type": "code",
   "execution_count": 20,
   "metadata": {
    "id": "ksuw8Bt0k-Q2"
   },
   "outputs": [],
   "source": [
    "def one_vs_all_encode(x, th):\n",
    "    return np.where(x >= th, '5_star', 'other')\n",
    "\n",
    "data['rating'] = one_vs_all_encode(data['score_discretized'] == '5_star', 0.5)\n",
    "stat_data = data.drop(['score_discretized', 'averageRating', 'numVotes', 'rating', 'movie_name','plot_summary'], axis = 1).astype(float)\n",
    "stat_data_std = (stat_data - stat_data.mean(axis = 0)) / stat_data.std(axis = 0)\n",
    "\n",
    "stat_data = pd.merge(stat_data, data['rating'], left_index=True, right_index=True)\n",
    "stat_data_std = pd.merge(stat_data_std, data['rating'], left_index=True, right_index=True)"
   ]
  },
  {
   "cell_type": "code",
   "execution_count": 21,
   "metadata": {},
   "outputs": [
    {
     "data": {
      "text/html": [
       "<div>\n",
       "<style scoped>\n",
       "    .dataframe tbody tr th:only-of-type {\n",
       "        vertical-align: middle;\n",
       "    }\n",
       "\n",
       "    .dataframe tbody tr th {\n",
       "        vertical-align: top;\n",
       "    }\n",
       "\n",
       "    .dataframe thead th {\n",
       "        text-align: right;\n",
       "    }\n",
       "</style>\n",
       "<table border=\"1\" class=\"dataframe\">\n",
       "  <thead>\n",
       "    <tr style=\"text-align: right;\">\n",
       "      <th></th>\n",
       "      <th>movie_id</th>\n",
       "      <th>release_date</th>\n",
       "      <th>english_language</th>\n",
       "      <th>german_language</th>\n",
       "      <th>silent_film_language</th>\n",
       "      <th>spanish_language</th>\n",
       "      <th>japanese_language</th>\n",
       "      <th>italian_language</th>\n",
       "      <th>tamil_language</th>\n",
       "      <th>hindi_language</th>\n",
       "      <th>...</th>\n",
       "      <th>Documentary</th>\n",
       "      <th>united_states_of_america</th>\n",
       "      <th>united_kingdom</th>\n",
       "      <th>germany</th>\n",
       "      <th>japan</th>\n",
       "      <th>france</th>\n",
       "      <th>italy</th>\n",
       "      <th>india</th>\n",
       "      <th>F_gender</th>\n",
       "      <th>rating</th>\n",
       "    </tr>\n",
       "  </thead>\n",
       "  <tbody>\n",
       "    <tr>\n",
       "      <th>0</th>\n",
       "      <td>-1.138587</td>\n",
       "      <td>0.695032</td>\n",
       "      <td>0.717937</td>\n",
       "      <td>-0.161039</td>\n",
       "      <td>-0.118455</td>\n",
       "      <td>-0.191145</td>\n",
       "      <td>-0.173262</td>\n",
       "      <td>-0.165781</td>\n",
       "      <td>-0.150492</td>\n",
       "      <td>-0.242725</td>\n",
       "      <td>...</td>\n",
       "      <td>-0.099539</td>\n",
       "      <td>0.885469</td>\n",
       "      <td>-0.343353</td>\n",
       "      <td>-0.195151</td>\n",
       "      <td>-0.177808</td>\n",
       "      <td>-0.243388</td>\n",
       "      <td>-0.180752</td>\n",
       "      <td>-0.349659</td>\n",
       "      <td>0.077510</td>\n",
       "      <td>other</td>\n",
       "    </tr>\n",
       "    <tr>\n",
       "      <th>1</th>\n",
       "      <td>-0.346499</td>\n",
       "      <td>0.125034</td>\n",
       "      <td>0.717937</td>\n",
       "      <td>-0.161039</td>\n",
       "      <td>-0.118455</td>\n",
       "      <td>-0.191145</td>\n",
       "      <td>-0.173262</td>\n",
       "      <td>-0.165781</td>\n",
       "      <td>-0.150492</td>\n",
       "      <td>-0.242725</td>\n",
       "      <td>...</td>\n",
       "      <td>-0.099539</td>\n",
       "      <td>-1.129308</td>\n",
       "      <td>2.912362</td>\n",
       "      <td>-0.195151</td>\n",
       "      <td>-0.177808</td>\n",
       "      <td>-0.243388</td>\n",
       "      <td>-0.180752</td>\n",
       "      <td>-0.349659</td>\n",
       "      <td>0.739083</td>\n",
       "      <td>other</td>\n",
       "    </tr>\n",
       "    <tr>\n",
       "      <th>2</th>\n",
       "      <td>-1.206077</td>\n",
       "      <td>-0.037823</td>\n",
       "      <td>-1.392836</td>\n",
       "      <td>6.209473</td>\n",
       "      <td>-0.118455</td>\n",
       "      <td>-0.191145</td>\n",
       "      <td>-0.173262</td>\n",
       "      <td>-0.165781</td>\n",
       "      <td>-0.150492</td>\n",
       "      <td>-0.242725</td>\n",
       "      <td>...</td>\n",
       "      <td>-0.099539</td>\n",
       "      <td>-1.129308</td>\n",
       "      <td>-0.343353</td>\n",
       "      <td>5.124074</td>\n",
       "      <td>-0.177808</td>\n",
       "      <td>-0.243388</td>\n",
       "      <td>-0.180752</td>\n",
       "      <td>-0.349659</td>\n",
       "      <td>-0.010700</td>\n",
       "      <td>other</td>\n",
       "    </tr>\n",
       "    <tr>\n",
       "      <th>3</th>\n",
       "      <td>0.563414</td>\n",
       "      <td>0.735746</td>\n",
       "      <td>0.717937</td>\n",
       "      <td>-0.161039</td>\n",
       "      <td>-0.118455</td>\n",
       "      <td>-0.191145</td>\n",
       "      <td>-0.173262</td>\n",
       "      <td>-0.165781</td>\n",
       "      <td>-0.150492</td>\n",
       "      <td>-0.242725</td>\n",
       "      <td>...</td>\n",
       "      <td>-0.099539</td>\n",
       "      <td>-1.129308</td>\n",
       "      <td>-0.343353</td>\n",
       "      <td>-0.195151</td>\n",
       "      <td>-0.177808</td>\n",
       "      <td>-0.243388</td>\n",
       "      <td>-0.180752</td>\n",
       "      <td>-0.349659</td>\n",
       "      <td>-0.610526</td>\n",
       "      <td>other</td>\n",
       "    </tr>\n",
       "    <tr>\n",
       "      <th>4</th>\n",
       "      <td>-0.038782</td>\n",
       "      <td>1.061460</td>\n",
       "      <td>0.717937</td>\n",
       "      <td>-0.161039</td>\n",
       "      <td>-0.118455</td>\n",
       "      <td>-0.191145</td>\n",
       "      <td>-0.173262</td>\n",
       "      <td>-0.165781</td>\n",
       "      <td>-0.150492</td>\n",
       "      <td>-0.242725</td>\n",
       "      <td>...</td>\n",
       "      <td>-0.099539</td>\n",
       "      <td>0.885469</td>\n",
       "      <td>-0.343353</td>\n",
       "      <td>-0.195151</td>\n",
       "      <td>-0.177808</td>\n",
       "      <td>-0.243388</td>\n",
       "      <td>-0.180752</td>\n",
       "      <td>-0.349659</td>\n",
       "      <td>-0.104423</td>\n",
       "      <td>other</td>\n",
       "    </tr>\n",
       "    <tr>\n",
       "      <th>...</th>\n",
       "      <td>...</td>\n",
       "      <td>...</td>\n",
       "      <td>...</td>\n",
       "      <td>...</td>\n",
       "      <td>...</td>\n",
       "      <td>...</td>\n",
       "      <td>...</td>\n",
       "      <td>...</td>\n",
       "      <td>...</td>\n",
       "      <td>...</td>\n",
       "      <td>...</td>\n",
       "      <td>...</td>\n",
       "      <td>...</td>\n",
       "      <td>...</td>\n",
       "      <td>...</td>\n",
       "      <td>...</td>\n",
       "      <td>...</td>\n",
       "      <td>...</td>\n",
       "      <td>...</td>\n",
       "      <td>...</td>\n",
       "      <td>...</td>\n",
       "    </tr>\n",
       "    <tr>\n",
       "      <th>31286</th>\n",
       "      <td>-1.168041</td>\n",
       "      <td>0.369319</td>\n",
       "      <td>-1.392836</td>\n",
       "      <td>-0.161039</td>\n",
       "      <td>-0.118455</td>\n",
       "      <td>-0.191145</td>\n",
       "      <td>-0.173262</td>\n",
       "      <td>-0.165781</td>\n",
       "      <td>-0.150492</td>\n",
       "      <td>-0.242725</td>\n",
       "      <td>...</td>\n",
       "      <td>-0.099539</td>\n",
       "      <td>0.885469</td>\n",
       "      <td>-0.343353</td>\n",
       "      <td>-0.195151</td>\n",
       "      <td>-0.177808</td>\n",
       "      <td>-0.243388</td>\n",
       "      <td>-0.180752</td>\n",
       "      <td>-0.349659</td>\n",
       "      <td>0.176746</td>\n",
       "      <td>other</td>\n",
       "    </tr>\n",
       "    <tr>\n",
       "      <th>31287</th>\n",
       "      <td>-0.865429</td>\n",
       "      <td>0.776460</td>\n",
       "      <td>-1.392836</td>\n",
       "      <td>-0.161039</td>\n",
       "      <td>-0.118455</td>\n",
       "      <td>-0.191145</td>\n",
       "      <td>-0.173262</td>\n",
       "      <td>-0.165781</td>\n",
       "      <td>-0.150492</td>\n",
       "      <td>-0.242725</td>\n",
       "      <td>...</td>\n",
       "      <td>-0.099539</td>\n",
       "      <td>-1.129308</td>\n",
       "      <td>-0.343353</td>\n",
       "      <td>-0.195151</td>\n",
       "      <td>-0.177808</td>\n",
       "      <td>-0.243388</td>\n",
       "      <td>-0.180752</td>\n",
       "      <td>-0.349659</td>\n",
       "      <td>-0.010700</td>\n",
       "      <td>other</td>\n",
       "    </tr>\n",
       "    <tr>\n",
       "      <th>31288</th>\n",
       "      <td>0.223087</td>\n",
       "      <td>0.410033</td>\n",
       "      <td>-1.392836</td>\n",
       "      <td>-0.161039</td>\n",
       "      <td>-0.118455</td>\n",
       "      <td>-0.191145</td>\n",
       "      <td>-0.173262</td>\n",
       "      <td>-0.165781</td>\n",
       "      <td>-0.150492</td>\n",
       "      <td>4.119765</td>\n",
       "      <td>...</td>\n",
       "      <td>-0.099539</td>\n",
       "      <td>-1.129308</td>\n",
       "      <td>-0.343353</td>\n",
       "      <td>-0.195151</td>\n",
       "      <td>-0.177808</td>\n",
       "      <td>-0.243388</td>\n",
       "      <td>-0.180752</td>\n",
       "      <td>2.859839</td>\n",
       "      <td>-0.224923</td>\n",
       "      <td>other</td>\n",
       "    </tr>\n",
       "    <tr>\n",
       "      <th>31289</th>\n",
       "      <td>1.021715</td>\n",
       "      <td>-1.747818</td>\n",
       "      <td>0.717937</td>\n",
       "      <td>-0.161039</td>\n",
       "      <td>-0.118455</td>\n",
       "      <td>-0.191145</td>\n",
       "      <td>-0.173262</td>\n",
       "      <td>-0.165781</td>\n",
       "      <td>-0.150492</td>\n",
       "      <td>-0.242725</td>\n",
       "      <td>...</td>\n",
       "      <td>-0.099539</td>\n",
       "      <td>-1.129308</td>\n",
       "      <td>2.912362</td>\n",
       "      <td>-0.195151</td>\n",
       "      <td>-0.177808</td>\n",
       "      <td>-0.243388</td>\n",
       "      <td>-0.180752</td>\n",
       "      <td>-0.349659</td>\n",
       "      <td>0.125624</td>\n",
       "      <td>other</td>\n",
       "    </tr>\n",
       "    <tr>\n",
       "      <th>31290</th>\n",
       "      <td>-0.052484</td>\n",
       "      <td>0.735746</td>\n",
       "      <td>0.717937</td>\n",
       "      <td>-0.161039</td>\n",
       "      <td>-0.118455</td>\n",
       "      <td>-0.191145</td>\n",
       "      <td>-0.173262</td>\n",
       "      <td>-0.165781</td>\n",
       "      <td>-0.150492</td>\n",
       "      <td>-0.242725</td>\n",
       "      <td>...</td>\n",
       "      <td>-0.099539</td>\n",
       "      <td>-1.129308</td>\n",
       "      <td>-0.343353</td>\n",
       "      <td>-0.195151</td>\n",
       "      <td>-0.177808</td>\n",
       "      <td>-0.243388</td>\n",
       "      <td>-0.180752</td>\n",
       "      <td>-0.349659</td>\n",
       "      <td>1.863757</td>\n",
       "      <td>other</td>\n",
       "    </tr>\n",
       "  </tbody>\n",
       "</table>\n",
       "<p>31291 rows × 41 columns</p>\n",
       "</div>"
      ],
      "text/plain": [
       "       movie_id  release_date  english_language  german_language  \\\n",
       "0     -1.138587      0.695032          0.717937        -0.161039   \n",
       "1     -0.346499      0.125034          0.717937        -0.161039   \n",
       "2     -1.206077     -0.037823         -1.392836         6.209473   \n",
       "3      0.563414      0.735746          0.717937        -0.161039   \n",
       "4     -0.038782      1.061460          0.717937        -0.161039   \n",
       "...         ...           ...               ...              ...   \n",
       "31286 -1.168041      0.369319         -1.392836        -0.161039   \n",
       "31287 -0.865429      0.776460         -1.392836        -0.161039   \n",
       "31288  0.223087      0.410033         -1.392836        -0.161039   \n",
       "31289  1.021715     -1.747818          0.717937        -0.161039   \n",
       "31290 -0.052484      0.735746          0.717937        -0.161039   \n",
       "\n",
       "       silent_film_language  spanish_language  japanese_language  \\\n",
       "0                 -0.118455         -0.191145          -0.173262   \n",
       "1                 -0.118455         -0.191145          -0.173262   \n",
       "2                 -0.118455         -0.191145          -0.173262   \n",
       "3                 -0.118455         -0.191145          -0.173262   \n",
       "4                 -0.118455         -0.191145          -0.173262   \n",
       "...                     ...               ...                ...   \n",
       "31286             -0.118455         -0.191145          -0.173262   \n",
       "31287             -0.118455         -0.191145          -0.173262   \n",
       "31288             -0.118455         -0.191145          -0.173262   \n",
       "31289             -0.118455         -0.191145          -0.173262   \n",
       "31290             -0.118455         -0.191145          -0.173262   \n",
       "\n",
       "       italian_language  tamil_language  hindi_language  ...  Documentary  \\\n",
       "0             -0.165781       -0.150492       -0.242725  ...    -0.099539   \n",
       "1             -0.165781       -0.150492       -0.242725  ...    -0.099539   \n",
       "2             -0.165781       -0.150492       -0.242725  ...    -0.099539   \n",
       "3             -0.165781       -0.150492       -0.242725  ...    -0.099539   \n",
       "4             -0.165781       -0.150492       -0.242725  ...    -0.099539   \n",
       "...                 ...             ...             ...  ...          ...   \n",
       "31286         -0.165781       -0.150492       -0.242725  ...    -0.099539   \n",
       "31287         -0.165781       -0.150492       -0.242725  ...    -0.099539   \n",
       "31288         -0.165781       -0.150492        4.119765  ...    -0.099539   \n",
       "31289         -0.165781       -0.150492       -0.242725  ...    -0.099539   \n",
       "31290         -0.165781       -0.150492       -0.242725  ...    -0.099539   \n",
       "\n",
       "       united_states_of_america  united_kingdom   germany     japan    france  \\\n",
       "0                      0.885469       -0.343353 -0.195151 -0.177808 -0.243388   \n",
       "1                     -1.129308        2.912362 -0.195151 -0.177808 -0.243388   \n",
       "2                     -1.129308       -0.343353  5.124074 -0.177808 -0.243388   \n",
       "3                     -1.129308       -0.343353 -0.195151 -0.177808 -0.243388   \n",
       "4                      0.885469       -0.343353 -0.195151 -0.177808 -0.243388   \n",
       "...                         ...             ...       ...       ...       ...   \n",
       "31286                  0.885469       -0.343353 -0.195151 -0.177808 -0.243388   \n",
       "31287                 -1.129308       -0.343353 -0.195151 -0.177808 -0.243388   \n",
       "31288                 -1.129308       -0.343353 -0.195151 -0.177808 -0.243388   \n",
       "31289                 -1.129308        2.912362 -0.195151 -0.177808 -0.243388   \n",
       "31290                 -1.129308       -0.343353 -0.195151 -0.177808 -0.243388   \n",
       "\n",
       "          italy     india  F_gender  rating  \n",
       "0     -0.180752 -0.349659  0.077510   other  \n",
       "1     -0.180752 -0.349659  0.739083   other  \n",
       "2     -0.180752 -0.349659 -0.010700   other  \n",
       "3     -0.180752 -0.349659 -0.610526   other  \n",
       "4     -0.180752 -0.349659 -0.104423   other  \n",
       "...         ...       ...       ...     ...  \n",
       "31286 -0.180752 -0.349659  0.176746   other  \n",
       "31287 -0.180752 -0.349659 -0.010700   other  \n",
       "31288 -0.180752  2.859839 -0.224923   other  \n",
       "31289 -0.180752 -0.349659  0.125624   other  \n",
       "31290 -0.180752 -0.349659  1.863757   other  \n",
       "\n",
       "[31291 rows x 41 columns]"
      ]
     },
     "execution_count": 21,
     "metadata": {},
     "output_type": "execute_result"
    }
   ],
   "source": [
    "stat_data_std"
   ]
  },
  {
   "cell_type": "code",
   "execution_count": 22,
   "metadata": {},
   "outputs": [],
   "source": [
    "grouped = stat_data_std.set_index('movie_id').groupby('rating')"
   ]
  },
  {
   "cell_type": "markdown",
   "metadata": {},
   "source": [
    "## T-tests and p-values\n",
    "As we are doing multiple comparisons, we need to correct the p-values accordingly. However as we cannot assume the features to be statistically independent, we use Bonferroni correction which is more conservative than Sidak."
   ]
  },
  {
   "cell_type": "code",
   "execution_count": 23,
   "metadata": {
    "id": "9W-RZ7NKk-Qz"
   },
   "outputs": [],
   "source": [
    "# test features over dataframe with significance sidak correction\n",
    "def test_over_variables(n_tests, vars, alpha, t1, t2):\n",
    "\n",
    "    # Success flag:\n",
    "    # At least one significant outcome -> underlying effect\n",
    "    success = False\n",
    "    \n",
    "    #List to append significant results\n",
    "    successes = []\n",
    "    \n",
    "    # Save pvalues\n",
    "    pvalues = []\n",
    "\n",
    "    print(\"_____________________________\")\n",
    "    print(f\"{n_tests} t-tests with significance: {alpha:0.5f}\")\n",
    "\n",
    "    for var in vars:\n",
    "        # Test var in both periods of time\n",
    "        test_result = stats.ttest_ind(t1[var], t2[var])\n",
    "        \n",
    "        # If the result is significant...\n",
    "        if test_result.pvalue < alpha:\n",
    "            # Flag success true and keep result for future display\n",
    "            success = True\n",
    "            successes.append((var, test_result.pvalue))\n",
    "        \n",
    "        #print(f't-Test for Var: {var} -> p: {test_result[1]}')\n",
    "        pvalues.append(test_result.pvalue)\n",
    "    print(\"_____________________________\")\n",
    "\n",
    "\n",
    "    # Display significant results\n",
    "    if success:\n",
    "        print(\"Manifestation of underlying effect between groups in vars:\")\n",
    "        for var in successes:\n",
    "            print(f\"{var[0]} -> pvalue: {var[1]}\")\n",
    "\n",
    "    print(f\"{len(successes)} / {len(vars)} significative results\")\n",
    "    \n",
    "    return pvalues\n",
    "\n",
    "def tester(grouped, grouped_on, alpha, correction = 'sidak', subtype = \"by_group\"):\n",
    "\n",
    "  df_list = []\n",
    "\n",
    "  total_tests = sum([len(df.columns.drop(grouped_on)) for (_, df) in grouped])\n",
    "\n",
    "  # Iterate on all comparison combinations\n",
    "  for (label_1,df_1), (label_2, df_2) in combinations(grouped, 2):\n",
    "      \n",
    "      # Drop the separating feature\n",
    "      vars = df_1.columns.drop(grouped_on)\n",
    "      \n",
    "      print(\">>>>>>>>>>>>>>>>>>>>>>>>>>\")\n",
    "          \n",
    "      print(f\"{label_1} vs {label_2}\")\n",
    "\n",
    "      # Test over all variables with 0.05 significance\n",
    "      # Make p test adjustment based on number of experiments\n",
    "\n",
    "      n_tests = len(vars)\n",
    "\n",
    "      if subtype == 'by_group': # independece by group comparison\n",
    "        k = n_tests\n",
    "      else: # independence by all comparisons of groups\n",
    "        k = total_tests\n",
    "\n",
    "\n",
    "      if correction == 'sidak':\n",
    "        # Sidak correction with k = n_tests\n",
    "        alpha_c = 1 - (1 - alpha)**(1/k)\n",
    "      else:\n",
    "        # Bonferroni correction\n",
    "        alpha_c = alpha / k\n",
    "\n",
    "      \n",
    "\n",
    "      pvalues = test_over_variables(n_tests, vars, alpha_c, df_1, df_2)\n",
    "      \n",
    "      \n",
    "      # Save results\n",
    "      df_list.append(pd.DataFrame([pvalues], index = [f\"{label_1}_vs_{label_2}\"], columns = vars))\n",
    "      \n",
    "\n",
    "  # Append al results\n",
    "  comparison_df = pd.concat(df_list, axis = 0)\n",
    "\n",
    "  return comparison_df"
   ]
  },
  {
   "cell_type": "code",
   "execution_count": 24,
   "metadata": {},
   "outputs": [
    {
     "name": "stdout",
     "output_type": "stream",
     "text": [
      ">>>>>>>>>>>>>>>>>>>>>>>>>>\n",
      "5_star vs other\n",
      "_____________________________\n",
      "39 t-tests with significance: 0.00064\n",
      "_____________________________\n",
      "Manifestation of underlying effect between groups in vars:\n",
      "release_date -> pvalue: 5.610457231843586e-10\n",
      "english_language -> pvalue: 1.7540050395146672e-85\n",
      "german_language -> pvalue: 2.656213966637664e-27\n",
      "spanish_language -> pvalue: 8.79002699590302e-05\n",
      "japanese_language -> pvalue: 3.950590425348032e-16\n",
      "italian_language -> pvalue: 4.082472246696117e-07\n",
      "tamil_language -> pvalue: 3.895424484145731e-20\n",
      "hindi_language -> pvalue: 4.071868922093976e-07\n",
      "malayalam_language -> pvalue: 1.190153297626772e-10\n",
      "french_language -> pvalue: 1.7122202829155277e-27\n",
      "Action -> pvalue: 1.9207140882829139e-28\n",
      "Adventure -> pvalue: 5.063363819548512e-09\n",
      "Horror -> pvalue: 5.943461371489801e-72\n",
      "Thriller -> pvalue: 2.0003011813193935e-10\n",
      "Drama -> pvalue: 1.0319222445383303e-91\n",
      "Black_and_white -> pvalue: 1.8186680347997783e-25\n",
      "Comedy -> pvalue: 1.241807582296114e-11\n",
      "Indie -> pvalue: 1.2277882425163013e-07\n",
      "Short_Film -> pvalue: 9.942821788939851e-53\n",
      "World_cinema -> pvalue: 1.4413004114663892e-66\n",
      "Musical -> pvalue: 0.00020140381966271962\n",
      "Action/Adventure -> pvalue: 3.407560552789885e-19\n",
      "Romantic_drama -> pvalue: 0.0004241108446002471\n",
      "Documentary -> pvalue: 9.457990623332153e-47\n",
      "united_states_of_america -> pvalue: 4.371200345940175e-95\n",
      "germany -> pvalue: 9.427979317067592e-07\n",
      "japan -> pvalue: 1.3547126430894634e-14\n",
      "france -> pvalue: 3.116231371321207e-19\n",
      "italy -> pvalue: 9.385894007083373e-05\n",
      "india -> pvalue: 3.8666819103200455e-70\n",
      "F_gender -> pvalue: 1.0079619156833896e-14\n",
      "31 / 39 significative results\n"
     ]
    }
   ],
   "source": [
    "test_results = tester(grouped, 'rating', 0.05, correction = 'bonferroni', subtype = 'by_experiment')"
   ]
  },
  {
   "cell_type": "code",
   "execution_count": 26,
   "metadata": {},
   "outputs": [
    {
     "data": {
      "image/png": "[encoded data removed]",
      "text/plain": [
       "<Figure size 1200x400 with 2 Axes>"
      ]
     },
     "metadata": {
      "needs_background": "dark"
     },
     "output_type": "display_data"
    }
   ],
   "source": [
    "plt.figure(figsize = (12, 4), dpi = 100)\n",
    "sns.heatmap(test_results, cmap = \"YlOrBr\", vmin = 0, vmax = 0.0006)\n",
    "plt.title(\"t-test p value\")\n",
    "plt.savefig(path + '../figs/t-test_5star.png')\n",
    "plt.show()"
   ]
  },
  {
   "attachments": {},
   "cell_type": "markdown",
   "metadata": {},
   "source": [
    "We find that all of the 31/39 features are statistically significant, which is unsurprising given their nature. However as this is unhelpful our analysis we sort the features by lowest p-value."
   ]
  },
  {
   "cell_type": "code",
   "execution_count": 27,
   "metadata": {},
   "outputs": [
    {
     "data": {
      "text/html": [
       "<div>\n",
       "<style scoped>\n",
       "    .dataframe tbody tr th:only-of-type {\n",
       "        vertical-align: middle;\n",
       "    }\n",
       "\n",
       "    .dataframe tbody tr th {\n",
       "        vertical-align: top;\n",
       "    }\n",
       "\n",
       "    .dataframe thead th {\n",
       "        text-align: right;\n",
       "    }\n",
       "</style>\n",
       "<table border=\"1\" class=\"dataframe\">\n",
       "  <thead>\n",
       "    <tr style=\"text-align: right;\">\n",
       "      <th></th>\n",
       "      <th>5_star_vs_other</th>\n",
       "    </tr>\n",
       "  </thead>\n",
       "  <tbody>\n",
       "    <tr>\n",
       "      <th>united_states_of_america</th>\n",
       "      <td>4.371200e-95</td>\n",
       "    </tr>\n",
       "    <tr>\n",
       "      <th>Drama</th>\n",
       "      <td>1.031922e-91</td>\n",
       "    </tr>\n",
       "    <tr>\n",
       "      <th>english_language</th>\n",
       "      <td>1.754005e-85</td>\n",
       "    </tr>\n",
       "    <tr>\n",
       "      <th>Horror</th>\n",
       "      <td>5.943461e-72</td>\n",
       "    </tr>\n",
       "    <tr>\n",
       "      <th>india</th>\n",
       "      <td>3.866682e-70</td>\n",
       "    </tr>\n",
       "    <tr>\n",
       "      <th>World_cinema</th>\n",
       "      <td>1.441300e-66</td>\n",
       "    </tr>\n",
       "    <tr>\n",
       "      <th>Short_Film</th>\n",
       "      <td>9.942822e-53</td>\n",
       "    </tr>\n",
       "    <tr>\n",
       "      <th>Documentary</th>\n",
       "      <td>9.457991e-47</td>\n",
       "    </tr>\n",
       "    <tr>\n",
       "      <th>Action</th>\n",
       "      <td>1.920714e-28</td>\n",
       "    </tr>\n",
       "    <tr>\n",
       "      <th>french_language</th>\n",
       "      <td>1.712220e-27</td>\n",
       "    </tr>\n",
       "  </tbody>\n",
       "</table>\n",
       "</div>"
      ],
      "text/plain": [
       "                          5_star_vs_other\n",
       "united_states_of_america     4.371200e-95\n",
       "Drama                        1.031922e-91\n",
       "english_language             1.754005e-85\n",
       "Horror                       5.943461e-72\n",
       "india                        3.866682e-70\n",
       "World_cinema                 1.441300e-66\n",
       "Short_Film                   9.942822e-53\n",
       "Documentary                  9.457991e-47\n",
       "Action                       1.920714e-28\n",
       "french_language              1.712220e-27"
      ]
     },
     "execution_count": 27,
     "metadata": {},
     "output_type": "execute_result"
    }
   ],
   "source": [
    "test_results.T.sort_values('5_star_vs_other').head(10)"
   ]
  },
  {
   "cell_type": "markdown",
   "metadata": {},
   "source": [
    "This already gives us some indication as to which features have a large influence on the rating, however we do not learn anything about the magnitude or the positive/negative nature of the effect. To get this information we evaluate the mean differences on standardized data."
   ]
  },
  {
   "cell_type": "code",
   "execution_count": 28,
   "metadata": {},
   "outputs": [],
   "source": [
    "                # 5 star\n",
    "mean_diff = grouped.mean().iloc[0] - grouped.mean().iloc[1]"
   ]
  },
  {
   "cell_type": "code",
   "execution_count": 30,
   "metadata": {},
   "outputs": [
    {
     "data": {
      "image/png": "[encoded data removed]",
      "text/plain": [
       "<Figure size 800x1200 with 1 Axes>"
      ]
     },
     "metadata": {
      "needs_background": "dark"
     },
     "output_type": "display_data"
    }
   ],
   "source": [
    "plt.figure(figsize= (8,12), dpi = 100)\n",
    "plt.barh(range(len(mean_diff)), mean_diff, color = fig_color)\n",
    "plt.yticks(range(len(mean_diff)), labels = mean_diff.index)\n",
    "plt.grid()\n",
    "plt.xlabel([-0.3,0.3])\n",
    "plt.savefig(path + '../figs/mean_differences_5star.png')\n",
    "plt.show()"
   ]
  },
  {
   "cell_type": "markdown",
   "metadata": {},
   "source": [
    "### Side tangent: gender bias\n",
    "It appears that movies with the highest ratings have a non-negligeable gender bias, i.e. the cast includes a lower proportion of women. To confirm this we compare the bootstrapped confidence intervals of the non-standardized gender proportion data for 5-star and non-5-star movies."
   ]
  },
  {
   "cell_type": "code",
   "execution_count": 31,
   "metadata": {},
   "outputs": [
    {
     "data": {
      "image/png": "[encoded data removed]",
      "text/plain": [
       "<Figure size 1200x400 with 1 Axes>"
      ]
     },
     "metadata": {
      "needs_background": "dark"
     },
     "output_type": "display_data"
    }
   ],
   "source": [
    "plt.figure(figsize = (12, 4), dpi = 100)\n",
    "sns.pointplot(data=stat_data, y=\"rating\", x=\"F_gender\", color = fig_color)\n",
    "plt.savefig(path + '../figs/gender_bias.png')\n",
    "plt.grid()"
   ]
  },
  {
   "cell_type": "markdown",
   "metadata": {},
   "source": [
    "There seems to be indeed a noticeable bias of approximately 3 percentage points in the most critically acclaimed movies."
   ]
  },
  {
   "cell_type": "markdown",
   "metadata": {},
   "source": [
    "Let us now find the 5 most helpful and unhelpful features."
   ]
  },
  {
   "cell_type": "code",
   "execution_count": 32,
   "metadata": {},
   "outputs": [
    {
     "data": {
      "text/plain": [
       "Drama           0.279250\n",
       "india           0.243610\n",
       "World_cinema    0.237185\n",
       "Short_Film      0.210422\n",
       "Documentary     0.197735\n",
       "dtype: float64"
      ]
     },
     "execution_count": 32,
     "metadata": {},
     "output_type": "execute_result"
    }
   ],
   "source": [
    "mean_diff.sort_values(ascending=False).head(5)"
   ]
  },
  {
   "cell_type": "code",
   "execution_count": 33,
   "metadata": {},
   "outputs": [
    {
     "data": {
      "text/plain": [
       "united_states_of_america   -0.284412\n",
       "english_language           -0.269451\n",
       "Horror                     -0.246807\n",
       "Action                     -0.152440\n",
       "Action/Adventure           -0.123443\n",
       "dtype: float64"
      ]
     },
     "execution_count": 33,
     "metadata": {},
     "output_type": "execute_result"
    }
   ],
   "source": [
    "mean_diff.sort_values(ascending=True).head(5)"
   ]
  },
  {
   "cell_type": "markdown",
   "metadata": {},
   "source": [
    "### Effect of language\n",
    "As making the movie in english seems to be the worst choice possible, let us first examine the effect of language with English and French."
   ]
  },
  {
   "cell_type": "code",
   "execution_count": 111,
   "metadata": {},
   "outputs": [
    {
     "data": {
      "image/png": "[encoded data removed]",
      "text/plain": [
       "<Figure size 640x480 with 1 Axes>"
      ]
     },
     "metadata": {},
     "output_type": "display_data"
    }
   ],
   "source": [
    "sns.barplot(data=stat_data, y=\"rating\", x=\"english_language\")\n",
    "plt.grid()"
   ]
  },
  {
   "cell_type": "code",
   "execution_count": 110,
   "metadata": {},
   "outputs": [
    {
     "data": {
      "image/png": "[encoded data removed]",
      "text/plain": [
       "<Figure size 640x480 with 1 Axes>"
      ]
     },
     "metadata": {},
     "output_type": "display_data"
    }
   ],
   "source": [
    "sns.barplot(data=stat_data, y=\"rating\", x=\"french_language\")\n",
    "plt.grid()"
   ]
  },
  {
   "cell_type": "markdown",
   "metadata": {},
   "source": [
    "Our results suggest that movies in French instead of English have a much higher likelihood to receive critical acclaim"
   ]
  },
  {
   "cell_type": "markdown",
   "metadata": {},
   "source": [
    "### Effect of genre\n",
    "As we wish to make the most IMDB-successful movie possible, we will focus on the 4 most positively correlated genres."
   ]
  },
  {
   "cell_type": "code",
   "execution_count": 112,
   "metadata": {},
   "outputs": [
    {
     "data": {
      "image/png": "[encoded data removed]",
      "text/plain": [
       "<Figure size 640x480 with 1 Axes>"
      ]
     },
     "metadata": {},
     "output_type": "display_data"
    }
   ],
   "source": [
    "sns.barplot(data=stat_data, y=\"rating\", x=\"Documentary\")\n",
    "plt.grid()"
   ]
  },
  {
   "cell_type": "code",
   "execution_count": 113,
   "metadata": {},
   "outputs": [
    {
     "data": {
      "image/png": "[encoded data removed]",
      "text/plain": [
       "<Figure size 640x480 with 1 Axes>"
      ]
     },
     "metadata": {},
     "output_type": "display_data"
    }
   ],
   "source": [
    "sns.barplot(data=stat_data, y=\"rating\", x=\"World_cinema\")\n",
    "plt.grid()"
   ]
  },
  {
   "cell_type": "code",
   "execution_count": 116,
   "metadata": {},
   "outputs": [
    {
     "data": {
      "image/png": "[encoded data removed]",
      "text/plain": [
       "<Figure size 640x480 with 1 Axes>"
      ]
     },
     "metadata": {},
     "output_type": "display_data"
    }
   ],
   "source": [
    "sns.barplot(data=stat_data, y=\"rating\", x=\"Drama\")\n",
    "plt.grid()"
   ]
  },
  {
   "cell_type": "code",
   "execution_count": 118,
   "metadata": {},
   "outputs": [
    {
     "data": {
      "image/png": "[encoded data removed]",
      "text/plain": [
       "<Figure size 640x480 with 1 Axes>"
      ]
     },
     "metadata": {},
     "output_type": "display_data"
    }
   ],
   "source": [
    "sns.barplot(data=stat_data, y=\"rating\", x=\"Short_Film\")\n",
    "plt.grid()"
   ]
  },
  {
   "cell_type": "markdown",
   "metadata": {},
   "source": [
    "As the confidence intervals are very distinct, we conclude that documentaries, world cinema, dramas and short films perform better in the IMDB"
   ]
  }
 ],
 "metadata": {
  "colab": {
   "provenance": []
  },
  "kernelspec": {
   "display_name": "Python 3 (ipykernel)",
   "language": "python",
   "name": "python3"
  },
  "language_info": {
   "codemirror_mode": {
    "name": "ipython",
    "version": 3
   },
   "file_extension": ".py",
   "mimetype": "text/x-python",
   "name": "python",
   "nbconvert_exporter": "python",
   "pygments_lexer": "ipython3",
   "version": "3.8.8"
  },
  "vscode": {
   "interpreter": {
    "hash": "bddb6c94227d8177e61600db041b4cc1c87a884063126e29a3bfd540ed5196fb"
   }
  }
 },
 "nbformat": 4,
 "nbformat_minor": 4
}
